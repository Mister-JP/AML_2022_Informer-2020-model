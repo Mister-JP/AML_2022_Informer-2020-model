{
 "cells": [
  {
   "cell_type": "markdown",
   "metadata": {
    "id": "5IM6CZzW_CH0"
   },
   "source": [
    "# Informer Demo"
   ]
  },
  {
   "cell_type": "markdown",
   "metadata": {
    "id": "kdaIHYx4_ECL"
   },
   "source": [
    "## Download code and dataset"
   ]
  },
  {
   "cell_type": "code",
   "execution_count": 1,
   "metadata": {
    "colab": {
     "base_uri": "https://localhost:8080/"
    },
    "id": "SA_i2gbl-rn-",
    "outputId": "09a8dca2-a8f0-40f0-9473-56ad4b27adf9"
   },
   "outputs": [],
   "source": [
    "# !git clone https://github.com/zhouhaoyi/Informer2020.git\n",
    "# !git clone https://github.com/zhouhaoyi/ETDataset.git\n",
    "# !ls"
   ]
  },
  {
   "cell_type": "code",
   "execution_count": 2,
   "metadata": {
    "id": "b5GFng7v7Eq0"
   },
   "outputs": [],
   "source": [
    "import sys\n",
    "if not 'Informer2020' in sys.path:\n",
    "    sys.path += ['Informer2020']"
   ]
  },
  {
   "cell_type": "code",
   "execution_count": 3,
   "metadata": {
    "id": "YW9TS6jp_YXc"
   },
   "outputs": [],
   "source": [
    "# !pip install -r ./Informer2020/requirements.txt"
   ]
  },
  {
   "cell_type": "markdown",
   "metadata": {
    "id": "rIjZdN5e_SWe"
   },
   "source": [
    "## Experiments: Train and Test"
   ]
  },
  {
   "cell_type": "code",
   "execution_count": 4,
   "metadata": {
    "id": "RPdt-Kwc_RRZ"
   },
   "outputs": [],
   "source": [
    "from utils.tools import dotdict\n",
    "from exp.exp_informer import Exp_Informer\n",
    "import torch"
   ]
  },
  {
   "cell_type": "code",
   "execution_count": 5,
   "metadata": {
    "id": "6mx2dnwY9dWi"
   },
   "outputs": [],
   "source": [
    "args = dotdict()\n",
    "\n",
    "args.model = 'informer' # model of experiment, options: [informer, informerstack, informerlight(TBD)]\n",
    "\n",
    "args.data = 'ETTh1' # data\n",
    "args.data = 'custom' # data\n",
    "args.root_path = './ETDataset/ETT-small/' # root path of data file\n",
    "args.root_path = 'data' # root path of data file\n",
    "args.data_path = 'ETTh1.csv' # data file\n",
    "args.data_path = '102_Close_diff_perc_nrm.csv' # data file\n",
    "args.features = 'MS' # forecasting task, options:[M, S, MS]; M:multivariate predict multivariate, S:univariate predict univariate, MS:multivariate predict univariate\n",
    "args.target = 'Close' # target feature in S or MS task\n",
    "args.freq = 'd' # freq for time features encoding, options:[s:secondly, t:minutely, h:hourly, d:daily, b:business days, w:weekly, m:monthly], you can also use more detailed freq like 15min or 3h\n",
    "args.checkpoints = './informer_checkpoints' # location of model checkpoints\n",
    "\n",
    "args.seq_len = 100 # input sequence length of Informer encoder\n",
    "args.label_len = 100 # start token length of Informer decoder\n",
    "args.pred_len = 50 # prediction sequence length\n",
    "# Informer decoder input: concat[start token series(label_len), zero padding series(pred_len)]\n",
    "\n",
    "args.enc_in = 7 # encoder input size\n",
    "args.enc_in = 100 # encoder input size\n",
    "args.dec_in = 7 # decoder input size\n",
    "args.dec_in = 100 # decoder input size\n",
    "args.c_out = 7 # output size\n",
    "args.c_out = 100 # output size\n",
    "args.factor = 5 # probsparse attn factor\n",
    "args.d_model = 512 # dimension of model\n",
    "# args.d_model = 2512 # dimension of model\n",
    "args.n_heads = 10 # num of heads\n",
    "args.e_layers = 4 # num of encoder layers\n",
    "args.d_layers = 2 # num of decoder layers\n",
    "args.d_ff = 2048 # dimension of fcn in model\n",
    "args.dropout = 0.05 # dropout\n",
    "args.attn = 'prob' # attention used in encoder, options:[prob, full]\n",
    "args.embed = 'timeF' # time features encoding, options:[timeF, fixed, learned]\n",
    "args.activation = 'gelu' # activation\n",
    "args.distil = True # whether to use distilling in encoder\n",
    "args.output_attention = False # whether to output attention in ecoder\n",
    "args.mix = True\n",
    "args.padding = 0\n",
    "args.freq = 'd'\n",
    "\n",
    "args.batch_size = 32 \n",
    "args.learning_rate = 0.0001\n",
    "args.loss = 'mse'\n",
    "args.lradj = 'type1'\n",
    "args.use_amp = False # whether to use automatic mixed precision training\n",
    "\n",
    "args.num_workers = 0\n",
    "args.itr = 1\n",
    "args.train_epochs = 4\n",
    "args.patience = 5\n",
    "args.des = 'exp'\n",
    "\n",
    "args.use_gpu = True if torch.cuda.is_available() else False\n",
    "args.gpu = 0\n",
    "\n",
    "args.use_multi_gpu = False\n",
    "args.devices = '0,1,2,3'\n"
   ]
  },
  {
   "cell_type": "code",
   "execution_count": 6,
   "metadata": {
    "id": "k_BCYODAwKl9"
   },
   "outputs": [],
   "source": [
    "args.use_gpu = True if torch.cuda.is_available() and args.use_gpu else False\n",
    "\n",
    "if args.use_gpu and args.use_multi_gpu:\n",
    "    args.devices = args.devices.replace(' ','')\n",
    "    device_ids = args.devices.split(',')\n",
    "    args.device_ids = [int(id_) for id_ in device_ids]\n",
    "    args.gpu = args.device_ids[0]"
   ]
  },
  {
   "cell_type": "code",
   "execution_count": 7,
   "metadata": {
    "id": "53o3pZ809p-a"
   },
   "outputs": [],
   "source": [
    "# Set augments by using data name\n",
    "data_parser = {\n",
    "    'ETTh1':{'data':'ETTh1.csv','T':'OT','M':[7,7,7],'S':[1,1,1],'MS':[7,7,1]},\n",
    "    'ETTh2':{'data':'ETTh2.csv','T':'OT','M':[7,7,7],'S':[1,1,1],'MS':[7,7,1]},\n",
    "    'ETTm1':{'data':'ETTm1.csv','T':'OT','M':[7,7,7],'S':[1,1,1],'MS':[7,7,1]},\n",
    "    'ETTm2':{'data':'ETTm2.csv','T':'OT','M':[7,7,7],'S':[1,1,1],'MS':[7,7,1]},\n",
    "    'custom':{'data':'102_Close_diff_perc_nrm.csv','T':'Close_diff_perc','M':[104,104,104],'S':[1,1,1],'MS':[104,104,1]},\n",
    "}\n",
    "if args.data in data_parser.keys():\n",
    "    data_info = data_parser[args.data]\n",
    "    args.data_path = data_info['data']\n",
    "    args.target = data_info['T']\n",
    "    args.enc_in, args.dec_in, args.c_out = data_info[args.features]"
   ]
  },
  {
   "cell_type": "code",
   "execution_count": 8,
   "metadata": {
    "id": "yZ5Q2vyKwSfk"
   },
   "outputs": [],
   "source": [
    "args.detail_freq = args.freq\n",
    "args.freq = args.freq[-1:]"
   ]
  },
  {
   "cell_type": "code",
   "execution_count": 9,
   "metadata": {
    "colab": {
     "base_uri": "https://localhost:8080/"
    },
    "id": "ywY-umrw-mHO",
    "outputId": "2618b6c1-eb39-430b-e1f6-64e621f7a34d"
   },
   "outputs": [
    {
     "name": "stdout",
     "output_type": "stream",
     "text": [
      "Args in experiment:\n",
      "{'model': 'informer', 'data': 'custom', 'root_path': 'data', 'data_path': '102_Close_diff_perc_nrm.csv', 'features': 'MS', 'target': 'Close_diff_perc', 'freq': 'd', 'checkpoints': './informer_checkpoints', 'seq_len': 100, 'label_len': 100, 'pred_len': 50, 'enc_in': 104, 'dec_in': 104, 'c_out': 1, 'factor': 5, 'd_model': 512, 'n_heads': 10, 'e_layers': 4, 'd_layers': 2, 'd_ff': 2048, 'dropout': 0.05, 'attn': 'prob', 'embed': 'timeF', 'activation': 'gelu', 'distil': True, 'output_attention': False, 'mix': True, 'padding': 0, 'batch_size': 32, 'learning_rate': 0.0001, 'loss': 'mse', 'lradj': 'type1', 'use_amp': False, 'num_workers': 0, 'itr': 1, 'train_epochs': 4, 'patience': 5, 'des': 'exp', 'use_gpu': False, 'gpu': 0, 'use_multi_gpu': False, 'devices': '0,1,2,3', 'detail_freq': 'd'}\n"
     ]
    }
   ],
   "source": [
    "print('Args in experiment:')\n",
    "print(args)"
   ]
  },
  {
   "cell_type": "code",
   "execution_count": 10,
   "metadata": {
    "id": "KVHZhRB4-on9"
   },
   "outputs": [],
   "source": [
    "Exp = Exp_Informer"
   ]
  },
  {
   "cell_type": "code",
   "execution_count": 11,
   "metadata": {},
   "outputs": [],
   "source": [
    "setting = '102_close_diff_perc_nrm_{}_{}_ft{}_sl{}_ll{}_pl{}_dm{}_nh{}_el{}_dl{}_df{}_at{}_fc{}_eb{}_dt{}_mx{}_{}_{}'.format(args.model, args.data, args.features, \n",
    "                args.seq_len, args.label_len, args.pred_len,\n",
    "                args.d_model, args.n_heads, args.e_layers, args.d_layers, args.d_ff, args.attn, args.factor, args.embed, args.distil, args.mix, args.des, 0)"
   ]
  },
  {
   "cell_type": "code",
   "execution_count": 12,
   "metadata": {
    "colab": {
     "base_uri": "https://localhost:8080/",
     "height": 835
    },
    "id": "928tzaA2AA2g",
    "outputId": "4c12a6f6-3c31-401a-ef6a-b034da388593"
   },
   "outputs": [
    {
     "name": "stdout",
     "output_type": "stream",
     "text": [
      "Use CPU\n",
      ">>>>>>>start training : 102_close_diff_perc_nrm_informer_custom_ftMS_sl100_ll100_pl50_dm512_nh10_el4_dl2_df2048_atprob_fc5_ebtimeF_dtTrue_mxTrue_exp_0>>>>>>>>>>>>>>>>>>>>>>>>>>\n",
      "data_path ->  102_Close_diff_perc_nrm.csv\n",
      "scaling\n",
      "data_path ->  102_Close_diff_perc_nrm.csv\n",
      "scaling\n",
      "data_path ->  102_Close_diff_perc_nrm.csv\n",
      "scaling\n",
      "loss ->  tensor(0.5168, grad_fn=<MeanBackward0>)\n",
      "loss ->  tensor(1.1438, grad_fn=<MeanBackward0>)\n",
      "loss ->  tensor(0.5415, grad_fn=<MeanBackward0>)\n",
      "loss ->  tensor(0.4504, grad_fn=<MeanBackward0>)\n",
      "loss ->  tensor(0.4600, grad_fn=<MeanBackward0>)\n",
      "loss ->  tensor(0.2844, grad_fn=<MeanBackward0>)\n",
      "loss ->  tensor(0.2441, grad_fn=<MeanBackward0>)\n",
      "loss ->  tensor(0.2692, grad_fn=<MeanBackward0>)\n",
      "loss ->  tensor(0.2462, grad_fn=<MeanBackward0>)\n",
      "loss ->  tensor(0.2005, grad_fn=<MeanBackward0>)\n",
      "loss ->  tensor(0.1997, grad_fn=<MeanBackward0>)\n",
      "loss ->  tensor(0.1997, grad_fn=<MeanBackward0>)\n",
      "loss ->  tensor(0.1962, grad_fn=<MeanBackward0>)\n",
      "loss ->  tensor(0.1723, grad_fn=<MeanBackward0>)\n",
      "loss ->  tensor(0.1700, grad_fn=<MeanBackward0>)\n",
      "loss ->  tensor(0.1785, grad_fn=<MeanBackward0>)\n",
      "loss ->  tensor(0.1691, grad_fn=<MeanBackward0>)\n",
      "loss ->  tensor(0.1384, grad_fn=<MeanBackward0>)\n",
      "loss ->  tensor(0.1517, grad_fn=<MeanBackward0>)\n",
      "loss ->  tensor(0.1425, grad_fn=<MeanBackward0>)\n",
      "loss ->  tensor(0.1498, grad_fn=<MeanBackward0>)\n",
      "loss ->  tensor(0.1385, grad_fn=<MeanBackward0>)\n",
      "loss ->  tensor(0.1308, grad_fn=<MeanBackward0>)\n",
      "loss ->  tensor(0.1313, grad_fn=<MeanBackward0>)\n",
      "loss ->  tensor(0.1319, grad_fn=<MeanBackward0>)\n",
      "loss ->  tensor(0.1339, grad_fn=<MeanBackward0>)\n",
      "loss ->  tensor(0.1382, grad_fn=<MeanBackward0>)\n",
      "loss ->  tensor(0.1225, grad_fn=<MeanBackward0>)\n",
      "loss ->  tensor(0.1275, grad_fn=<MeanBackward0>)\n",
      "loss ->  tensor(0.1157, grad_fn=<MeanBackward0>)\n",
      "loss ->  tensor(0.1337, grad_fn=<MeanBackward0>)\n",
      "loss ->  tensor(0.1246, grad_fn=<MeanBackward0>)\n",
      "loss ->  tensor(0.1323, grad_fn=<MeanBackward0>)\n",
      "loss ->  tensor(0.1235, grad_fn=<MeanBackward0>)\n",
      "loss ->  tensor(0.1183, grad_fn=<MeanBackward0>)\n",
      "loss ->  tensor(0.1162, grad_fn=<MeanBackward0>)\n",
      "loss ->  tensor(0.1274, grad_fn=<MeanBackward0>)\n",
      "loss ->  tensor(0.1170, grad_fn=<MeanBackward0>)\n",
      "Epoch: 1 cost time: 73.95441508293152\n",
      "Epoch: 1, Steps: 38 | Train Loss: 0.2207472 Vali Loss: 0.0900206 Test Loss: 0.1678650\n",
      "Validation loss decreased (inf --> 0.090021).  Saving model ...\n",
      "Updating learning rate to 0.0001\n",
      "loss ->  tensor(0.1166, grad_fn=<MeanBackward0>)\n",
      "loss ->  tensor(0.1200, grad_fn=<MeanBackward0>)\n",
      "loss ->  tensor(0.1074, grad_fn=<MeanBackward0>)\n",
      "loss ->  tensor(0.1211, grad_fn=<MeanBackward0>)\n",
      "loss ->  tensor(0.1106, grad_fn=<MeanBackward0>)\n",
      "loss ->  tensor(0.1170, grad_fn=<MeanBackward0>)\n",
      "loss ->  tensor(0.1116, grad_fn=<MeanBackward0>)\n",
      "loss ->  tensor(0.1127, grad_fn=<MeanBackward0>)\n",
      "loss ->  tensor(0.1125, grad_fn=<MeanBackward0>)\n",
      "loss ->  tensor(0.1056, grad_fn=<MeanBackward0>)\n",
      "loss ->  tensor(0.1055, grad_fn=<MeanBackward0>)\n",
      "loss ->  tensor(0.1134, grad_fn=<MeanBackward0>)\n",
      "loss ->  tensor(0.1160, grad_fn=<MeanBackward0>)\n",
      "loss ->  tensor(0.1079, grad_fn=<MeanBackward0>)\n",
      "loss ->  tensor(0.0999, grad_fn=<MeanBackward0>)\n",
      "loss ->  tensor(0.1014, grad_fn=<MeanBackward0>)\n",
      "loss ->  tensor(0.1100, grad_fn=<MeanBackward0>)\n",
      "loss ->  tensor(0.1069, grad_fn=<MeanBackward0>)\n",
      "loss ->  tensor(0.1055, grad_fn=<MeanBackward0>)\n",
      "loss ->  tensor(0.0982, grad_fn=<MeanBackward0>)\n",
      "loss ->  tensor(0.0923, grad_fn=<MeanBackward0>)\n",
      "loss ->  tensor(0.1008, grad_fn=<MeanBackward0>)\n",
      "loss ->  tensor(0.1062, grad_fn=<MeanBackward0>)\n",
      "loss ->  tensor(0.0928, grad_fn=<MeanBackward0>)\n",
      "loss ->  tensor(0.0955, grad_fn=<MeanBackward0>)\n",
      "loss ->  tensor(0.1050, grad_fn=<MeanBackward0>)\n",
      "loss ->  tensor(0.0958, grad_fn=<MeanBackward0>)\n",
      "loss ->  tensor(0.0929, grad_fn=<MeanBackward0>)\n",
      "loss ->  tensor(0.1099, grad_fn=<MeanBackward0>)\n",
      "loss ->  tensor(0.0937, grad_fn=<MeanBackward0>)\n",
      "loss ->  tensor(0.1025, grad_fn=<MeanBackward0>)\n",
      "loss ->  tensor(0.0987, grad_fn=<MeanBackward0>)\n",
      "loss ->  tensor(0.1065, grad_fn=<MeanBackward0>)\n",
      "loss ->  tensor(0.1085, grad_fn=<MeanBackward0>)\n",
      "loss ->  tensor(0.1059, grad_fn=<MeanBackward0>)\n",
      "loss ->  tensor(0.1039, grad_fn=<MeanBackward0>)\n",
      "loss ->  tensor(0.0985, grad_fn=<MeanBackward0>)\n",
      "loss ->  tensor(0.0976, grad_fn=<MeanBackward0>)\n",
      "Epoch: 2 cost time: 73.71430587768555\n",
      "Epoch: 2, Steps: 38 | Train Loss: 0.1054332 Vali Loss: 0.0774291 Test Loss: 0.1630285\n",
      "Validation loss decreased (0.090021 --> 0.077429).  Saving model ...\n",
      "Updating learning rate to 5e-05\n",
      "loss ->  tensor(0.0950, grad_fn=<MeanBackward0>)\n",
      "loss ->  tensor(0.0963, grad_fn=<MeanBackward0>)\n",
      "loss ->  tensor(0.1031, grad_fn=<MeanBackward0>)\n",
      "loss ->  tensor(0.0905, grad_fn=<MeanBackward0>)\n",
      "loss ->  tensor(0.0978, grad_fn=<MeanBackward0>)\n",
      "loss ->  tensor(0.0904, grad_fn=<MeanBackward0>)\n",
      "loss ->  tensor(0.0941, grad_fn=<MeanBackward0>)\n",
      "loss ->  tensor(0.0964, grad_fn=<MeanBackward0>)\n",
      "loss ->  tensor(0.1089, grad_fn=<MeanBackward0>)\n",
      "loss ->  tensor(0.0892, grad_fn=<MeanBackward0>)\n",
      "loss ->  tensor(0.1003, grad_fn=<MeanBackward0>)\n",
      "loss ->  tensor(0.0927, grad_fn=<MeanBackward0>)\n",
      "loss ->  tensor(0.0940, grad_fn=<MeanBackward0>)\n",
      "loss ->  tensor(0.0882, grad_fn=<MeanBackward0>)\n",
      "loss ->  tensor(0.0880, grad_fn=<MeanBackward0>)\n",
      "loss ->  tensor(0.0958, grad_fn=<MeanBackward0>)\n",
      "loss ->  tensor(0.0807, grad_fn=<MeanBackward0>)\n",
      "loss ->  tensor(0.0962, grad_fn=<MeanBackward0>)\n",
      "loss ->  tensor(0.0964, grad_fn=<MeanBackward0>)\n",
      "loss ->  tensor(0.0954, grad_fn=<MeanBackward0>)\n",
      "loss ->  tensor(0.1016, grad_fn=<MeanBackward0>)\n",
      "loss ->  tensor(0.0912, grad_fn=<MeanBackward0>)\n",
      "loss ->  tensor(0.0841, grad_fn=<MeanBackward0>)\n",
      "loss ->  tensor(0.0963, grad_fn=<MeanBackward0>)\n",
      "loss ->  tensor(0.0842, grad_fn=<MeanBackward0>)\n",
      "loss ->  tensor(0.0874, grad_fn=<MeanBackward0>)\n",
      "loss ->  tensor(0.1003, grad_fn=<MeanBackward0>)\n",
      "loss ->  tensor(0.0943, grad_fn=<MeanBackward0>)\n",
      "loss ->  tensor(0.0918, grad_fn=<MeanBackward0>)\n",
      "loss ->  tensor(0.0955, grad_fn=<MeanBackward0>)\n",
      "loss ->  tensor(0.0904, grad_fn=<MeanBackward0>)\n",
      "loss ->  tensor(0.0952, grad_fn=<MeanBackward0>)\n",
      "loss ->  tensor(0.0899, grad_fn=<MeanBackward0>)\n",
      "loss ->  tensor(0.1095, grad_fn=<MeanBackward0>)\n",
      "loss ->  tensor(0.0895, grad_fn=<MeanBackward0>)\n",
      "loss ->  tensor(0.0890, grad_fn=<MeanBackward0>)\n",
      "loss ->  tensor(0.0913, grad_fn=<MeanBackward0>)\n",
      "loss ->  tensor(0.0936, grad_fn=<MeanBackward0>)\n",
      "Epoch: 3 cost time: 72.5563280582428\n",
      "Epoch: 3, Steps: 38 | Train Loss: 0.0938039 Vali Loss: 0.0752099 Test Loss: 0.1612625\n",
      "Validation loss decreased (0.077429 --> 0.075210).  Saving model ...\n",
      "Updating learning rate to 2.5e-05\n",
      "loss ->  tensor(0.0863, grad_fn=<MeanBackward0>)\n",
      "loss ->  tensor(0.0871, grad_fn=<MeanBackward0>)\n",
      "loss ->  tensor(0.0942, grad_fn=<MeanBackward0>)\n",
      "loss ->  tensor(0.1035, grad_fn=<MeanBackward0>)\n",
      "loss ->  tensor(0.0913, grad_fn=<MeanBackward0>)\n",
      "loss ->  tensor(0.0947, grad_fn=<MeanBackward0>)\n",
      "loss ->  tensor(0.0890, grad_fn=<MeanBackward0>)\n",
      "loss ->  tensor(0.0906, grad_fn=<MeanBackward0>)\n",
      "loss ->  tensor(0.0924, grad_fn=<MeanBackward0>)\n",
      "loss ->  tensor(0.0926, grad_fn=<MeanBackward0>)\n",
      "loss ->  tensor(0.0922, grad_fn=<MeanBackward0>)\n",
      "loss ->  tensor(0.0904, grad_fn=<MeanBackward0>)\n",
      "loss ->  tensor(0.1029, grad_fn=<MeanBackward0>)\n",
      "loss ->  tensor(0.0971, grad_fn=<MeanBackward0>)\n",
      "loss ->  tensor(0.0911, grad_fn=<MeanBackward0>)\n",
      "loss ->  tensor(0.0930, grad_fn=<MeanBackward0>)\n",
      "loss ->  tensor(0.0831, grad_fn=<MeanBackward0>)\n",
      "loss ->  tensor(0.0900, grad_fn=<MeanBackward0>)\n",
      "loss ->  tensor(0.0880, grad_fn=<MeanBackward0>)\n",
      "loss ->  tensor(0.0942, grad_fn=<MeanBackward0>)\n",
      "loss ->  tensor(0.0889, grad_fn=<MeanBackward0>)\n",
      "loss ->  tensor(0.0818, grad_fn=<MeanBackward0>)\n",
      "loss ->  tensor(0.0904, grad_fn=<MeanBackward0>)\n",
      "loss ->  tensor(0.0908, grad_fn=<MeanBackward0>)\n",
      "loss ->  tensor(0.0860, grad_fn=<MeanBackward0>)\n",
      "loss ->  tensor(0.0885, grad_fn=<MeanBackward0>)\n",
      "loss ->  tensor(0.0841, grad_fn=<MeanBackward0>)\n",
      "loss ->  tensor(0.0881, grad_fn=<MeanBackward0>)\n",
      "loss ->  tensor(0.0939, grad_fn=<MeanBackward0>)\n",
      "loss ->  tensor(0.0898, grad_fn=<MeanBackward0>)\n",
      "loss ->  tensor(0.0879, grad_fn=<MeanBackward0>)\n",
      "loss ->  tensor(0.0920, grad_fn=<MeanBackward0>)\n",
      "loss ->  tensor(0.0852, grad_fn=<MeanBackward0>)\n",
      "loss ->  tensor(0.0923, grad_fn=<MeanBackward0>)\n",
      "loss ->  tensor(0.0857, grad_fn=<MeanBackward0>)\n",
      "loss ->  tensor(0.0887, grad_fn=<MeanBackward0>)\n",
      "loss ->  tensor(0.0825, grad_fn=<MeanBackward0>)\n",
      "loss ->  tensor(0.0868, grad_fn=<MeanBackward0>)\n",
      "Epoch: 4 cost time: 63.08448028564453\n",
      "Epoch: 4, Steps: 38 | Train Loss: 0.0901795 Vali Loss: 0.0763826 Test Loss: 0.1626702\n",
      "EarlyStopping counter: 1 out of 5\n",
      "Updating learning rate to 1.25e-05\n",
      ">>>>>>>testing : 102_close_diff_perc_nrm_informer_custom_ftMS_sl100_ll100_pl50_dm512_nh10_el4_dl2_df2048_atprob_fc5_ebtimeF_dtTrue_mxTrue_exp_0<<<<<<<<<<<<<<<<<<<<<<<<<<<<<<<<<\n",
      "data_path ->  102_Close_diff_perc_nrm.csv\n",
      "scaling\n",
      "test shape: (3, 32, 50, 1) (3, 32, 50, 1)\n",
      "test shape: (96, 50, 1) (96, 50, 1)\n",
      "mse:0.04613710567355156, mae:0.16118444502353668\n"
     ]
    }
   ],
   "source": [
    "for ii in range(args.itr):\n",
    "    # setting record of experiments\n",
    "    \n",
    "\n",
    "    # set experiments\n",
    "    exp = Exp(args)\n",
    "    \n",
    "    # train\n",
    "    print('>>>>>>>start training : {}>>>>>>>>>>>>>>>>>>>>>>>>>>'.format(setting))\n",
    "    exp.train(setting)\n",
    "    \n",
    "    # test\n",
    "    print('>>>>>>>testing : {}<<<<<<<<<<<<<<<<<<<<<<<<<<<<<<<<<'.format(setting))\n",
    "    exp.test(setting)\n",
    "\n",
    "    torch.cuda.empty_cache()"
   ]
  },
  {
   "cell_type": "code",
   "execution_count": 13,
   "metadata": {},
   "outputs": [
    {
     "name": "stdout",
     "output_type": "stream",
     "text": [
      "data_path ->  102_Close_diff_perc_nrm.csv\n",
      "scaling\n",
      "0\n",
      "torch.Size([32, 150, 103])\n",
      "1\n",
      "torch.Size([32, 150, 103])\n",
      "2\n",
      "torch.Size([32, 150, 103])\n"
     ]
    }
   ],
   "source": [
    "test_data, test_loader = exp._get_data(flag='test')\n",
    "# print(testloader.shape)\n",
    "for i, (batch_x,batch_y,batch_x_mark,batch_y_mark) in enumerate(test_loader):\n",
    "    print(i)\n",
    "    print(batch_y.shape)"
   ]
  },
  {
   "cell_type": "markdown",
   "metadata": {
    "id": "CDHF-HerAE3u"
   },
   "source": [
    "## Prediction"
   ]
  },
  {
   "cell_type": "code",
   "execution_count": 14,
   "metadata": {
    "id": "s0YI1zx6ACiz"
   },
   "outputs": [],
   "source": [
    "import os\n",
    "\n",
    "# set saved model path\n",
    "# setting = 'informer_ETTh1_ftM_sl96_ll48_pl24_dm512_nh8_el2_dl1_df2048_atprob_fc5_ebtimeF_dtTrue_mxTrue_exp_0'\n",
    "# setting = 'informer_custom_ftS_sl96_ll48_pl24_dm512_nh8_el2_dl1_df2048_atprob_fc5_ebtimeF_dtTrue_mxTrue_exp_0'\n",
    "# setting = 'informer_custom_ftMS_sl96_ll48_pl24_dm512_nh8_el2_dl1_df2048_atprob_fc5_ebtimeF_dtTrue_mxTrue_exp_0'\n",
    "# setting = 'informer_custom_ftMS_sl150_ll90_pl15_dm512_nh8_el2_dl1_df2048_atprob_fc5_ebtimeF_dtTrue_mxTrue_exp_0'\n",
    "# setting = 'informer_custom_ftMS_sl20_ll10_pl24_dm512_nh8_el2_dl1_df2048_atprob_fc5_ebtimeF_dtTrue_mxTrue_exp_0'\n",
    "# setting = 'informer_custom_ftMS_sl200_ll100_pl30_dm512_nh8_el2_dl1_df2048_atprob_fc5_ebtimeF_dtTrue_mxTrue_exp_0'\n",
    "# setting = 'informer_custom_ftMS_sl200_ll100_pl30_dm512_nh58_el2_dl1_df2048_atprob_fc5_ebtimeF_dtTrue_mxTrue_exp_0'\n",
    "# setting = 'informer_custom_ftMS_sl200_ll100_pl30_dm512_nh58_el2_dl1_df2048_atprob_fc5_ebtimeF_dtTrue_mxTrue_exp_0'\n",
    "# setting = 'informer_custom_ftMS_sl200_ll100_pl30_dm2512_nh58_el2_dl1_df2048_atprob_fc5_ebtimeF_dtTrue_mxTrue_exp_0'\n",
    "# setting = 'informer_custom_ftMS_sl200_ll100_pl30_dm2512_nh58_el2_dl1_df2048_atprob_fc5_ebtimeF_dtTrue_mxTrue_exp_0'\n",
    "# setting = 'informer_custom_ftMS_sl200_ll100_pl10_dm3512_nh58_el2_dl1_df2048_atprob_fc5_ebtimeF_dtTrue_mxTrue_exp_0'\n",
    "# setting = 'informer_custom_ftMS_sl200_ll200_pl50_dm3512_nh58_el2_dl1_df2048_atprob_fc5_ebtimeF_dtTrue_mxTrue_exp_0'\n",
    "# setting = 'informer_custom_ftMS_sl400_ll400_pl100_dm2512_nh10_el4_dl2_df2048_atprob_fc5_ebtimeF_dtTrue_mxTrue_exp_0'\n",
    "# setting = 'informer_custom_ftMS_sl100_ll100_pl50_dm2512_nh10_el4_dl2_df2048_atprob_fc5_ebtimeF_dtTrue_mxTrue_exp_0'\n",
    "# setting = 'informer_custom_ftMS_sl100_ll100_pl50_dm512_nh10_el4_dl2_df2048_atprob_fc5_ebtimeF_dtTrue_mxTrue_exp_0'\n",
    "path = os.path.join(args.checkpoints,setting,'checkpoint.pth')"
   ]
  },
  {
   "cell_type": "code",
   "execution_count": 15,
   "metadata": {
    "id": "nTkluNNcyMJt"
   },
   "outputs": [
    {
     "name": "stdout",
     "output_type": "stream",
     "text": [
      "Use CPU\n",
      "datapath ==  102_Close_diff_perc_nrm.csv\n",
      "pred_loader length\n",
      "1\n",
      "torch.Size([1, 100, 103])\n"
     ]
    }
   ],
   "source": [
    "# If you already have a trained model, you can set the arguments and model path, then initialize a Experiment and use it to predict\n",
    "# Prediction is a sequence which is adjacent to the last date of the data, and does not exist in the data\n",
    "# If you want to get more information about prediction, you can refer to code `exp/exp_informer.py function predict()` and `data/data_loader.py class Dataset_Pred`\n",
    "\n",
    "exp = Exp(args)\n",
    "\n",
    "exp.predict(setting, True)"
   ]
  },
  {
   "cell_type": "code",
   "execution_count": 16,
   "metadata": {
    "colab": {
     "base_uri": "https://localhost:8080/"
    },
    "id": "KBCPbjGuzAZb",
    "outputId": "f8813326-2d20-4719-831c-cf7494cd3180"
   },
   "outputs": [
    {
     "data": {
      "text/plain": [
       "(1, 50, 1)"
      ]
     },
     "execution_count": 16,
     "metadata": {},
     "output_type": "execute_result"
    }
   ],
   "source": [
    "  # the prediction will be saved in ./results/{setting}/real_prediction.npy\n",
    "import numpy as np\n",
    "\n",
    "\n",
    "prediction = np.load('./results/'+setting+'/real_prediction.npy')\n",
    "\n",
    "prediction.shape"
   ]
  },
  {
   "cell_type": "markdown",
   "metadata": {
    "id": "5yFuVkTV30_j"
   },
   "source": [
    "### More details about Prediction - prediction function"
   ]
  },
  {
   "cell_type": "code",
   "execution_count": 17,
   "metadata": {
    "id": "Sv9AR_Aw030r"
   },
   "outputs": [],
   "source": [
    "# here is the detailed code of function predict\n",
    "\n",
    "def predict(exp, setting, load=False):\n",
    "    pred_data, pred_loader = exp._get_data(flag='pred')\n",
    "        \n",
    "    if load:\n",
    "        path = os.path.join(exp.args.checkpoints, setting)\n",
    "        best_model_path = path+'/'+'checkpoint.pth'\n",
    "        exp.model.load_state_dict(torch.load(best_model_path))\n",
    "\n",
    "    exp.model.eval()\n",
    "        \n",
    "    preds = []\n",
    "        \n",
    "    for i, (batch_x,batch_y,batch_x_mark,batch_y_mark) in enumerate(pred_loader):\n",
    "        batch_x = batch_x.float().to(exp.device)\n",
    "        batch_y = batch_y.float()\n",
    "        print(batch_y.shape)\n",
    "        batch_x_mark = batch_x_mark.float().to(exp.device)\n",
    "        batch_y_mark = batch_y_mark.float().to(exp.device)\n",
    "\n",
    "        # decoder input\n",
    "        if exp.args.padding==0:\n",
    "            dec_inp = torch.zeros([batch_y.shape[0], exp.args.pred_len, batch_y.shape[-1]]).float()\n",
    "        elif exp.args.padding==1:\n",
    "            dec_inp = torch.ones([batch_y.shape[0], exp.args.pred_len, batch_y.shape[-1]]).float()\n",
    "        else:\n",
    "            dec_inp = torch.zeros([batch_y.shape[0], exp.args.pred_len, batch_y.shape[-1]]).float()\n",
    "        dec_inp = torch.cat([batch_y[:,:exp.args.label_len,:], dec_inp], dim=1).float().to(exp.device)\n",
    "        # encoder - decoder\n",
    "        if exp.args.use_amp:\n",
    "            with torch.cuda.amp.autocast():\n",
    "                if exp.args.output_attention:\n",
    "                    outputs = exp.model(batch_x, batch_x_mark, dec_inp, batch_y_mark)[0]\n",
    "                else:\n",
    "                    outputs = exp.model(batch_x, batch_x_mark, dec_inp, batch_y_mark)\n",
    "        else:\n",
    "            if exp.args.output_attention:\n",
    "                outputs = exp.model(batch_x, batch_x_mark, dec_inp, batch_y_mark)[0]\n",
    "            else:\n",
    "                outputs = exp.model(batch_x, batch_x_mark, dec_inp, batch_y_mark)\n",
    "        f_dim = -1 if exp.args.features=='MS' else 0\n",
    "        batch_y = batch_y[:,-exp.args.pred_len:,f_dim:].to(exp.device)\n",
    "        \n",
    "        pred = outputs.detach().cpu().numpy()#.squeeze()\n",
    "        \n",
    "        preds.append(pred)\n",
    "\n",
    "    preds = np.array(preds)\n",
    "    preds = preds.reshape(-1, preds.shape[-2], preds.shape[-1])\n",
    "    \n",
    "    # result save\n",
    "    folder_path = './results/' + setting +'/'\n",
    "    if not os.path.exists(folder_path):\n",
    "        os.makedirs(folder_path)\n",
    "    \n",
    "    np.save(folder_path+'real_prediction.npy', preds)\n",
    "    \n",
    "    return preds\n"
   ]
  },
  {
   "cell_type": "code",
   "execution_count": 18,
   "metadata": {
    "colab": {
     "base_uri": "https://localhost:8080/"
    },
    "id": "tVLWZL2a1pwB",
    "outputId": "7cec8531-480e-44a4-c0b9-8c5128b1fc02"
   },
   "outputs": [
    {
     "name": "stdout",
     "output_type": "stream",
     "text": [
      "datapath ==  102_Close_diff_perc_nrm.csv\n",
      "torch.Size([1, 100, 103])\n"
     ]
    }
   ],
   "source": [
    "# you can also use this prediction function to get result\n",
    "prediction = predict(exp, setting, True)"
   ]
  },
  {
   "cell_type": "code",
   "execution_count": 19,
   "metadata": {
    "colab": {
     "base_uri": "https://localhost:8080/",
     "height": 265
    },
    "id": "NwtZmQC71uc8",
    "outputId": "6bad1dea-ffff-42b3-c5bb-291c82ac5ba9"
   },
   "outputs": [
    {
     "data": {
      "image/png": "[encoded data removed]",
      "text/plain": [
       "<Figure size 640x480 with 1 Axes>"
      ]
     },
     "metadata": {},
     "output_type": "display_data"
    }
   ],
   "source": [
    "import matplotlib.pyplot as plt\n",
    "\n",
    "plt.figure()\n",
    "plt.plot(prediction[0,:,-1])\n",
    "plt.show()"
   ]
  },
  {
   "cell_type": "markdown",
   "metadata": {
    "id": "EnePVyrW4I14"
   },
   "source": [
    "### More details about Prediction - prediction dataset\n",
    "\n",
    "You can give a `root_path` and `data_path` of the data you want to forecast, and set `seq_len`, `label_len`, `pred_len` and other arguments as other Dataset. The difference is that you can set a more detailed freq such as `15min` or `3h` to generate the timestamp of prediction series.\n",
    "\n",
    "`Dataset_Pred` only has one sample (including `encoder_input: [1, seq_len, dim]`, `decoder_token: [1, label_len, dim]`, `encoder_input_timestamp: [1, seq_len, date_dim]`, `decoder_input_timstamp: [1, label_len+pred_len, date_dim]`). It will intercept the last sequence of the given data (seq_len data) to forecast the unseen future sequence (pred_len data)."
   ]
  },
  {
   "cell_type": "code",
   "execution_count": 20,
   "metadata": {
    "id": "ZpXhNGp34Hf4"
   },
   "outputs": [],
   "source": [
    "from data.data_loader import Dataset_Pred\n",
    "from torch.utils.data import DataLoader"
   ]
  },
  {
   "cell_type": "code",
   "execution_count": 21,
   "metadata": {
    "id": "j4Rpd1q74T8N"
   },
   "outputs": [
    {
     "name": "stdout",
     "output_type": "stream",
     "text": [
      "datapath ==  102_Close_diff_perc_nrm.csv\n"
     ]
    }
   ],
   "source": [
    "Data = Dataset_Pred\n",
    "timeenc = 0 if args.embed!='timeF' else 1\n",
    "flag = 'pred'; shuffle_flag = False; drop_last = False; batch_size = 1\n",
    "\n",
    "freq = args.detail_freq\n",
    "\n",
    "data_set = Data(\n",
    "    root_path=args.root_path,\n",
    "    data_path=args.data_path,\n",
    "    flag=flag,\n",
    "    size=[args.seq_len, args.label_len, args.pred_len],\n",
    "    features=args.features,\n",
    "    target=args.target,\n",
    "    timeenc=timeenc,\n",
    "    freq=freq\n",
    ")\n",
    "data_loader = DataLoader(\n",
    "    data_set,\n",
    "    batch_size=batch_size,\n",
    "    shuffle=shuffle_flag,\n",
    "    num_workers=args.num_workers,\n",
    "    drop_last=drop_last)"
   ]
  },
  {
   "cell_type": "code",
   "execution_count": 22,
   "metadata": {
    "colab": {
     "base_uri": "https://localhost:8080/"
    },
    "id": "42C84BfY6UPV",
    "outputId": "fe8f6340-2345-4c09-e720-c30ce50c77fd"
   },
   "outputs": [
    {
     "data": {
      "text/plain": [
       "(1, 1)"
      ]
     },
     "execution_count": 22,
     "metadata": {},
     "output_type": "execute_result"
    }
   ],
   "source": [
    "len(data_set), len(data_loader)"
   ]
  },
  {
   "cell_type": "markdown",
   "metadata": {
    "id": "cNhEP_7sAgqC"
   },
   "source": [
    "## Visualization"
   ]
  },
  {
   "cell_type": "code",
   "execution_count": 23,
   "metadata": {
    "colab": {
     "base_uri": "https://localhost:8080/"
    },
    "id": "vMRk8VkQ2Iko",
    "outputId": "b2da9ee4-fd43-44de-d421-e6396a39a666"
   },
   "outputs": [
    {
     "data": {
      "text/plain": [
       "((96, 50, 1), (96, 50, 1))"
      ]
     },
     "execution_count": 23,
     "metadata": {},
     "output_type": "execute_result"
    }
   ],
   "source": [
    "# When we finished exp.train(setting) and exp.test(setting), we will get a trained model and the results of test experiment\n",
    "# The results of test experiment will be saved in ./results/{setting}/pred.npy (prediction of test dataset) and ./results/{setting}/true.npy (groundtruth of test dataset)\n",
    "\n",
    "preds = np.load('./results/'+setting+'/pred.npy')\n",
    "trues = np.load('./results/'+setting+'/true.npy')\n",
    "\n",
    "# [samples, pred_len, dimensions]\n",
    "preds.shape, trues.shape"
   ]
  },
  {
   "cell_type": "code",
   "execution_count": 24,
   "metadata": {},
   "outputs": [
    {
     "data": {
      "text/plain": [
       "(1, 50, 1)"
      ]
     },
     "execution_count": 24,
     "metadata": {},
     "output_type": "execute_result"
    }
   ],
   "source": [
    "real_prediction = np.load('./results/'+setting+'/real_prediction.npy')\n",
    "real_prediction.shape"
   ]
  },
  {
   "cell_type": "code",
   "execution_count": 25,
   "metadata": {},
   "outputs": [
    {
     "name": "stdout",
     "output_type": "stream",
     "text": [
      "[[[-0.2268584 ]\n",
      "  [ 0.263976  ]\n",
      "  [ 0.09668539]\n",
      "  ...\n",
      "  [ 0.01073663]\n",
      "  [-0.01213653]\n",
      "  [ 0.0813728 ]]\n",
      "\n",
      " [[ 0.263976  ]\n",
      "  [ 0.09668539]\n",
      "  [-0.00898335]\n",
      "  ...\n",
      "  [-0.01213653]\n",
      "  [ 0.0813728 ]\n",
      "  [-0.5003985 ]]\n",
      "\n",
      " [[ 0.09668539]\n",
      "  [-0.00898335]\n",
      "  [-0.09799422]\n",
      "  ...\n",
      "  [ 0.0813728 ]\n",
      "  [-0.5003985 ]\n",
      "  [-0.08712376]]\n",
      "\n",
      " ...\n",
      "\n",
      " [[-0.04182973]\n",
      "  [-0.20748255]\n",
      "  [-0.14171243]\n",
      "  ...\n",
      "  [ 0.08233122]\n",
      "  [-0.10997193]\n",
      "  [-0.1361915 ]]\n",
      "\n",
      " [[-0.20748255]\n",
      "  [-0.14171243]\n",
      "  [ 0.06538875]\n",
      "  ...\n",
      "  [-0.10997193]\n",
      "  [-0.1361915 ]\n",
      "  [ 0.05545529]]\n",
      "\n",
      " [[-0.14171243]\n",
      "  [ 0.06538875]\n",
      "  [ 0.01271848]\n",
      "  ...\n",
      "  [-0.1361915 ]\n",
      "  [ 0.05545529]\n",
      "  [-0.12366631]]]\n"
     ]
    }
   ],
   "source": [
    "print(trues)"
   ]
  },
  {
   "cell_type": "code",
   "execution_count": 26,
   "metadata": {
    "id": "ZEGhDOmxAeAb"
   },
   "outputs": [],
   "source": [
    "import matplotlib.pyplot as plt\n",
    "import seaborn as sns"
   ]
  },
  {
   "cell_type": "code",
   "execution_count": 30,
   "metadata": {
    "colab": {
     "base_uri": "https://localhost:8080/",
     "height": 265
    },
    "id": "kyPuOPGAAjl3",
    "outputId": "22fb6283-c64d-4203-c3a4-209397009534"
   },
   "outputs": [
    {
     "data": {
      "image/png": "[encoded data removed]",
      "text/plain": [
       "<Figure size 640x480 with 1 Axes>"
      ]
     },
     "metadata": {},
     "output_type": "display_data"
    }
   ],
   "source": [
    "# draw OT prediction\n",
    "plt.figure()\n",
    "plt.plot(trues[0,:,-1]/10, label='GroundTruth')\n",
    "plt.plot(preds[0,:,-1], label='Prediction')\n",
    "plt.legend()\n",
    "plt.show()"
   ]
  },
  {
   "cell_type": "code",
   "execution_count": 28,
   "metadata": {
    "colab": {
     "base_uri": "https://localhost:8080/",
     "height": 265
    },
    "id": "43MIgWfpMYIB",
    "outputId": "c14c910a-ba25-4169-c3c6-3feec340e76d"
   },
   "outputs": [
    {
     "data": {
      "image/png": "[encoded data removed]",
      "text/plain": [
       "<Figure size 640x480 with 1 Axes>"
      ]
     },
     "metadata": {},
     "output_type": "display_data"
    }
   ],
   "source": [
    "# draw HUFL prediction\n",
    "plt.figure()\n",
    "plt.plot(trues[-1,:,0], label='GroundTruth')\n",
    "plt.plot(preds[-1,:,0], label='Prediction')\n",
    "plt.legend()\n",
    "plt.show()"
   ]
  },
  {
   "cell_type": "code",
   "execution_count": 29,
   "metadata": {
    "id": "hKmqhCfmt0xd"
   },
   "outputs": [
    {
     "ename": "TypeError",
     "evalue": "unsupported operand type(s) for /: 'str' and 'int'",
     "output_type": "error",
     "traceback": [
      "\u001b[0;31m---------------------------------------------------------------------------\u001b[0m",
      "\u001b[0;31mTypeError\u001b[0m                                 Traceback (most recent call last)",
      "\u001b[0;32m/tmp/ipykernel_8820/3912423463.py\u001b[0m in \u001b[0;36m<module>\u001b[0;34m\u001b[0m\n\u001b[1;32m     13\u001b[0m     \u001b[0mfeatures\u001b[0m\u001b[0;34m=\u001b[0m\u001b[0margs\u001b[0m\u001b[0;34m.\u001b[0m\u001b[0mfeatures\u001b[0m\u001b[0;34m,\u001b[0m\u001b[0;34m\u001b[0m\u001b[0;34m\u001b[0m\u001b[0m\n\u001b[1;32m     14\u001b[0m     \u001b[0mtimeenc\u001b[0m\u001b[0;34m=\u001b[0m\u001b[0mtimeenc\u001b[0m\u001b[0;34m,\u001b[0m\u001b[0;34m\u001b[0m\u001b[0;34m\u001b[0m\u001b[0m\n\u001b[0;32m---> 15\u001b[0;31m     \u001b[0mfreq\u001b[0m\u001b[0;34m=\u001b[0m\u001b[0margs\u001b[0m\u001b[0;34m.\u001b[0m\u001b[0mfreq\u001b[0m\u001b[0;34m\u001b[0m\u001b[0;34m\u001b[0m\u001b[0m\n\u001b[0m\u001b[1;32m     16\u001b[0m )\n\u001b[1;32m     17\u001b[0m data_loader = DataLoader(\n",
      "\u001b[0;32m~/aml projecct/Informer2020/data/data_loader.py\u001b[0m in \u001b[0;36m__init__\u001b[0;34m(self, root_path, flag, size, features, data_path, target, scale, inverse, timeenc, freq, cols)\u001b[0m\n\u001b[1;32m     41\u001b[0m         \u001b[0mself\u001b[0m\u001b[0;34m.\u001b[0m\u001b[0mroot_path\u001b[0m \u001b[0;34m=\u001b[0m \u001b[0mroot_path\u001b[0m\u001b[0;34m\u001b[0m\u001b[0;34m\u001b[0m\u001b[0m\n\u001b[1;32m     42\u001b[0m         \u001b[0mself\u001b[0m\u001b[0;34m.\u001b[0m\u001b[0mdata_path\u001b[0m \u001b[0;34m=\u001b[0m \u001b[0mdata_path\u001b[0m\u001b[0;34m\u001b[0m\u001b[0;34m\u001b[0m\u001b[0m\n\u001b[0;32m---> 43\u001b[0;31m         \u001b[0mself\u001b[0m\u001b[0;34m.\u001b[0m\u001b[0m__read_data__\u001b[0m\u001b[0;34m(\u001b[0m\u001b[0;34m)\u001b[0m\u001b[0;34m\u001b[0m\u001b[0;34m\u001b[0m\u001b[0m\n\u001b[0m\u001b[1;32m     44\u001b[0m \u001b[0;34m\u001b[0m\u001b[0m\n\u001b[1;32m     45\u001b[0m     \u001b[0;32mdef\u001b[0m \u001b[0m__read_data__\u001b[0m\u001b[0;34m(\u001b[0m\u001b[0mself\u001b[0m\u001b[0;34m)\u001b[0m\u001b[0;34m:\u001b[0m\u001b[0;34m\u001b[0m\u001b[0;34m\u001b[0m\u001b[0m\n",
      "\u001b[0;32m~/aml projecct/Informer2020/data/data_loader.py\u001b[0m in \u001b[0;36m__read_data__\u001b[0;34m(self)\u001b[0m\n\u001b[1;32m     61\u001b[0m         \u001b[0;32mif\u001b[0m \u001b[0mself\u001b[0m\u001b[0;34m.\u001b[0m\u001b[0mscale\u001b[0m\u001b[0;34m:\u001b[0m\u001b[0;34m\u001b[0m\u001b[0;34m\u001b[0m\u001b[0m\n\u001b[1;32m     62\u001b[0m             \u001b[0mtrain_data\u001b[0m \u001b[0;34m=\u001b[0m \u001b[0mdf_data\u001b[0m\u001b[0;34m[\u001b[0m\u001b[0mborder1s\u001b[0m\u001b[0;34m[\u001b[0m\u001b[0;36m0\u001b[0m\u001b[0;34m]\u001b[0m\u001b[0;34m:\u001b[0m\u001b[0mborder2s\u001b[0m\u001b[0;34m[\u001b[0m\u001b[0;36m0\u001b[0m\u001b[0;34m]\u001b[0m\u001b[0;34m]\u001b[0m\u001b[0;34m\u001b[0m\u001b[0;34m\u001b[0m\u001b[0m\n\u001b[0;32m---> 63\u001b[0;31m             \u001b[0mself\u001b[0m\u001b[0;34m.\u001b[0m\u001b[0mscaler\u001b[0m\u001b[0;34m.\u001b[0m\u001b[0mfit\u001b[0m\u001b[0;34m(\u001b[0m\u001b[0mtrain_data\u001b[0m\u001b[0;34m.\u001b[0m\u001b[0mvalues\u001b[0m\u001b[0;34m)\u001b[0m\u001b[0;34m\u001b[0m\u001b[0;34m\u001b[0m\u001b[0m\n\u001b[0m\u001b[1;32m     64\u001b[0m             \u001b[0mdata\u001b[0m \u001b[0;34m=\u001b[0m \u001b[0mself\u001b[0m\u001b[0;34m.\u001b[0m\u001b[0mscaler\u001b[0m\u001b[0;34m.\u001b[0m\u001b[0mtransform\u001b[0m\u001b[0;34m(\u001b[0m\u001b[0mdf_data\u001b[0m\u001b[0;34m.\u001b[0m\u001b[0mvalues\u001b[0m\u001b[0;34m)\u001b[0m\u001b[0;34m\u001b[0m\u001b[0;34m\u001b[0m\u001b[0m\n\u001b[1;32m     65\u001b[0m         \u001b[0;32melse\u001b[0m\u001b[0;34m:\u001b[0m\u001b[0;34m\u001b[0m\u001b[0;34m\u001b[0m\u001b[0m\n",
      "\u001b[0;32m~/aml projecct/Informer2020/utils/tools.py\u001b[0m in \u001b[0;36mfit\u001b[0;34m(self, data)\u001b[0m\n\u001b[1;32m     60\u001b[0m \u001b[0;34m\u001b[0m\u001b[0m\n\u001b[1;32m     61\u001b[0m     \u001b[0;32mdef\u001b[0m \u001b[0mfit\u001b[0m\u001b[0;34m(\u001b[0m\u001b[0mself\u001b[0m\u001b[0;34m,\u001b[0m \u001b[0mdata\u001b[0m\u001b[0;34m)\u001b[0m\u001b[0;34m:\u001b[0m\u001b[0;34m\u001b[0m\u001b[0;34m\u001b[0m\u001b[0m\n\u001b[0;32m---> 62\u001b[0;31m         \u001b[0mself\u001b[0m\u001b[0;34m.\u001b[0m\u001b[0mmean\u001b[0m \u001b[0;34m=\u001b[0m \u001b[0mdata\u001b[0m\u001b[0;34m.\u001b[0m\u001b[0mmean\u001b[0m\u001b[0;34m(\u001b[0m\u001b[0;36m0\u001b[0m\u001b[0;34m)\u001b[0m\u001b[0;34m\u001b[0m\u001b[0;34m\u001b[0m\u001b[0m\n\u001b[0m\u001b[1;32m     63\u001b[0m         \u001b[0mself\u001b[0m\u001b[0;34m.\u001b[0m\u001b[0mstd\u001b[0m \u001b[0;34m=\u001b[0m \u001b[0mdata\u001b[0m\u001b[0;34m.\u001b[0m\u001b[0mstd\u001b[0m\u001b[0;34m(\u001b[0m\u001b[0;36m0\u001b[0m\u001b[0;34m)\u001b[0m\u001b[0;34m\u001b[0m\u001b[0;34m\u001b[0m\u001b[0m\n\u001b[1;32m     64\u001b[0m \u001b[0;34m\u001b[0m\u001b[0m\n",
      "\u001b[0;32m/opt/conda/lib/python3.7/site-packages/numpy/core/_methods.py\u001b[0m in \u001b[0;36m_mean\u001b[0;34m(a, axis, dtype, out, keepdims, where)\u001b[0m\n\u001b[1;32m    180\u001b[0m     \u001b[0;32mif\u001b[0m \u001b[0misinstance\u001b[0m\u001b[0;34m(\u001b[0m\u001b[0mret\u001b[0m\u001b[0;34m,\u001b[0m \u001b[0mmu\u001b[0m\u001b[0;34m.\u001b[0m\u001b[0mndarray\u001b[0m\u001b[0;34m)\u001b[0m\u001b[0;34m:\u001b[0m\u001b[0;34m\u001b[0m\u001b[0;34m\u001b[0m\u001b[0m\n\u001b[1;32m    181\u001b[0m         ret = um.true_divide(\n\u001b[0;32m--> 182\u001b[0;31m                 ret, rcount, out=ret, casting='unsafe', subok=False)\n\u001b[0m\u001b[1;32m    183\u001b[0m         \u001b[0;32mif\u001b[0m \u001b[0mis_float16_result\u001b[0m \u001b[0;32mand\u001b[0m \u001b[0mout\u001b[0m \u001b[0;32mis\u001b[0m \u001b[0;32mNone\u001b[0m\u001b[0;34m:\u001b[0m\u001b[0;34m\u001b[0m\u001b[0;34m\u001b[0m\u001b[0m\n\u001b[1;32m    184\u001b[0m             \u001b[0mret\u001b[0m \u001b[0;34m=\u001b[0m \u001b[0marr\u001b[0m\u001b[0;34m.\u001b[0m\u001b[0mdtype\u001b[0m\u001b[0;34m.\u001b[0m\u001b[0mtype\u001b[0m\u001b[0;34m(\u001b[0m\u001b[0mret\u001b[0m\u001b[0;34m)\u001b[0m\u001b[0;34m\u001b[0m\u001b[0;34m\u001b[0m\u001b[0m\n",
      "\u001b[0;31mTypeError\u001b[0m: unsupported operand type(s) for /: 'str' and 'int'"
     ]
    }
   ],
   "source": [
    "from data.data_loader import Dataset_ETT_hour\n",
    "from torch.utils.data import DataLoader\n",
    "\n",
    "Data = Dataset_ETT_hour\n",
    "timeenc = 0 if args.embed!='timeF' else 1\n",
    "flag = 'test'; shuffle_flag = False; drop_last = True; batch_size = 1\n",
    "\n",
    "data_set = Data(\n",
    "    root_path=args.root_path,\n",
    "    data_path=args.data_path,\n",
    "    flag=flag,\n",
    "    size=[args.seq_len, args.label_len, args.pred_len],\n",
    "    features=args.features,\n",
    "    timeenc=timeenc,\n",
    "    freq=args.freq\n",
    ")\n",
    "data_loader = DataLoader(\n",
    "    data_set,\n",
    "    batch_size=batch_size,\n",
    "    shuffle=shuffle_flag,\n",
    "    num_workers=args.num_workers,\n",
    "    drop_last=drop_last)"
   ]
  },
  {
   "cell_type": "code",
   "execution_count": null,
   "metadata": {
    "colab": {
     "base_uri": "https://localhost:8080/"
    },
    "id": "iflTTl0quCoK",
    "outputId": "b312c51e-36a2-41ae-b200-a2925920e79c"
   },
   "outputs": [],
   "source": [
    "import os\n",
    "\n",
    "args.output_attention = True\n",
    "\n",
    "exp = Exp(args)\n",
    "\n",
    "model = exp.model\n",
    "\n",
    "# setting = 'informer_ETTh1_ftM_sl96_ll48_pl24_dm512_nh8_el2_dl1_df2048_atprob_fc5_ebtimeF_dtTrue_mxTrue_exp_0'\n",
    "# setting = 'informer_custom_ftS_sl96_ll48_pl24_dm512_nh8_el2_dl1_df2048_atprob_fc5_ebtimeF_dtTrue_mxTrue_exp_0'\n",
    "# setting = 'informer_custom_ftMS_sl200_ll100_pl30_dm2512_nh58_el2_dl1_df2048_atprob_fc5_ebtimeF_dtTrue_mxTrue_exp_0'\n",
    "# setting='informer_custom_ftMS_sl100_ll100_pl50_dm512_nh10_el4_dl2_df2048_atprob_fc5_ebtimeF_dtTrue_mxTrue_exp_0'\n",
    "path = os.path.join(args.checkpoints,setting,'checkpoint.pth')\n",
    "model.load_state_dict(torch.load(path))"
   ]
  },
  {
   "cell_type": "code",
   "execution_count": null,
   "metadata": {
    "id": "lDdzqm9HAk2C"
   },
   "outputs": [],
   "source": [
    "# attention visualization\n",
    "idx = 0\n",
    "for i, (batch_x,batch_y,batch_x_mark,batch_y_mark) in enumerate(data_loader):\n",
    "    if i!=idx:\n",
    "        continue\n",
    "    batch_x = batch_x.float().to(exp.device)\n",
    "    batch_y = batch_y.float()\n",
    "\n",
    "    batch_x_mark = batch_x_mark.float().to(exp.device)\n",
    "    batch_y_mark = batch_y_mark.float().to(exp.device)\n",
    "    \n",
    "    dec_inp = torch.zeros_like(batch_y[:,-args.pred_len:,:]).float()\n",
    "    dec_inp = torch.cat([batch_y[:,:args.label_len,:], dec_inp], dim=1).float().to(exp.device)\n",
    "    \n",
    "    outputs,attn = model(batch_x, batch_x_mark, dec_inp, batch_y_mark)"
   ]
  },
  {
   "cell_type": "code",
   "execution_count": null,
   "metadata": {
    "colab": {
     "base_uri": "https://localhost:8080/"
    },
    "id": "hWef23vWAmUz",
    "outputId": "05b31758-9ca0-4603-aae0-bd1503c9ee3a"
   },
   "outputs": [],
   "source": [
    "attn[0].shape, attn[1].shape #, attn[2].shape"
   ]
  },
  {
   "cell_type": "code",
   "execution_count": null,
   "metadata": {
    "id": "iZDH1fZgAnrl"
   },
   "outputs": [],
   "source": [
    "layer = 0\n",
    "distil = 'Distil' if args.distil else 'NoDistil'\n",
    "for h in range(0,8):\n",
    "    plt.figure(figsize=[10,8])\n",
    "    plt.title('Informer, {}, attn:{} layer:{} head:{}'.format(distil, args.attn, layer, h))\n",
    "    A = attn[layer][0,h].detach().cpu().numpy()\n",
    "    ax = sns.heatmap(A, vmin=0, vmax=A.max()+0.01)\n",
    "    plt.show()"
   ]
  },
  {
   "cell_type": "code",
   "execution_count": null,
   "metadata": {
    "colab": {
     "base_uri": "https://localhost:8080/",
     "height": 253
    },
    "id": "DQFGYE3KAozo",
    "outputId": "bb9c2c34-68f8-4048-b095-66906e2fa084"
   },
   "outputs": [],
   "source": [
    "layer = 1\n",
    "distil = 'Distil' if args.distil else 'NoDistil'\n",
    "for h in range(0,8):\n",
    "    plt.figure(figsize=[10,8])\n",
    "    plt.title('Informer, {}, attn:{} layer:{} head:{}'.format(distil, args.attn, layer, h))\n",
    "    A = attn[layer][0,h].detach().cpu().numpy()\n",
    "    ax = sns.heatmap(A, vmin=0, vmax=A.max()+0.01)\n",
    "    plt.show()"
   ]
  },
  {
   "cell_type": "markdown",
   "metadata": {
    "id": "Ew9vekI9Mw8f"
   },
   "source": [
    "## Custom Data\n",
    "\n",
    "Custom data (xxx.csv) has to include at least 2 features: `date`(format: `YYYY-MM-DD hh:mm:ss`) and `target feature`.\n"
   ]
  },
  {
   "cell_type": "code",
   "execution_count": null,
   "metadata": {
    "id": "qqQBJWHeMzP-"
   },
   "outputs": [],
   "source": [
    "from data.data_loader import Dataset_Custom\n",
    "from torch.utils.data import DataLoader\n",
    "import pandas as pd\n",
    "import os"
   ]
  },
  {
   "cell_type": "code",
   "execution_count": null,
   "metadata": {
    "colab": {
     "base_uri": "https://localhost:8080/",
     "height": 267
    },
    "id": "tkMk7kDK4aSe",
    "outputId": "f4f31022-fe89-4ff9-8f7b-4334182d9a5b"
   },
   "outputs": [],
   "source": [
    "# custom data: xxx.csv\n",
    "# data features: ['date', ...(other features), target feature]\n",
    "\n",
    "# we take ETTh2 as an example\n",
    "args.root_path = './ETDataset/ETT-small/'\n",
    "args.data_path = 'ETTh2.csv'\n",
    "# args.data_path = 'final_data.csv'\n",
    "\n",
    "df1 = pd.read_csv(os.path.join(args.root_path, args.data_path))\n",
    "for index, row in df1.iterrows():\n",
    "  print(type(row[\"date\"]))\n",
    "  break\n",
    "df1.head()\n",
    "# df = pd.read_csv(os.path.join(args.data_path))"
   ]
  },
  {
   "cell_type": "code",
   "execution_count": null,
   "metadata": {
    "id": "5bFrfuw6Oxpi"
   },
   "outputs": [],
   "source": [
    "# custom data: xxx.csv\n",
    "# data features: ['date', ...(other features), target feature]\n",
    "\n",
    "# we take ETTh2 as an example\n",
    "# args.root_path = './ETDataset/ETT-small/'\n",
    "# args.data_path = 'ETTh2.csv'\n",
    "args.data_path = 'final_amazon_11_26.csv'\n",
    "\n",
    "# df = pd.read_csv(os.path.join(args.root_path, args.data_path))\n",
    "df = pd.read_csv(os.path.join(args.data_path))"
   ]
  },
  {
   "cell_type": "code",
   "execution_count": null,
   "metadata": {
    "colab": {
     "base_uri": "https://localhost:8080/"
    },
    "id": "ykyYAWygJmUc",
    "outputId": "02314d10-e9bc-4106-d219-e50c33a55797"
   },
   "outputs": [],
   "source": [
    "df.columns"
   ]
  },
  {
   "cell_type": "code",
   "execution_count": null,
   "metadata": {
    "colab": {
     "base_uri": "https://localhost:8080/",
     "height": 386
    },
    "id": "0--9JC0eO_WT",
    "outputId": "5bf5154f-1384-4894-a9f2-d5218203902c"
   },
   "outputs": [],
   "source": [
    "df.head()"
   ]
  },
  {
   "cell_type": "code",
   "execution_count": null,
   "metadata": {},
   "outputs": [],
   "source": [
    "print (df.dtypes)"
   ]
  },
  {
   "cell_type": "code",
   "execution_count": null,
   "metadata": {},
   "outputs": [],
   "source": [
    "df = df.drop('Unnamed: 0',axis=1)"
   ]
  },
  {
   "cell_type": "code",
   "execution_count": null,
   "metadata": {},
   "outputs": [],
   "source": [
    "# copy the data\n",
    "df_max_scaled = df.copy()\n",
    "\n",
    "# apply normalization techniques\n",
    "for column in df_max_scaled.columns:\n",
    "    try:\n",
    "        df_max_scaled[column] = df_max_scaled[column]  / df_max_scaled[column].abs().max()\n",
    "    except:\n",
    "        continue\n",
    "      \n",
    "# view normalized data\n",
    "display(df_max_scaled)"
   ]
  },
  {
   "cell_type": "code",
   "execution_count": null,
   "metadata": {},
   "outputs": [],
   "source": [
    "# df_max_scaled.to_csv(\"normalized_df.csv\")\n",
    "df.to_csv(\"normalized_df.csv\")"
   ]
  },
  {
   "cell_type": "code",
   "execution_count": null,
   "metadata": {
    "id": "QmvRipRbPAbP"
   },
   "outputs": [],
   "source": [
    "'''\n",
    "We set 'HULL' as target instead of 'OT'\n",
    "\n",
    "The following frequencies are supported:\n",
    "        Y   - yearly\n",
    "            alias: A\n",
    "        M   - monthly\n",
    "        W   - weekly\n",
    "        D   - daily\n",
    "        B   - business days\n",
    "        H   - hourly\n",
    "        T   - minutely\n",
    "            alias: min\n",
    "        S   - secondly\n",
    "'''\n",
    "\n",
    "args.target = 'HULL'\n",
    "args.freq = 'h'\n",
    "\n",
    "Data = Dataset_Custom\n",
    "timeenc = 0 if args.embed!='timeF' else 1\n",
    "flag = 'test'; shuffle_flag = False; drop_last = True; batch_size = 1\n",
    "\n",
    "data_set = Data(\n",
    "    root_path=args.root_path,\n",
    "    data_path=args.data_path,\n",
    "    flag=flag,\n",
    "    size=[args.seq_len, args.label_len, args.pred_len],\n",
    "    features=args.features,\n",
    "    timeenc=timeenc,\n",
    "    target=args.target, # HULL here\n",
    "    freq=args.freq # 'h': hourly, 't':minutely\n",
    ")\n",
    "data_loader = DataLoader(\n",
    "    data_set,\n",
    "    batch_size=batch_size,\n",
    "    shuffle=shuffle_flag,\n",
    "    num_workers=args.num_workers,\n",
    "    drop_last=drop_last)"
   ]
  },
  {
   "cell_type": "code",
   "execution_count": null,
   "metadata": {
    "id": "IkNDT2jMPCUf"
   },
   "outputs": [],
   "source": [
    "batch_x,batch_y,batch_x_mark,batch_y_mark = data_set[0]"
   ]
  },
  {
   "cell_type": "code",
   "execution_count": null,
   "metadata": {
    "id": "VUcvSLlkSFTx"
   },
   "outputs": [],
   "source": []
  }
 ],
 "metadata": {
  "accelerator": "GPU",
  "colab": {
   "provenance": []
  },
  "environment": {
   "kernel": "python3",
   "name": "common-cpu.m99",
   "type": "gcloud",
   "uri": "gcr.io/deeplearning-platform-release/base-cpu:m99"
  },
  "kernelspec": {
   "display_name": "Python 3",
   "language": "python",
   "name": "python3"
  },
  "language_info": {
   "codemirror_mode": {
    "name": "ipython",
    "version": 3
   },
   "file_extension": ".py",
   "mimetype": "text/x-python",
   "name": "python",
   "nbconvert_exporter": "python",
   "pygments_lexer": "ipython3",
   "version": "3.7.12"
  }
 },
 "nbformat": 4,
 "nbformat_minor": 4
}
