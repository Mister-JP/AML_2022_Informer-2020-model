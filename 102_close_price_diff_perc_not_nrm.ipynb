{
 "cells": [
  {
   "cell_type": "markdown",
   "metadata": {
    "id": "5IM6CZzW_CH0"
   },
   "source": [
    "# Informer Demo"
   ]
  },
  {
   "cell_type": "markdown",
   "metadata": {
    "id": "kdaIHYx4_ECL"
   },
   "source": [
    "## Download code and dataset"
   ]
  },
  {
   "cell_type": "code",
   "execution_count": 13,
   "metadata": {
    "colab": {
     "base_uri": "https://localhost:8080/"
    },
    "id": "SA_i2gbl-rn-",
    "outputId": "09a8dca2-a8f0-40f0-9473-56ad4b27adf9"
   },
   "outputs": [],
   "source": [
    "# !git clone https://github.com/zhouhaoyi/Informer2020.git\n",
    "# !git clone https://github.com/zhouhaoyi/ETDataset.git\n",
    "# !ls"
   ]
  },
  {
   "cell_type": "code",
   "execution_count": 14,
   "metadata": {
    "id": "b5GFng7v7Eq0"
   },
   "outputs": [],
   "source": [
    "import sys\n",
    "if not 'Informer2020' in sys.path:\n",
    "    sys.path += ['Informer2020']"
   ]
  },
  {
   "cell_type": "code",
   "execution_count": 15,
   "metadata": {
    "id": "YW9TS6jp_YXc"
   },
   "outputs": [],
   "source": [
    "# !pip install -r ./Informer2020/requirements.txt"
   ]
  },
  {
   "cell_type": "markdown",
   "metadata": {
    "id": "rIjZdN5e_SWe"
   },
   "source": [
    "## Experiments: Train and Test"
   ]
  },
  {
   "cell_type": "code",
   "execution_count": 16,
   "metadata": {
    "id": "RPdt-Kwc_RRZ"
   },
   "outputs": [],
   "source": [
    "from utils.tools import dotdict\n",
    "from exp.exp_informer import Exp_Informer\n",
    "import torch"
   ]
  },
  {
   "cell_type": "code",
   "execution_count": 17,
   "metadata": {
    "id": "6mx2dnwY9dWi"
   },
   "outputs": [],
   "source": [
    "args = dotdict()\n",
    "\n",
    "args.model = 'informer' # model of experiment, options: [informer, informerstack, informerlight(TBD)]\n",
    "\n",
    "args.data = 'ETTh1' # data\n",
    "args.data = 'custom' # data\n",
    "args.root_path = './ETDataset/ETT-small/' # root path of data file\n",
    "args.root_path = 'data' # root path of data file\n",
    "args.data_path = 'ETTh1.csv' # data file\n",
    "args.data_path = '102_close_price_diff_perc_not_nrm.csv' # data file\n",
    "args.features = 'MS' # forecasting task, options:[M, S, MS]; M:multivariate predict multivariate, S:univariate predict univariate, MS:multivariate predict univariate\n",
    "args.target = 'Close' # target feature in S or MS task\n",
    "args.freq = 'd' # freq for time features encoding, options:[s:secondly, t:minutely, h:hourly, d:daily, b:business days, w:weekly, m:monthly], you can also use more detailed freq like 15min or 3h\n",
    "args.checkpoints = './informer_checkpoints' # location of model checkpoints\n",
    "\n",
    "args.seq_len = 100 # input sequence length of Informer encoder\n",
    "args.label_len = 100 # start token length of Informer decoder\n",
    "args.pred_len = 50 # prediction sequence length\n",
    "# Informer decoder input: concat[start token series(label_len), zero padding series(pred_len)]\n",
    "\n",
    "args.enc_in = 7 # encoder input size\n",
    "args.enc_in = 100 # encoder input size\n",
    "args.dec_in = 7 # decoder input size\n",
    "args.dec_in = 100 # decoder input size\n",
    "args.c_out = 7 # output size\n",
    "args.c_out = 100 # output size\n",
    "args.factor = 5 # probsparse attn factor\n",
    "args.d_model = 512 # dimension of model\n",
    "# args.d_model = 2512 # dimension of model\n",
    "args.n_heads = 10 # num of heads\n",
    "args.e_layers = 4 # num of encoder layers\n",
    "args.d_layers = 2 # num of decoder layers\n",
    "args.d_ff = 2048 # dimension of fcn in model\n",
    "args.dropout = 0.05 # dropout\n",
    "args.attn = 'prob' # attention used in encoder, options:[prob, full]\n",
    "args.embed = 'timeF' # time features encoding, options:[timeF, fixed, learned]\n",
    "args.activation = 'gelu' # activation\n",
    "args.distil = True # whether to use distilling in encoder\n",
    "args.output_attention = False # whether to output attention in ecoder\n",
    "args.mix = True\n",
    "args.padding = 0\n",
    "args.freq = 'd'\n",
    "\n",
    "args.batch_size = 32 \n",
    "args.learning_rate = 0.0001\n",
    "args.loss = 'mse'\n",
    "args.lradj = 'type1'\n",
    "args.use_amp = False # whether to use automatic mixed precision training\n",
    "\n",
    "args.num_workers = 0\n",
    "args.itr = 1\n",
    "args.train_epochs = 4\n",
    "args.patience = 5\n",
    "args.des = 'exp'\n",
    "\n",
    "args.use_gpu = True if torch.cuda.is_available() else False\n",
    "args.gpu = 0\n",
    "\n",
    "args.use_multi_gpu = False\n",
    "args.devices = '0,1,2,3'\n"
   ]
  },
  {
   "cell_type": "code",
   "execution_count": 18,
   "metadata": {
    "id": "k_BCYODAwKl9"
   },
   "outputs": [],
   "source": [
    "args.use_gpu = True if torch.cuda.is_available() and args.use_gpu else False\n",
    "\n",
    "if args.use_gpu and args.use_multi_gpu:\n",
    "    args.devices = args.devices.replace(' ','')\n",
    "    device_ids = args.devices.split(',')\n",
    "    args.device_ids = [int(id_) for id_ in device_ids]\n",
    "    args.gpu = args.device_ids[0]"
   ]
  },
  {
   "cell_type": "code",
   "execution_count": 19,
   "metadata": {
    "id": "53o3pZ809p-a"
   },
   "outputs": [],
   "source": [
    "# Set augments by using data name\n",
    "data_parser = {\n",
    "    'ETTh1':{'data':'ETTh1.csv','T':'OT','M':[7,7,7],'S':[1,1,1],'MS':[7,7,1]},\n",
    "    'ETTh2':{'data':'ETTh2.csv','T':'OT','M':[7,7,7],'S':[1,1,1],'MS':[7,7,1]},\n",
    "    'ETTm1':{'data':'ETTm1.csv','T':'OT','M':[7,7,7],'S':[1,1,1],'MS':[7,7,1]},\n",
    "    'ETTm2':{'data':'ETTm2.csv','T':'OT','M':[7,7,7],'S':[1,1,1],'MS':[7,7,1]},\n",
    "    'custom':{'data':'102_close_price_diff_perc_not_nrm.csv','T':'Close_diff_perc','M':[104,104,104],'S':[1,1,1],'MS':[104,104,1]},\n",
    "}\n",
    "if args.data in data_parser.keys():\n",
    "    data_info = data_parser[args.data]\n",
    "    args.data_path = data_info['data']\n",
    "    args.target = data_info['T']\n",
    "    args.enc_in, args.dec_in, args.c_out = data_info[args.features]"
   ]
  },
  {
   "cell_type": "code",
   "execution_count": 20,
   "metadata": {
    "id": "yZ5Q2vyKwSfk"
   },
   "outputs": [],
   "source": [
    "args.detail_freq = args.freq\n",
    "args.freq = args.freq[-1:]"
   ]
  },
  {
   "cell_type": "code",
   "execution_count": 21,
   "metadata": {
    "colab": {
     "base_uri": "https://localhost:8080/"
    },
    "id": "ywY-umrw-mHO",
    "outputId": "2618b6c1-eb39-430b-e1f6-64e621f7a34d"
   },
   "outputs": [
    {
     "name": "stdout",
     "output_type": "stream",
     "text": [
      "Args in experiment:\n",
      "{'model': 'informer', 'data': 'custom', 'root_path': 'data', 'data_path': '102_close_price_diff_perc_not_nrm.csv', 'features': 'MS', 'target': 'Close_diff_perc', 'freq': 'd', 'checkpoints': './informer_checkpoints', 'seq_len': 100, 'label_len': 100, 'pred_len': 50, 'enc_in': 104, 'dec_in': 104, 'c_out': 1, 'factor': 5, 'd_model': 512, 'n_heads': 10, 'e_layers': 4, 'd_layers': 2, 'd_ff': 2048, 'dropout': 0.05, 'attn': 'prob', 'embed': 'timeF', 'activation': 'gelu', 'distil': True, 'output_attention': False, 'mix': True, 'padding': 0, 'batch_size': 32, 'learning_rate': 0.0001, 'loss': 'mse', 'lradj': 'type1', 'use_amp': False, 'num_workers': 0, 'itr': 1, 'train_epochs': 4, 'patience': 5, 'des': 'exp', 'use_gpu': False, 'gpu': 0, 'use_multi_gpu': False, 'devices': '0,1,2,3', 'detail_freq': 'd'}\n"
     ]
    }
   ],
   "source": [
    "print('Args in experiment:')\n",
    "print(args)"
   ]
  },
  {
   "cell_type": "code",
   "execution_count": 22,
   "metadata": {
    "id": "KVHZhRB4-on9"
   },
   "outputs": [],
   "source": [
    "Exp = Exp_Informer"
   ]
  },
  {
   "cell_type": "code",
   "execution_count": 23,
   "metadata": {},
   "outputs": [],
   "source": [
    "setting = '102_close_price_diff_perc_not_nrm_{}_{}_ft{}_sl{}_ll{}_pl{}_dm{}_nh{}_el{}_dl{}_df{}_at{}_fc{}_eb{}_dt{}_mx{}_{}_{}'.format(args.model, args.data, args.features, \n",
    "                args.seq_len, args.label_len, args.pred_len,\n",
    "                args.d_model, args.n_heads, args.e_layers, args.d_layers, args.d_ff, args.attn, args.factor, args.embed, args.distil, args.mix, args.des, 0)"
   ]
  },
  {
   "cell_type": "code",
   "execution_count": 24,
   "metadata": {
    "colab": {
     "base_uri": "https://localhost:8080/",
     "height": 835
    },
    "id": "928tzaA2AA2g",
    "outputId": "4c12a6f6-3c31-401a-ef6a-b034da388593"
   },
   "outputs": [
    {
     "name": "stdout",
     "output_type": "stream",
     "text": [
      "Use CPU\n",
      ">>>>>>>start training : 102_close_price_diff_perc_not_nrm_informer_custom_ftMS_sl100_ll100_pl50_dm512_nh10_el4_dl2_df2048_atprob_fc5_ebtimeF_dtTrue_mxTrue_exp_0>>>>>>>>>>>>>>>>>>>>>>>>>>\n",
      "data_path ->  102_close_price_diff_perc_not_nrm.csv\n",
      "scaling\n",
      "data_path ->  102_close_price_diff_perc_not_nrm.csv\n",
      "scaling\n",
      "data_path ->  102_close_price_diff_perc_not_nrm.csv\n",
      "scaling\n",
      "loss ->  tensor(0.4366, grad_fn=<MeanBackward0>)\n",
      "loss ->  tensor(1.5437, grad_fn=<MeanBackward0>)\n",
      "loss ->  tensor(0.7738, grad_fn=<MeanBackward0>)\n",
      "loss ->  tensor(0.4745, grad_fn=<MeanBackward0>)\n",
      "loss ->  tensor(0.4249, grad_fn=<MeanBackward0>)\n",
      "loss ->  tensor(0.5546, grad_fn=<MeanBackward0>)\n",
      "loss ->  tensor(0.4301, grad_fn=<MeanBackward0>)\n",
      "loss ->  tensor(0.2533, grad_fn=<MeanBackward0>)\n",
      "loss ->  tensor(0.3075, grad_fn=<MeanBackward0>)\n",
      "loss ->  tensor(0.2923, grad_fn=<MeanBackward0>)\n",
      "loss ->  tensor(0.2460, grad_fn=<MeanBackward0>)\n",
      "loss ->  tensor(0.2124, grad_fn=<MeanBackward0>)\n",
      "loss ->  tensor(0.2115, grad_fn=<MeanBackward0>)\n",
      "loss ->  tensor(0.2139, grad_fn=<MeanBackward0>)\n",
      "loss ->  tensor(0.1867, grad_fn=<MeanBackward0>)\n",
      "loss ->  tensor(0.1420, grad_fn=<MeanBackward0>)\n",
      "loss ->  tensor(0.1637, grad_fn=<MeanBackward0>)\n",
      "loss ->  tensor(0.1779, grad_fn=<MeanBackward0>)\n",
      "loss ->  tensor(0.1648, grad_fn=<MeanBackward0>)\n",
      "loss ->  tensor(0.1294, grad_fn=<MeanBackward0>)\n",
      "loss ->  tensor(0.1350, grad_fn=<MeanBackward0>)\n",
      "loss ->  tensor(0.1466, grad_fn=<MeanBackward0>)\n",
      "loss ->  tensor(0.1227, grad_fn=<MeanBackward0>)\n",
      "loss ->  tensor(0.1206, grad_fn=<MeanBackward0>)\n",
      "loss ->  tensor(0.1235, grad_fn=<MeanBackward0>)\n",
      "loss ->  tensor(0.1249, grad_fn=<MeanBackward0>)\n",
      "loss ->  tensor(0.1199, grad_fn=<MeanBackward0>)\n",
      "loss ->  tensor(0.1024, grad_fn=<MeanBackward0>)\n",
      "loss ->  tensor(0.1120, grad_fn=<MeanBackward0>)\n",
      "loss ->  tensor(0.1161, grad_fn=<MeanBackward0>)\n",
      "loss ->  tensor(0.1085, grad_fn=<MeanBackward0>)\n",
      "loss ->  tensor(0.0986, grad_fn=<MeanBackward0>)\n",
      "loss ->  tensor(0.0959, grad_fn=<MeanBackward0>)\n",
      "loss ->  tensor(0.1056, grad_fn=<MeanBackward0>)\n",
      "loss ->  tensor(0.1020, grad_fn=<MeanBackward0>)\n",
      "loss ->  tensor(0.0985, grad_fn=<MeanBackward0>)\n",
      "loss ->  tensor(0.0934, grad_fn=<MeanBackward0>)\n",
      "loss ->  tensor(0.0937, grad_fn=<MeanBackward0>)\n",
      "Epoch: 1 cost time: 73.44057178497314\n",
      "Epoch: 1, Steps: 38 | Train Loss: 0.2463014 Vali Loss: 0.0480716 Test Loss: 0.0547170\n",
      "Validation loss decreased (inf --> 0.048072).  Saving model ...\n",
      "Updating learning rate to 0.0001\n",
      "loss ->  tensor(0.0936, grad_fn=<MeanBackward0>)\n",
      "loss ->  tensor(0.0917, grad_fn=<MeanBackward0>)\n",
      "loss ->  tensor(0.0904, grad_fn=<MeanBackward0>)\n",
      "loss ->  tensor(0.0940, grad_fn=<MeanBackward0>)\n",
      "loss ->  tensor(0.0923, grad_fn=<MeanBackward0>)\n",
      "loss ->  tensor(0.0929, grad_fn=<MeanBackward0>)\n",
      "loss ->  tensor(0.0898, grad_fn=<MeanBackward0>)\n",
      "loss ->  tensor(0.0928, grad_fn=<MeanBackward0>)\n",
      "loss ->  tensor(0.0860, grad_fn=<MeanBackward0>)\n",
      "loss ->  tensor(0.0905, grad_fn=<MeanBackward0>)\n",
      "loss ->  tensor(0.0805, grad_fn=<MeanBackward0>)\n",
      "loss ->  tensor(0.0865, grad_fn=<MeanBackward0>)\n",
      "loss ->  tensor(0.0841, grad_fn=<MeanBackward0>)\n",
      "loss ->  tensor(0.0837, grad_fn=<MeanBackward0>)\n",
      "loss ->  tensor(0.0812, grad_fn=<MeanBackward0>)\n",
      "loss ->  tensor(0.0761, grad_fn=<MeanBackward0>)\n",
      "loss ->  tensor(0.0821, grad_fn=<MeanBackward0>)\n",
      "loss ->  tensor(0.0794, grad_fn=<MeanBackward0>)\n",
      "loss ->  tensor(0.0786, grad_fn=<MeanBackward0>)\n",
      "loss ->  tensor(0.0756, grad_fn=<MeanBackward0>)\n",
      "loss ->  tensor(0.0768, grad_fn=<MeanBackward0>)\n",
      "loss ->  tensor(0.0756, grad_fn=<MeanBackward0>)\n",
      "loss ->  tensor(0.0773, grad_fn=<MeanBackward0>)\n",
      "loss ->  tensor(0.0750, grad_fn=<MeanBackward0>)\n",
      "loss ->  tensor(0.0756, grad_fn=<MeanBackward0>)\n",
      "loss ->  tensor(0.0719, grad_fn=<MeanBackward0>)\n",
      "loss ->  tensor(0.0730, grad_fn=<MeanBackward0>)\n",
      "loss ->  tensor(0.0725, grad_fn=<MeanBackward0>)\n",
      "loss ->  tensor(0.0720, grad_fn=<MeanBackward0>)\n",
      "loss ->  tensor(0.0720, grad_fn=<MeanBackward0>)\n",
      "loss ->  tensor(0.0722, grad_fn=<MeanBackward0>)\n",
      "loss ->  tensor(0.0749, grad_fn=<MeanBackward0>)\n",
      "loss ->  tensor(0.0702, grad_fn=<MeanBackward0>)\n",
      "loss ->  tensor(0.0747, grad_fn=<MeanBackward0>)\n",
      "loss ->  tensor(0.0674, grad_fn=<MeanBackward0>)\n",
      "loss ->  tensor(0.0656, grad_fn=<MeanBackward0>)\n",
      "loss ->  tensor(0.0684, grad_fn=<MeanBackward0>)\n",
      "loss ->  tensor(0.0675, grad_fn=<MeanBackward0>)\n",
      "Epoch: 2 cost time: 72.02247142791748\n",
      "Epoch: 2, Steps: 38 | Train Loss: 0.0795871 Vali Loss: 0.0210201 Test Loss: 0.0322227\n",
      "Validation loss decreased (0.048072 --> 0.021020).  Saving model ...\n",
      "Updating learning rate to 5e-05\n",
      "loss ->  tensor(0.0660, grad_fn=<MeanBackward0>)\n",
      "loss ->  tensor(0.0647, grad_fn=<MeanBackward0>)\n",
      "loss ->  tensor(0.0651, grad_fn=<MeanBackward0>)\n",
      "loss ->  tensor(0.0672, grad_fn=<MeanBackward0>)\n",
      "loss ->  tensor(0.0636, grad_fn=<MeanBackward0>)\n",
      "loss ->  tensor(0.0647, grad_fn=<MeanBackward0>)\n",
      "loss ->  tensor(0.0647, grad_fn=<MeanBackward0>)\n",
      "loss ->  tensor(0.0648, grad_fn=<MeanBackward0>)\n",
      "loss ->  tensor(0.0645, grad_fn=<MeanBackward0>)\n",
      "loss ->  tensor(0.0641, grad_fn=<MeanBackward0>)\n",
      "loss ->  tensor(0.0667, grad_fn=<MeanBackward0>)\n",
      "loss ->  tensor(0.0607, grad_fn=<MeanBackward0>)\n",
      "loss ->  tensor(0.0631, grad_fn=<MeanBackward0>)\n",
      "loss ->  tensor(0.0617, grad_fn=<MeanBackward0>)\n",
      "loss ->  tensor(0.0640, grad_fn=<MeanBackward0>)\n",
      "loss ->  tensor(0.0641, grad_fn=<MeanBackward0>)\n",
      "loss ->  tensor(0.0597, grad_fn=<MeanBackward0>)\n",
      "loss ->  tensor(0.0617, grad_fn=<MeanBackward0>)\n",
      "loss ->  tensor(0.0613, grad_fn=<MeanBackward0>)\n",
      "loss ->  tensor(0.0603, grad_fn=<MeanBackward0>)\n",
      "loss ->  tensor(0.0602, grad_fn=<MeanBackward0>)\n",
      "loss ->  tensor(0.0593, grad_fn=<MeanBackward0>)\n",
      "loss ->  tensor(0.0600, grad_fn=<MeanBackward0>)\n",
      "loss ->  tensor(0.0605, grad_fn=<MeanBackward0>)\n",
      "loss ->  tensor(0.0580, grad_fn=<MeanBackward0>)\n",
      "loss ->  tensor(0.0588, grad_fn=<MeanBackward0>)\n",
      "loss ->  tensor(0.0579, grad_fn=<MeanBackward0>)\n",
      "loss ->  tensor(0.0569, grad_fn=<MeanBackward0>)\n",
      "loss ->  tensor(0.0576, grad_fn=<MeanBackward0>)\n",
      "loss ->  tensor(0.0591, grad_fn=<MeanBackward0>)\n",
      "loss ->  tensor(0.0568, grad_fn=<MeanBackward0>)\n",
      "loss ->  tensor(0.0555, grad_fn=<MeanBackward0>)\n",
      "loss ->  tensor(0.0574, grad_fn=<MeanBackward0>)\n",
      "loss ->  tensor(0.0548, grad_fn=<MeanBackward0>)\n",
      "loss ->  tensor(0.0599, grad_fn=<MeanBackward0>)\n",
      "loss ->  tensor(0.0573, grad_fn=<MeanBackward0>)\n",
      "loss ->  tensor(0.0572, grad_fn=<MeanBackward0>)\n",
      "loss ->  tensor(0.0563, grad_fn=<MeanBackward0>)\n",
      "Epoch: 3 cost time: 72.97500133514404\n",
      "Epoch: 3, Steps: 38 | Train Loss: 0.0609547 Vali Loss: 0.0183278 Test Loss: 0.0297040\n",
      "Validation loss decreased (0.021020 --> 0.018328).  Saving model ...\n",
      "Updating learning rate to 2.5e-05\n",
      "loss ->  tensor(0.0557, grad_fn=<MeanBackward0>)\n",
      "loss ->  tensor(0.0558, grad_fn=<MeanBackward0>)\n",
      "loss ->  tensor(0.0551, grad_fn=<MeanBackward0>)\n",
      "loss ->  tensor(0.0538, grad_fn=<MeanBackward0>)\n",
      "loss ->  tensor(0.0551, grad_fn=<MeanBackward0>)\n",
      "loss ->  tensor(0.0567, grad_fn=<MeanBackward0>)\n",
      "loss ->  tensor(0.0564, grad_fn=<MeanBackward0>)\n",
      "loss ->  tensor(0.0552, grad_fn=<MeanBackward0>)\n",
      "loss ->  tensor(0.0555, grad_fn=<MeanBackward0>)\n",
      "loss ->  tensor(0.0554, grad_fn=<MeanBackward0>)\n",
      "loss ->  tensor(0.0547, grad_fn=<MeanBackward0>)\n",
      "loss ->  tensor(0.0554, grad_fn=<MeanBackward0>)\n",
      "loss ->  tensor(0.0532, grad_fn=<MeanBackward0>)\n",
      "loss ->  tensor(0.0531, grad_fn=<MeanBackward0>)\n",
      "loss ->  tensor(0.0545, grad_fn=<MeanBackward0>)\n",
      "loss ->  tensor(0.0557, grad_fn=<MeanBackward0>)\n",
      "loss ->  tensor(0.0522, grad_fn=<MeanBackward0>)\n",
      "loss ->  tensor(0.0524, grad_fn=<MeanBackward0>)\n",
      "loss ->  tensor(0.0541, grad_fn=<MeanBackward0>)\n",
      "loss ->  tensor(0.0553, grad_fn=<MeanBackward0>)\n",
      "loss ->  tensor(0.0528, grad_fn=<MeanBackward0>)\n",
      "loss ->  tensor(0.0547, grad_fn=<MeanBackward0>)\n",
      "loss ->  tensor(0.0534, grad_fn=<MeanBackward0>)\n",
      "loss ->  tensor(0.0521, grad_fn=<MeanBackward0>)\n",
      "loss ->  tensor(0.0521, grad_fn=<MeanBackward0>)\n",
      "loss ->  tensor(0.0517, grad_fn=<MeanBackward0>)\n",
      "loss ->  tensor(0.0518, grad_fn=<MeanBackward0>)\n",
      "loss ->  tensor(0.0526, grad_fn=<MeanBackward0>)\n",
      "loss ->  tensor(0.0513, grad_fn=<MeanBackward0>)\n",
      "loss ->  tensor(0.0544, grad_fn=<MeanBackward0>)\n",
      "loss ->  tensor(0.0521, grad_fn=<MeanBackward0>)\n",
      "loss ->  tensor(0.0507, grad_fn=<MeanBackward0>)\n",
      "loss ->  tensor(0.0517, grad_fn=<MeanBackward0>)\n",
      "loss ->  tensor(0.0519, grad_fn=<MeanBackward0>)\n",
      "loss ->  tensor(0.0529, grad_fn=<MeanBackward0>)\n",
      "loss ->  tensor(0.0506, grad_fn=<MeanBackward0>)\n",
      "loss ->  tensor(0.0526, grad_fn=<MeanBackward0>)\n",
      "loss ->  tensor(0.0512, grad_fn=<MeanBackward0>)\n",
      "Epoch: 4 cost time: 63.29934120178223\n",
      "Epoch: 4, Steps: 38 | Train Loss: 0.0535682 Vali Loss: 0.0174377 Test Loss: 0.0289028\n",
      "Validation loss decreased (0.018328 --> 0.017438).  Saving model ...\n",
      "Updating learning rate to 1.25e-05\n",
      ">>>>>>>testing : 102_close_price_diff_perc_not_nrm_informer_custom_ftMS_sl100_ll100_pl50_dm512_nh10_el4_dl2_df2048_atprob_fc5_ebtimeF_dtTrue_mxTrue_exp_0<<<<<<<<<<<<<<<<<<<<<<<<<<<<<<<<<\n",
      "data_path ->  102_close_price_diff_perc_not_nrm.csv\n",
      "scaling\n",
      "test shape: (3, 32, 50, 1) (3, 32, 50, 1)\n",
      "test shape: (96, 50, 1) (96, 50, 1)\n",
      "mse:0.0014733064454048872, mae:0.029662523418664932\n"
     ]
    }
   ],
   "source": [
    "for ii in range(args.itr):\n",
    "    # setting record of experiments\n",
    "    \n",
    "\n",
    "    # set experiments\n",
    "    exp = Exp(args)\n",
    "    \n",
    "    # train\n",
    "    print('>>>>>>>start training : {}>>>>>>>>>>>>>>>>>>>>>>>>>>'.format(setting))\n",
    "    exp.train(setting)\n",
    "    \n",
    "    # test\n",
    "    print('>>>>>>>testing : {}<<<<<<<<<<<<<<<<<<<<<<<<<<<<<<<<<'.format(setting))\n",
    "    exp.test(setting)\n",
    "\n",
    "    torch.cuda.empty_cache()"
   ]
  },
  {
   "cell_type": "code",
   "execution_count": 25,
   "metadata": {},
   "outputs": [
    {
     "name": "stdout",
     "output_type": "stream",
     "text": [
      "data_path ->  102_close_price_diff_perc_not_nrm.csv\n",
      "scaling\n",
      "0\n",
      "torch.Size([32, 150, 103])\n",
      "1\n",
      "torch.Size([32, 150, 103])\n",
      "2\n",
      "torch.Size([32, 150, 103])\n"
     ]
    }
   ],
   "source": [
    "test_data, test_loader = exp._get_data(flag='test')\n",
    "# print(testloader.shape)\n",
    "for i, (batch_x,batch_y,batch_x_mark,batch_y_mark) in enumerate(test_loader):\n",
    "    print(i)\n",
    "    print(batch_y.shape)"
   ]
  },
  {
   "cell_type": "markdown",
   "metadata": {
    "id": "CDHF-HerAE3u"
   },
   "source": [
    "## Prediction"
   ]
  },
  {
   "cell_type": "code",
   "execution_count": 26,
   "metadata": {
    "id": "s0YI1zx6ACiz"
   },
   "outputs": [],
   "source": [
    "import os\n",
    "\n",
    "# set saved model path\n",
    "# setting = 'informer_ETTh1_ftM_sl96_ll48_pl24_dm512_nh8_el2_dl1_df2048_atprob_fc5_ebtimeF_dtTrue_mxTrue_exp_0'\n",
    "# setting = 'informer_custom_ftS_sl96_ll48_pl24_dm512_nh8_el2_dl1_df2048_atprob_fc5_ebtimeF_dtTrue_mxTrue_exp_0'\n",
    "# setting = 'informer_custom_ftMS_sl96_ll48_pl24_dm512_nh8_el2_dl1_df2048_atprob_fc5_ebtimeF_dtTrue_mxTrue_exp_0'\n",
    "# setting = 'informer_custom_ftMS_sl150_ll90_pl15_dm512_nh8_el2_dl1_df2048_atprob_fc5_ebtimeF_dtTrue_mxTrue_exp_0'\n",
    "# setting = 'informer_custom_ftMS_sl20_ll10_pl24_dm512_nh8_el2_dl1_df2048_atprob_fc5_ebtimeF_dtTrue_mxTrue_exp_0'\n",
    "# setting = 'informer_custom_ftMS_sl200_ll100_pl30_dm512_nh8_el2_dl1_df2048_atprob_fc5_ebtimeF_dtTrue_mxTrue_exp_0'\n",
    "# setting = 'informer_custom_ftMS_sl200_ll100_pl30_dm512_nh58_el2_dl1_df2048_atprob_fc5_ebtimeF_dtTrue_mxTrue_exp_0'\n",
    "# setting = 'informer_custom_ftMS_sl200_ll100_pl30_dm512_nh58_el2_dl1_df2048_atprob_fc5_ebtimeF_dtTrue_mxTrue_exp_0'\n",
    "# setting = 'informer_custom_ftMS_sl200_ll100_pl30_dm2512_nh58_el2_dl1_df2048_atprob_fc5_ebtimeF_dtTrue_mxTrue_exp_0'\n",
    "# setting = 'informer_custom_ftMS_sl200_ll100_pl30_dm2512_nh58_el2_dl1_df2048_atprob_fc5_ebtimeF_dtTrue_mxTrue_exp_0'\n",
    "# setting = 'informer_custom_ftMS_sl200_ll100_pl10_dm3512_nh58_el2_dl1_df2048_atprob_fc5_ebtimeF_dtTrue_mxTrue_exp_0'\n",
    "# setting = 'informer_custom_ftMS_sl200_ll200_pl50_dm3512_nh58_el2_dl1_df2048_atprob_fc5_ebtimeF_dtTrue_mxTrue_exp_0'\n",
    "# setting = 'informer_custom_ftMS_sl400_ll400_pl100_dm2512_nh10_el4_dl2_df2048_atprob_fc5_ebtimeF_dtTrue_mxTrue_exp_0'\n",
    "# setting = 'informer_custom_ftMS_sl100_ll100_pl50_dm2512_nh10_el4_dl2_df2048_atprob_fc5_ebtimeF_dtTrue_mxTrue_exp_0'\n",
    "# setting = 'informer_custom_ftMS_sl100_ll100_pl50_dm512_nh10_el4_dl2_df2048_atprob_fc5_ebtimeF_dtTrue_mxTrue_exp_0'\n",
    "path = os.path.join(args.checkpoints,setting,'checkpoint.pth')"
   ]
  },
  {
   "cell_type": "code",
   "execution_count": 27,
   "metadata": {
    "id": "nTkluNNcyMJt"
   },
   "outputs": [
    {
     "name": "stdout",
     "output_type": "stream",
     "text": [
      "Use CPU\n",
      "datapath ==  102_close_price_diff_perc_not_nrm.csv\n",
      "pred_loader length\n",
      "1\n",
      "torch.Size([1, 100, 103])\n"
     ]
    }
   ],
   "source": [
    "# If you already have a trained model, you can set the arguments and model path, then initialize a Experiment and use it to predict\n",
    "# Prediction is a sequence which is adjacent to the last date of the data, and does not exist in the data\n",
    "# If you want to get more information about prediction, you can refer to code `exp/exp_informer.py function predict()` and `data/data_loader.py class Dataset_Pred`\n",
    "\n",
    "exp = Exp(args)\n",
    "\n",
    "exp.predict(setting, True)"
   ]
  },
  {
   "cell_type": "code",
   "execution_count": 28,
   "metadata": {
    "colab": {
     "base_uri": "https://localhost:8080/"
    },
    "id": "KBCPbjGuzAZb",
    "outputId": "f8813326-2d20-4719-831c-cf7494cd3180"
   },
   "outputs": [
    {
     "data": {
      "text/plain": [
       "(1, 50, 1)"
      ]
     },
     "execution_count": 28,
     "metadata": {},
     "output_type": "execute_result"
    }
   ],
   "source": [
    "  # the prediction will be saved in ./results/{setting}/real_prediction.npy\n",
    "import numpy as np\n",
    "\n",
    "\n",
    "prediction = np.load('./results/'+setting+'/real_prediction.npy')\n",
    "\n",
    "prediction.shape"
   ]
  },
  {
   "cell_type": "markdown",
   "metadata": {
    "id": "5yFuVkTV30_j"
   },
   "source": [
    "### More details about Prediction - prediction function"
   ]
  },
  {
   "cell_type": "code",
   "execution_count": 29,
   "metadata": {
    "id": "Sv9AR_Aw030r"
   },
   "outputs": [],
   "source": [
    "# here is the detailed code of function predict\n",
    "\n",
    "def predict(exp, setting, load=False):\n",
    "    pred_data, pred_loader = exp._get_data(flag='pred')\n",
    "        \n",
    "    if load:\n",
    "        path = os.path.join(exp.args.checkpoints, setting)\n",
    "        best_model_path = path+'/'+'checkpoint.pth'\n",
    "        exp.model.load_state_dict(torch.load(best_model_path))\n",
    "\n",
    "    exp.model.eval()\n",
    "        \n",
    "    preds = []\n",
    "        \n",
    "    for i, (batch_x,batch_y,batch_x_mark,batch_y_mark) in enumerate(pred_loader):\n",
    "        batch_x = batch_x.float().to(exp.device)\n",
    "        batch_y = batch_y.float()\n",
    "        print(batch_y.shape)\n",
    "        batch_x_mark = batch_x_mark.float().to(exp.device)\n",
    "        batch_y_mark = batch_y_mark.float().to(exp.device)\n",
    "\n",
    "        # decoder input\n",
    "        if exp.args.padding==0:\n",
    "            dec_inp = torch.zeros([batch_y.shape[0], exp.args.pred_len, batch_y.shape[-1]]).float()\n",
    "        elif exp.args.padding==1:\n",
    "            dec_inp = torch.ones([batch_y.shape[0], exp.args.pred_len, batch_y.shape[-1]]).float()\n",
    "        else:\n",
    "            dec_inp = torch.zeros([batch_y.shape[0], exp.args.pred_len, batch_y.shape[-1]]).float()\n",
    "        dec_inp = torch.cat([batch_y[:,:exp.args.label_len,:], dec_inp], dim=1).float().to(exp.device)\n",
    "        # encoder - decoder\n",
    "        if exp.args.use_amp:\n",
    "            with torch.cuda.amp.autocast():\n",
    "                if exp.args.output_attention:\n",
    "                    outputs = exp.model(batch_x, batch_x_mark, dec_inp, batch_y_mark)[0]\n",
    "                else:\n",
    "                    outputs = exp.model(batch_x, batch_x_mark, dec_inp, batch_y_mark)\n",
    "        else:\n",
    "            if exp.args.output_attention:\n",
    "                outputs = exp.model(batch_x, batch_x_mark, dec_inp, batch_y_mark)[0]\n",
    "            else:\n",
    "                outputs = exp.model(batch_x, batch_x_mark, dec_inp, batch_y_mark)\n",
    "        f_dim = -1 if exp.args.features=='MS' else 0\n",
    "        batch_y = batch_y[:,-exp.args.pred_len:,f_dim:].to(exp.device)\n",
    "        \n",
    "        pred = outputs.detach().cpu().numpy()#.squeeze()\n",
    "        \n",
    "        preds.append(pred)\n",
    "\n",
    "    preds = np.array(preds)\n",
    "    preds = preds.reshape(-1, preds.shape[-2], preds.shape[-1])\n",
    "    \n",
    "    # result save\n",
    "    folder_path = './results/' + setting +'/'\n",
    "    if not os.path.exists(folder_path):\n",
    "        os.makedirs(folder_path)\n",
    "    \n",
    "    np.save(folder_path+'real_prediction.npy', preds)\n",
    "    \n",
    "    return preds\n"
   ]
  },
  {
   "cell_type": "code",
   "execution_count": 30,
   "metadata": {
    "colab": {
     "base_uri": "https://localhost:8080/"
    },
    "id": "tVLWZL2a1pwB",
    "outputId": "7cec8531-480e-44a4-c0b9-8c5128b1fc02"
   },
   "outputs": [
    {
     "name": "stdout",
     "output_type": "stream",
     "text": [
      "datapath ==  102_close_price_diff_perc_not_nrm.csv\n",
      "torch.Size([1, 100, 103])\n"
     ]
    }
   ],
   "source": [
    "# you can also use this prediction function to get result\n",
    "prediction = predict(exp, setting, True)"
   ]
  },
  {
   "cell_type": "code",
   "execution_count": 31,
   "metadata": {
    "colab": {
     "base_uri": "https://localhost:8080/",
     "height": 265
    },
    "id": "NwtZmQC71uc8",
    "outputId": "6bad1dea-ffff-42b3-c5bb-291c82ac5ba9"
   },
   "outputs": [
    {
     "data": {
      "image/png": "[encoded data removed]",
      "text/plain": [
       "<Figure size 640x480 with 1 Axes>"
      ]
     },
     "metadata": {},
     "output_type": "display_data"
    }
   ],
   "source": [
    "import matplotlib.pyplot as plt\n",
    "\n",
    "plt.figure()\n",
    "plt.plot(prediction[0,:,-1])\n",
    "plt.show()"
   ]
  },
  {
   "cell_type": "markdown",
   "metadata": {
    "id": "EnePVyrW4I14"
   },
   "source": [
    "### More details about Prediction - prediction dataset\n",
    "\n",
    "You can give a `root_path` and `data_path` of the data you want to forecast, and set `seq_len`, `label_len`, `pred_len` and other arguments as other Dataset. The difference is that you can set a more detailed freq such as `15min` or `3h` to generate the timestamp of prediction series.\n",
    "\n",
    "`Dataset_Pred` only has one sample (including `encoder_input: [1, seq_len, dim]`, `decoder_token: [1, label_len, dim]`, `encoder_input_timestamp: [1, seq_len, date_dim]`, `decoder_input_timstamp: [1, label_len+pred_len, date_dim]`). It will intercept the last sequence of the given data (seq_len data) to forecast the unseen future sequence (pred_len data)."
   ]
  },
  {
   "cell_type": "code",
   "execution_count": 32,
   "metadata": {
    "id": "ZpXhNGp34Hf4"
   },
   "outputs": [],
   "source": [
    "from data.data_loader import Dataset_Pred\n",
    "from torch.utils.data import DataLoader"
   ]
  },
  {
   "cell_type": "code",
   "execution_count": 33,
   "metadata": {
    "id": "j4Rpd1q74T8N"
   },
   "outputs": [
    {
     "name": "stdout",
     "output_type": "stream",
     "text": [
      "datapath ==  102_close_price_diff_perc_not_nrm.csv\n"
     ]
    }
   ],
   "source": [
    "Data = Dataset_Pred\n",
    "timeenc = 0 if args.embed!='timeF' else 1\n",
    "flag = 'pred'; shuffle_flag = False; drop_last = False; batch_size = 1\n",
    "\n",
    "freq = args.detail_freq\n",
    "\n",
    "data_set = Data(\n",
    "    root_path=args.root_path,\n",
    "    data_path=args.data_path,\n",
    "    flag=flag,\n",
    "    size=[args.seq_len, args.label_len, args.pred_len],\n",
    "    features=args.features,\n",
    "    target=args.target,\n",
    "    timeenc=timeenc,\n",
    "    freq=freq\n",
    ")\n",
    "data_loader = DataLoader(\n",
    "    data_set,\n",
    "    batch_size=batch_size,\n",
    "    shuffle=shuffle_flag,\n",
    "    num_workers=args.num_workers,\n",
    "    drop_last=drop_last)"
   ]
  },
  {
   "cell_type": "code",
   "execution_count": 34,
   "metadata": {
    "colab": {
     "base_uri": "https://localhost:8080/"
    },
    "id": "42C84BfY6UPV",
    "outputId": "fe8f6340-2345-4c09-e720-c30ce50c77fd"
   },
   "outputs": [
    {
     "data": {
      "text/plain": [
       "(1, 1)"
      ]
     },
     "execution_count": 34,
     "metadata": {},
     "output_type": "execute_result"
    }
   ],
   "source": [
    "len(data_set), len(data_loader)"
   ]
  },
  {
   "cell_type": "markdown",
   "metadata": {
    "id": "cNhEP_7sAgqC"
   },
   "source": [
    "## Visualization"
   ]
  },
  {
   "cell_type": "code",
   "execution_count": 35,
   "metadata": {
    "colab": {
     "base_uri": "https://localhost:8080/"
    },
    "id": "vMRk8VkQ2Iko",
    "outputId": "b2da9ee4-fd43-44de-d421-e6396a39a666"
   },
   "outputs": [
    {
     "data": {
      "text/plain": [
       "((96, 50, 1), (96, 50, 1))"
      ]
     },
     "execution_count": 35,
     "metadata": {},
     "output_type": "execute_result"
    }
   ],
   "source": [
    "# When we finished exp.train(setting) and exp.test(setting), we will get a trained model and the results of test experiment\n",
    "# The results of test experiment will be saved in ./results/{setting}/pred.npy (prediction of test dataset) and ./results/{setting}/true.npy (groundtruth of test dataset)\n",
    "\n",
    "preds = np.load('./results/'+setting+'/pred.npy')\n",
    "trues = np.load('./results/'+setting+'/true.npy')\n",
    "\n",
    "# [samples, pred_len, dimensions]\n",
    "preds.shape, trues.shape"
   ]
  },
  {
   "cell_type": "code",
   "execution_count": 36,
   "metadata": {},
   "outputs": [
    {
     "data": {
      "text/plain": [
       "(1, 50, 1)"
      ]
     },
     "execution_count": 36,
     "metadata": {},
     "output_type": "execute_result"
    }
   ],
   "source": [
    "real_prediction = np.load('./results/'+setting+'/real_prediction.npy')\n",
    "real_prediction.shape"
   ]
  },
  {
   "cell_type": "code",
   "execution_count": 37,
   "metadata": {},
   "outputs": [
    {
     "name": "stdout",
     "output_type": "stream",
     "text": [
      "[[[-0.03708217]\n",
      "  [ 0.04314939]\n",
      "  [ 0.01580415]\n",
      "  ...\n",
      "  [ 0.001755  ]\n",
      "  [-0.00198383]\n",
      "  [ 0.01330116]]\n",
      "\n",
      " [[ 0.04314939]\n",
      "  [ 0.01580415]\n",
      "  [-0.00146841]\n",
      "  ...\n",
      "  [-0.00198383]\n",
      "  [ 0.01330116]\n",
      "  [-0.0817949 ]]\n",
      "\n",
      " [[ 0.01580415]\n",
      "  [-0.00146841]\n",
      "  [-0.01601809]\n",
      "  ...\n",
      "  [ 0.01330116]\n",
      "  [-0.0817949 ]\n",
      "  [-0.01424121]]\n",
      "\n",
      " ...\n",
      "\n",
      " [[-0.00683747]\n",
      "  [-0.033915  ]\n",
      "  [-0.02316425]\n",
      "  ...\n",
      "  [ 0.01345782]\n",
      "  [-0.01797596]\n",
      "  [-0.0222618 ]]\n",
      "\n",
      " [[-0.033915  ]\n",
      "  [-0.02316425]\n",
      "  [ 0.01068841]\n",
      "  ...\n",
      "  [-0.01797596]\n",
      "  [-0.0222618 ]\n",
      "  [ 0.0090647 ]]\n",
      "\n",
      " [[-0.02316425]\n",
      "  [ 0.01068841]\n",
      "  [ 0.00207896]\n",
      "  ...\n",
      "  [-0.0222618 ]\n",
      "  [ 0.0090647 ]\n",
      "  [-0.02021444]]]\n"
     ]
    }
   ],
   "source": [
    "print(trues)"
   ]
  },
  {
   "cell_type": "code",
   "execution_count": 38,
   "metadata": {
    "id": "ZEGhDOmxAeAb"
   },
   "outputs": [],
   "source": [
    "import matplotlib.pyplot as plt\n",
    "import seaborn as sns"
   ]
  },
  {
   "cell_type": "code",
   "execution_count": 39,
   "metadata": {
    "colab": {
     "base_uri": "https://localhost:8080/",
     "height": 265
    },
    "id": "kyPuOPGAAjl3",
    "outputId": "22fb6283-c64d-4203-c3a4-209397009534"
   },
   "outputs": [
    {
     "data": {
      "image/png": "[encoded data removed]",
      "text/plain": [
       "<Figure size 640x480 with 1 Axes>"
      ]
     },
     "metadata": {},
     "output_type": "display_data"
    }
   ],
   "source": [
    "# draw OT prediction\n",
    "plt.figure()\n",
    "plt.plot(trues[0,:,-1], label='GroundTruth')\n",
    "plt.plot(preds[0,:,-1], label='Prediction')\n",
    "plt.legend()\n",
    "plt.show()"
   ]
  },
  {
   "cell_type": "code",
   "execution_count": 40,
   "metadata": {
    "colab": {
     "base_uri": "https://localhost:8080/",
     "height": 265
    },
    "id": "43MIgWfpMYIB",
    "outputId": "c14c910a-ba25-4169-c3c6-3feec340e76d"
   },
   "outputs": [
    {
     "data": {
      "image/png": "[encoded data removed]",
      "text/plain": [
       "<Figure size 640x480 with 1 Axes>"
      ]
     },
     "metadata": {},
     "output_type": "display_data"
    }
   ],
   "source": [
    "# draw HUFL prediction\n",
    "plt.figure()\n",
    "plt.plot(trues[-1,:,0], label='GroundTruth')\n",
    "plt.plot(preds[-1,:,0], label='Prediction')\n",
    "plt.legend()\n",
    "plt.show()"
   ]
  },
  {
   "cell_type": "code",
   "execution_count": 41,
   "metadata": {
    "id": "hKmqhCfmt0xd"
   },
   "outputs": [
    {
     "ename": "TypeError",
     "evalue": "unsupported operand type(s) for /: 'str' and 'int'",
     "output_type": "error",
     "traceback": [
      "\u001b[0;31m---------------------------------------------------------------------------\u001b[0m",
      "\u001b[0;31mTypeError\u001b[0m                                 Traceback (most recent call last)",
      "\u001b[0;32m/tmp/ipykernel_7477/3912423463.py\u001b[0m in \u001b[0;36m<module>\u001b[0;34m\u001b[0m\n\u001b[1;32m     13\u001b[0m     \u001b[0mfeatures\u001b[0m\u001b[0;34m=\u001b[0m\u001b[0margs\u001b[0m\u001b[0;34m.\u001b[0m\u001b[0mfeatures\u001b[0m\u001b[0;34m,\u001b[0m\u001b[0;34m\u001b[0m\u001b[0;34m\u001b[0m\u001b[0m\n\u001b[1;32m     14\u001b[0m     \u001b[0mtimeenc\u001b[0m\u001b[0;34m=\u001b[0m\u001b[0mtimeenc\u001b[0m\u001b[0;34m,\u001b[0m\u001b[0;34m\u001b[0m\u001b[0;34m\u001b[0m\u001b[0m\n\u001b[0;32m---> 15\u001b[0;31m     \u001b[0mfreq\u001b[0m\u001b[0;34m=\u001b[0m\u001b[0margs\u001b[0m\u001b[0;34m.\u001b[0m\u001b[0mfreq\u001b[0m\u001b[0;34m\u001b[0m\u001b[0;34m\u001b[0m\u001b[0m\n\u001b[0m\u001b[1;32m     16\u001b[0m )\n\u001b[1;32m     17\u001b[0m data_loader = DataLoader(\n",
      "\u001b[0;32m~/aml projecct/Informer2020/data/data_loader.py\u001b[0m in \u001b[0;36m__init__\u001b[0;34m(self, root_path, flag, size, features, data_path, target, scale, inverse, timeenc, freq, cols)\u001b[0m\n\u001b[1;32m     41\u001b[0m         \u001b[0mself\u001b[0m\u001b[0;34m.\u001b[0m\u001b[0mroot_path\u001b[0m \u001b[0;34m=\u001b[0m \u001b[0mroot_path\u001b[0m\u001b[0;34m\u001b[0m\u001b[0;34m\u001b[0m\u001b[0m\n\u001b[1;32m     42\u001b[0m         \u001b[0mself\u001b[0m\u001b[0;34m.\u001b[0m\u001b[0mdata_path\u001b[0m \u001b[0;34m=\u001b[0m \u001b[0mdata_path\u001b[0m\u001b[0;34m\u001b[0m\u001b[0;34m\u001b[0m\u001b[0m\n\u001b[0;32m---> 43\u001b[0;31m         \u001b[0mself\u001b[0m\u001b[0;34m.\u001b[0m\u001b[0m__read_data__\u001b[0m\u001b[0;34m(\u001b[0m\u001b[0;34m)\u001b[0m\u001b[0;34m\u001b[0m\u001b[0;34m\u001b[0m\u001b[0m\n\u001b[0m\u001b[1;32m     44\u001b[0m \u001b[0;34m\u001b[0m\u001b[0m\n\u001b[1;32m     45\u001b[0m     \u001b[0;32mdef\u001b[0m \u001b[0m__read_data__\u001b[0m\u001b[0;34m(\u001b[0m\u001b[0mself\u001b[0m\u001b[0;34m)\u001b[0m\u001b[0;34m:\u001b[0m\u001b[0;34m\u001b[0m\u001b[0;34m\u001b[0m\u001b[0m\n",
      "\u001b[0;32m~/aml projecct/Informer2020/data/data_loader.py\u001b[0m in \u001b[0;36m__read_data__\u001b[0;34m(self)\u001b[0m\n\u001b[1;32m     61\u001b[0m         \u001b[0;32mif\u001b[0m \u001b[0mself\u001b[0m\u001b[0;34m.\u001b[0m\u001b[0mscale\u001b[0m\u001b[0;34m:\u001b[0m\u001b[0;34m\u001b[0m\u001b[0;34m\u001b[0m\u001b[0m\n\u001b[1;32m     62\u001b[0m             \u001b[0mtrain_data\u001b[0m \u001b[0;34m=\u001b[0m \u001b[0mdf_data\u001b[0m\u001b[0;34m[\u001b[0m\u001b[0mborder1s\u001b[0m\u001b[0;34m[\u001b[0m\u001b[0;36m0\u001b[0m\u001b[0;34m]\u001b[0m\u001b[0;34m:\u001b[0m\u001b[0mborder2s\u001b[0m\u001b[0;34m[\u001b[0m\u001b[0;36m0\u001b[0m\u001b[0;34m]\u001b[0m\u001b[0;34m]\u001b[0m\u001b[0;34m\u001b[0m\u001b[0;34m\u001b[0m\u001b[0m\n\u001b[0;32m---> 63\u001b[0;31m             \u001b[0mself\u001b[0m\u001b[0;34m.\u001b[0m\u001b[0mscaler\u001b[0m\u001b[0;34m.\u001b[0m\u001b[0mfit\u001b[0m\u001b[0;34m(\u001b[0m\u001b[0mtrain_data\u001b[0m\u001b[0;34m.\u001b[0m\u001b[0mvalues\u001b[0m\u001b[0;34m)\u001b[0m\u001b[0;34m\u001b[0m\u001b[0;34m\u001b[0m\u001b[0m\n\u001b[0m\u001b[1;32m     64\u001b[0m             \u001b[0mdata\u001b[0m \u001b[0;34m=\u001b[0m \u001b[0mself\u001b[0m\u001b[0;34m.\u001b[0m\u001b[0mscaler\u001b[0m\u001b[0;34m.\u001b[0m\u001b[0mtransform\u001b[0m\u001b[0;34m(\u001b[0m\u001b[0mdf_data\u001b[0m\u001b[0;34m.\u001b[0m\u001b[0mvalues\u001b[0m\u001b[0;34m)\u001b[0m\u001b[0;34m\u001b[0m\u001b[0;34m\u001b[0m\u001b[0m\n\u001b[1;32m     65\u001b[0m         \u001b[0;32melse\u001b[0m\u001b[0;34m:\u001b[0m\u001b[0;34m\u001b[0m\u001b[0;34m\u001b[0m\u001b[0m\n",
      "\u001b[0;32m~/aml projecct/Informer2020/utils/tools.py\u001b[0m in \u001b[0;36mfit\u001b[0;34m(self, data)\u001b[0m\n\u001b[1;32m     60\u001b[0m \u001b[0;34m\u001b[0m\u001b[0m\n\u001b[1;32m     61\u001b[0m     \u001b[0;32mdef\u001b[0m \u001b[0mfit\u001b[0m\u001b[0;34m(\u001b[0m\u001b[0mself\u001b[0m\u001b[0;34m,\u001b[0m \u001b[0mdata\u001b[0m\u001b[0;34m)\u001b[0m\u001b[0;34m:\u001b[0m\u001b[0;34m\u001b[0m\u001b[0;34m\u001b[0m\u001b[0m\n\u001b[0;32m---> 62\u001b[0;31m         \u001b[0mself\u001b[0m\u001b[0;34m.\u001b[0m\u001b[0mmean\u001b[0m \u001b[0;34m=\u001b[0m \u001b[0mdata\u001b[0m\u001b[0;34m.\u001b[0m\u001b[0mmean\u001b[0m\u001b[0;34m(\u001b[0m\u001b[0;36m0\u001b[0m\u001b[0;34m)\u001b[0m\u001b[0;34m\u001b[0m\u001b[0;34m\u001b[0m\u001b[0m\n\u001b[0m\u001b[1;32m     63\u001b[0m         \u001b[0mself\u001b[0m\u001b[0;34m.\u001b[0m\u001b[0mstd\u001b[0m \u001b[0;34m=\u001b[0m \u001b[0mdata\u001b[0m\u001b[0;34m.\u001b[0m\u001b[0mstd\u001b[0m\u001b[0;34m(\u001b[0m\u001b[0;36m0\u001b[0m\u001b[0;34m)\u001b[0m\u001b[0;34m\u001b[0m\u001b[0;34m\u001b[0m\u001b[0m\n\u001b[1;32m     64\u001b[0m \u001b[0;34m\u001b[0m\u001b[0m\n",
      "\u001b[0;32m/opt/conda/lib/python3.7/site-packages/numpy/core/_methods.py\u001b[0m in \u001b[0;36m_mean\u001b[0;34m(a, axis, dtype, out, keepdims, where)\u001b[0m\n\u001b[1;32m    180\u001b[0m     \u001b[0;32mif\u001b[0m \u001b[0misinstance\u001b[0m\u001b[0;34m(\u001b[0m\u001b[0mret\u001b[0m\u001b[0;34m,\u001b[0m \u001b[0mmu\u001b[0m\u001b[0;34m.\u001b[0m\u001b[0mndarray\u001b[0m\u001b[0;34m)\u001b[0m\u001b[0;34m:\u001b[0m\u001b[0;34m\u001b[0m\u001b[0;34m\u001b[0m\u001b[0m\n\u001b[1;32m    181\u001b[0m         ret = um.true_divide(\n\u001b[0;32m--> 182\u001b[0;31m                 ret, rcount, out=ret, casting='unsafe', subok=False)\n\u001b[0m\u001b[1;32m    183\u001b[0m         \u001b[0;32mif\u001b[0m \u001b[0mis_float16_result\u001b[0m \u001b[0;32mand\u001b[0m \u001b[0mout\u001b[0m \u001b[0;32mis\u001b[0m \u001b[0;32mNone\u001b[0m\u001b[0;34m:\u001b[0m\u001b[0;34m\u001b[0m\u001b[0;34m\u001b[0m\u001b[0m\n\u001b[1;32m    184\u001b[0m             \u001b[0mret\u001b[0m \u001b[0;34m=\u001b[0m \u001b[0marr\u001b[0m\u001b[0;34m.\u001b[0m\u001b[0mdtype\u001b[0m\u001b[0;34m.\u001b[0m\u001b[0mtype\u001b[0m\u001b[0;34m(\u001b[0m\u001b[0mret\u001b[0m\u001b[0;34m)\u001b[0m\u001b[0;34m\u001b[0m\u001b[0;34m\u001b[0m\u001b[0m\n",
      "\u001b[0;31mTypeError\u001b[0m: unsupported operand type(s) for /: 'str' and 'int'"
     ]
    }
   ],
   "source": [
    "from data.data_loader import Dataset_ETT_hour\n",
    "from torch.utils.data import DataLoader\n",
    "\n",
    "Data = Dataset_ETT_hour\n",
    "timeenc = 0 if args.embed!='timeF' else 1\n",
    "flag = 'test'; shuffle_flag = False; drop_last = True; batch_size = 1\n",
    "\n",
    "data_set = Data(\n",
    "    root_path=args.root_path,\n",
    "    data_path=args.data_path,\n",
    "    flag=flag,\n",
    "    size=[args.seq_len, args.label_len, args.pred_len],\n",
    "    features=args.features,\n",
    "    timeenc=timeenc,\n",
    "    freq=args.freq\n",
    ")\n",
    "data_loader = DataLoader(\n",
    "    data_set,\n",
    "    batch_size=batch_size,\n",
    "    shuffle=shuffle_flag,\n",
    "    num_workers=args.num_workers,\n",
    "    drop_last=drop_last)"
   ]
  },
  {
   "cell_type": "code",
   "execution_count": null,
   "metadata": {
    "colab": {
     "base_uri": "https://localhost:8080/"
    },
    "id": "iflTTl0quCoK",
    "outputId": "b312c51e-36a2-41ae-b200-a2925920e79c"
   },
   "outputs": [],
   "source": [
    "import os\n",
    "\n",
    "args.output_attention = True\n",
    "\n",
    "exp = Exp(args)\n",
    "\n",
    "model = exp.model\n",
    "\n",
    "# setting = 'informer_ETTh1_ftM_sl96_ll48_pl24_dm512_nh8_el2_dl1_df2048_atprob_fc5_ebtimeF_dtTrue_mxTrue_exp_0'\n",
    "# setting = 'informer_custom_ftS_sl96_ll48_pl24_dm512_nh8_el2_dl1_df2048_atprob_fc5_ebtimeF_dtTrue_mxTrue_exp_0'\n",
    "# setting = 'informer_custom_ftMS_sl200_ll100_pl30_dm2512_nh58_el2_dl1_df2048_atprob_fc5_ebtimeF_dtTrue_mxTrue_exp_0'\n",
    "# setting='informer_custom_ftMS_sl100_ll100_pl50_dm512_nh10_el4_dl2_df2048_atprob_fc5_ebtimeF_dtTrue_mxTrue_exp_0'\n",
    "path = os.path.join(args.checkpoints,setting,'checkpoint.pth')\n",
    "model.load_state_dict(torch.load(path))"
   ]
  },
  {
   "cell_type": "code",
   "execution_count": null,
   "metadata": {
    "id": "lDdzqm9HAk2C"
   },
   "outputs": [],
   "source": [
    "# attention visualization\n",
    "idx = 0\n",
    "for i, (batch_x,batch_y,batch_x_mark,batch_y_mark) in enumerate(data_loader):\n",
    "    if i!=idx:\n",
    "        continue\n",
    "    batch_x = batch_x.float().to(exp.device)\n",
    "    batch_y = batch_y.float()\n",
    "\n",
    "    batch_x_mark = batch_x_mark.float().to(exp.device)\n",
    "    batch_y_mark = batch_y_mark.float().to(exp.device)\n",
    "    \n",
    "    dec_inp = torch.zeros_like(batch_y[:,-args.pred_len:,:]).float()\n",
    "    dec_inp = torch.cat([batch_y[:,:args.label_len,:], dec_inp], dim=1).float().to(exp.device)\n",
    "    \n",
    "    outputs,attn = model(batch_x, batch_x_mark, dec_inp, batch_y_mark)"
   ]
  },
  {
   "cell_type": "code",
   "execution_count": null,
   "metadata": {
    "colab": {
     "base_uri": "https://localhost:8080/"
    },
    "id": "hWef23vWAmUz",
    "outputId": "05b31758-9ca0-4603-aae0-bd1503c9ee3a"
   },
   "outputs": [],
   "source": [
    "attn[0].shape, attn[1].shape #, attn[2].shape"
   ]
  },
  {
   "cell_type": "code",
   "execution_count": null,
   "metadata": {
    "id": "iZDH1fZgAnrl"
   },
   "outputs": [],
   "source": [
    "layer = 0\n",
    "distil = 'Distil' if args.distil else 'NoDistil'\n",
    "for h in range(0,8):\n",
    "    plt.figure(figsize=[10,8])\n",
    "    plt.title('Informer, {}, attn:{} layer:{} head:{}'.format(distil, args.attn, layer, h))\n",
    "    A = attn[layer][0,h].detach().cpu().numpy()\n",
    "    ax = sns.heatmap(A, vmin=0, vmax=A.max()+0.01)\n",
    "    plt.show()"
   ]
  },
  {
   "cell_type": "code",
   "execution_count": null,
   "metadata": {
    "colab": {
     "base_uri": "https://localhost:8080/",
     "height": 253
    },
    "id": "DQFGYE3KAozo",
    "outputId": "bb9c2c34-68f8-4048-b095-66906e2fa084"
   },
   "outputs": [],
   "source": [
    "layer = 1\n",
    "distil = 'Distil' if args.distil else 'NoDistil'\n",
    "for h in range(0,8):\n",
    "    plt.figure(figsize=[10,8])\n",
    "    plt.title('Informer, {}, attn:{} layer:{} head:{}'.format(distil, args.attn, layer, h))\n",
    "    A = attn[layer][0,h].detach().cpu().numpy()\n",
    "    ax = sns.heatmap(A, vmin=0, vmax=A.max()+0.01)\n",
    "    plt.show()"
   ]
  },
  {
   "cell_type": "markdown",
   "metadata": {
    "id": "Ew9vekI9Mw8f"
   },
   "source": [
    "## Custom Data\n",
    "\n",
    "Custom data (xxx.csv) has to include at least 2 features: `date`(format: `YYYY-MM-DD hh:mm:ss`) and `target feature`.\n"
   ]
  },
  {
   "cell_type": "code",
   "execution_count": null,
   "metadata": {
    "id": "qqQBJWHeMzP-"
   },
   "outputs": [],
   "source": [
    "from data.data_loader import Dataset_Custom\n",
    "from torch.utils.data import DataLoader\n",
    "import pandas as pd\n",
    "import os"
   ]
  },
  {
   "cell_type": "code",
   "execution_count": null,
   "metadata": {
    "colab": {
     "base_uri": "https://localhost:8080/",
     "height": 267
    },
    "id": "tkMk7kDK4aSe",
    "outputId": "f4f31022-fe89-4ff9-8f7b-4334182d9a5b"
   },
   "outputs": [],
   "source": [
    "# custom data: xxx.csv\n",
    "# data features: ['date', ...(other features), target feature]\n",
    "\n",
    "# we take ETTh2 as an example\n",
    "args.root_path = './ETDataset/ETT-small/'\n",
    "args.data_path = 'ETTh2.csv'\n",
    "# args.data_path = 'final_data.csv'\n",
    "\n",
    "df1 = pd.read_csv(os.path.join(args.root_path, args.data_path))\n",
    "for index, row in df1.iterrows():\n",
    "  print(type(row[\"date\"]))\n",
    "  break\n",
    "df1.head()\n",
    "# df = pd.read_csv(os.path.join(args.data_path))"
   ]
  },
  {
   "cell_type": "code",
   "execution_count": null,
   "metadata": {
    "id": "5bFrfuw6Oxpi"
   },
   "outputs": [],
   "source": [
    "# custom data: xxx.csv\n",
    "# data features: ['date', ...(other features), target feature]\n",
    "\n",
    "# we take ETTh2 as an example\n",
    "# args.root_path = './ETDataset/ETT-small/'\n",
    "# args.data_path = 'ETTh2.csv'\n",
    "args.data_path = 'final_amazon_11_26.csv'\n",
    "\n",
    "# df = pd.read_csv(os.path.join(args.root_path, args.data_path))\n",
    "df = pd.read_csv(os.path.join(args.data_path))"
   ]
  },
  {
   "cell_type": "code",
   "execution_count": null,
   "metadata": {
    "colab": {
     "base_uri": "https://localhost:8080/"
    },
    "id": "ykyYAWygJmUc",
    "outputId": "02314d10-e9bc-4106-d219-e50c33a55797"
   },
   "outputs": [],
   "source": [
    "df.columns"
   ]
  },
  {
   "cell_type": "code",
   "execution_count": null,
   "metadata": {
    "colab": {
     "base_uri": "https://localhost:8080/",
     "height": 386
    },
    "id": "0--9JC0eO_WT",
    "outputId": "5bf5154f-1384-4894-a9f2-d5218203902c"
   },
   "outputs": [],
   "source": [
    "df.head()"
   ]
  },
  {
   "cell_type": "code",
   "execution_count": null,
   "metadata": {},
   "outputs": [],
   "source": [
    "print (df.dtypes)"
   ]
  },
  {
   "cell_type": "code",
   "execution_count": null,
   "metadata": {},
   "outputs": [],
   "source": [
    "df = df.drop('Unnamed: 0',axis=1)"
   ]
  },
  {
   "cell_type": "code",
   "execution_count": null,
   "metadata": {},
   "outputs": [],
   "source": [
    "# copy the data\n",
    "df_max_scaled = df.copy()\n",
    "\n",
    "# apply normalization techniques\n",
    "for column in df_max_scaled.columns:\n",
    "    try:\n",
    "        df_max_scaled[column] = df_max_scaled[column]  / df_max_scaled[column].abs().max()\n",
    "    except:\n",
    "        continue\n",
    "      \n",
    "# view normalized data\n",
    "display(df_max_scaled)"
   ]
  },
  {
   "cell_type": "code",
   "execution_count": null,
   "metadata": {},
   "outputs": [],
   "source": [
    "# df_max_scaled.to_csv(\"normalized_df.csv\")\n",
    "df.to_csv(\"normalized_df.csv\")"
   ]
  },
  {
   "cell_type": "code",
   "execution_count": null,
   "metadata": {
    "id": "QmvRipRbPAbP"
   },
   "outputs": [],
   "source": [
    "'''\n",
    "We set 'HULL' as target instead of 'OT'\n",
    "\n",
    "The following frequencies are supported:\n",
    "        Y   - yearly\n",
    "            alias: A\n",
    "        M   - monthly\n",
    "        W   - weekly\n",
    "        D   - daily\n",
    "        B   - business days\n",
    "        H   - hourly\n",
    "        T   - minutely\n",
    "            alias: min\n",
    "        S   - secondly\n",
    "'''\n",
    "\n",
    "args.target = 'HULL'\n",
    "args.freq = 'h'\n",
    "\n",
    "Data = Dataset_Custom\n",
    "timeenc = 0 if args.embed!='timeF' else 1\n",
    "flag = 'test'; shuffle_flag = False; drop_last = True; batch_size = 1\n",
    "\n",
    "data_set = Data(\n",
    "    root_path=args.root_path,\n",
    "    data_path=args.data_path,\n",
    "    flag=flag,\n",
    "    size=[args.seq_len, args.label_len, args.pred_len],\n",
    "    features=args.features,\n",
    "    timeenc=timeenc,\n",
    "    target=args.target, # HULL here\n",
    "    freq=args.freq # 'h': hourly, 't':minutely\n",
    ")\n",
    "data_loader = DataLoader(\n",
    "    data_set,\n",
    "    batch_size=batch_size,\n",
    "    shuffle=shuffle_flag,\n",
    "    num_workers=args.num_workers,\n",
    "    drop_last=drop_last)"
   ]
  },
  {
   "cell_type": "code",
   "execution_count": null,
   "metadata": {
    "id": "IkNDT2jMPCUf"
   },
   "outputs": [],
   "source": [
    "batch_x,batch_y,batch_x_mark,batch_y_mark = data_set[0]"
   ]
  },
  {
   "cell_type": "code",
   "execution_count": null,
   "metadata": {
    "id": "VUcvSLlkSFTx"
   },
   "outputs": [],
   "source": []
  }
 ],
 "metadata": {
  "accelerator": "GPU",
  "colab": {
   "provenance": []
  },
  "environment": {
   "kernel": "python3",
   "name": "common-cpu.m99",
   "type": "gcloud",
   "uri": "gcr.io/deeplearning-platform-release/base-cpu:m99"
  },
  "kernelspec": {
   "display_name": "Python 3",
   "language": "python",
   "name": "python3"
  },
  "language_info": {
   "codemirror_mode": {
    "name": "ipython",
    "version": 3
   },
   "file_extension": ".py",
   "mimetype": "text/x-python",
   "name": "python",
   "nbconvert_exporter": "python",
   "pygments_lexer": "ipython3",
   "version": "3.7.12"
  }
 },
 "nbformat": 4,
 "nbformat_minor": 4
}
