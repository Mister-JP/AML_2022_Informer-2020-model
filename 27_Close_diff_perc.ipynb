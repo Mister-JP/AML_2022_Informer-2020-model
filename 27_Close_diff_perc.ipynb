{
 "cells": [
  {
   "cell_type": "markdown",
   "metadata": {
    "id": "5IM6CZzW_CH0"
   },
   "source": [
    "# Only Sentiment analysis data for close_price_perc_diff prediction"
   ]
  },
  {
   "cell_type": "code",
   "execution_count": 1,
   "metadata": {
    "id": "b5GFng7v7Eq0"
   },
   "outputs": [],
   "source": [
    "import sys\n",
    "if not 'Informer2020' in sys.path:\n",
    "    sys.path += ['Informer2020']"
   ]
  },
  {
   "cell_type": "code",
   "execution_count": 2,
   "metadata": {
    "id": "YW9TS6jp_YXc"
   },
   "outputs": [],
   "source": [
    "# !pip install -r ./Informer2020/requirements.txt"
   ]
  },
  {
   "cell_type": "markdown",
   "metadata": {
    "id": "rIjZdN5e_SWe"
   },
   "source": [
    "## Experiments: Train and Test"
   ]
  },
  {
   "cell_type": "code",
   "execution_count": 3,
   "metadata": {
    "id": "RPdt-Kwc_RRZ"
   },
   "outputs": [],
   "source": [
    "from utils.tools import dotdict\n",
    "from exp.exp_informer import Exp_Informer\n",
    "import torch"
   ]
  },
  {
   "cell_type": "code",
   "execution_count": 4,
   "metadata": {
    "id": "6mx2dnwY9dWi"
   },
   "outputs": [],
   "source": [
    "args = dotdict()\n",
    "\n",
    "args.model = 'informer' # model of experiment, options: [informer, informerstack, informerlight(TBD)]\n",
    "\n",
    "args.data = 'ETTh1' # data\n",
    "args.data = 'custom' # data\n",
    "args.root_path = './ETDataset/ETT-small/' # root path of data file\n",
    "args.root_path = 'data' # root path of data file\n",
    "args.data_path = 'ETTh1.csv' # data file\n",
    "args.data_path = '27_Close_diff_perc.csv' # data file\n",
    "args.features = 'MS' # forecasting task, options:[M, S, MS]; M:multivariate predict multivariate, S:univariate predict univariate, MS:multivariate predict univariate\n",
    "args.target = 'Close' # target feature in S or MS task\n",
    "args.freq = 'd' # freq for time features encoding, options:[s:secondly, t:minutely, h:hourly, d:daily, b:business days, w:weekly, m:monthly], you can also use more detailed freq like 15min or 3h\n",
    "args.checkpoints = './informer_checkpoints' # location of model checkpoints\n",
    "\n",
    "args.seq_len = 100 # input sequence length of Informer encoder\n",
    "args.label_len = 100 # start token length of Informer decoder\n",
    "args.pred_len = 50 # prediction sequence length\n",
    "# Informer decoder input: concat[start token series(label_len), zero padding series(pred_len)]\n",
    "\n",
    "args.enc_in = 7 # encoder input size\n",
    "args.enc_in = 100 # encoder input size\n",
    "args.dec_in = 7 # decoder input size\n",
    "args.dec_in = 100 # decoder input size\n",
    "args.c_out = 7 # output size\n",
    "args.c_out = 100 # output size\n",
    "args.factor = 5 # probsparse attn factor\n",
    "args.d_model = 512 # dimension of model\n",
    "# args.d_model = 2512 # dimension of model\n",
    "args.n_heads = 10 # num of heads\n",
    "args.e_layers = 4 # num of encoder layers\n",
    "args.d_layers = 2 # num of decoder layers\n",
    "args.d_ff = 2048 # dimension of fcn in model\n",
    "args.dropout = 0.05 # dropout\n",
    "args.attn = 'prob' # attention used in encoder, options:[prob, full]\n",
    "args.embed = 'timeF' # time features encoding, options:[timeF, fixed, learned]\n",
    "args.activation = 'gelu' # activation\n",
    "args.distil = True # whether to use distilling in encoder\n",
    "args.output_attention = False # whether to output attention in ecoder\n",
    "args.mix = True\n",
    "args.padding = 0\n",
    "args.freq = 'd'\n",
    "\n",
    "args.batch_size = 32 \n",
    "args.learning_rate = 0.0001\n",
    "args.loss = 'mse'\n",
    "args.lradj = 'type1'\n",
    "args.use_amp = False # whether to use automatic mixed precision training\n",
    "\n",
    "args.num_workers = 0\n",
    "args.itr = 1\n",
    "args.train_epochs = 4\n",
    "args.patience = 5\n",
    "args.des = 'exp'\n",
    "\n",
    "args.use_gpu = True if torch.cuda.is_available() else False\n",
    "args.gpu = 0\n",
    "\n",
    "args.use_multi_gpu = False\n",
    "args.devices = '0,1,2,3'\n"
   ]
  },
  {
   "cell_type": "code",
   "execution_count": 5,
   "metadata": {
    "id": "k_BCYODAwKl9"
   },
   "outputs": [],
   "source": [
    "args.use_gpu = True if torch.cuda.is_available() and args.use_gpu else False\n",
    "\n",
    "if args.use_gpu and args.use_multi_gpu:\n",
    "    args.devices = args.devices.replace(' ','')\n",
    "    device_ids = args.devices.split(',')\n",
    "    args.device_ids = [int(id_) for id_ in device_ids]\n",
    "    args.gpu = args.device_ids[0]"
   ]
  },
  {
   "cell_type": "code",
   "execution_count": 6,
   "metadata": {
    "id": "53o3pZ809p-a"
   },
   "outputs": [],
   "source": [
    "# Set augments by using data name\n",
    "data_parser = {\n",
    "    'ETTh1':{'data':'ETTh1.csv','T':'OT','M':[7,7,7],'S':[1,1,1],'MS':[7,7,1]},\n",
    "    'ETTh2':{'data':'ETTh2.csv','T':'OT','M':[7,7,7],'S':[1,1,1],'MS':[7,7,1]},\n",
    "    'ETTm1':{'data':'ETTm1.csv','T':'OT','M':[7,7,7],'S':[1,1,1],'MS':[7,7,1]},\n",
    "    'ETTm2':{'data':'ETTm2.csv','T':'OT','M':[7,7,7],'S':[1,1,1],'MS':[7,7,1]},\n",
    "    'custom':{'data':'27_Close_diff_perc.csv','T':'Close_perc','M':[22,22,22],'S':[1,1,1],'MS':[22,22,1]},\n",
    "}\n",
    "if args.data in data_parser.keys():\n",
    "    data_info = data_parser[args.data]\n",
    "    args.data_path = data_info['data']\n",
    "    args.target = data_info['T']\n",
    "    args.enc_in, args.dec_in, args.c_out = data_info[args.features]"
   ]
  },
  {
   "cell_type": "code",
   "execution_count": 7,
   "metadata": {
    "id": "yZ5Q2vyKwSfk"
   },
   "outputs": [],
   "source": [
    "args.detail_freq = args.freq\n",
    "args.freq = args.freq[-1:]"
   ]
  },
  {
   "cell_type": "code",
   "execution_count": 8,
   "metadata": {
    "colab": {
     "base_uri": "https://localhost:8080/"
    },
    "id": "ywY-umrw-mHO",
    "outputId": "2618b6c1-eb39-430b-e1f6-64e621f7a34d"
   },
   "outputs": [
    {
     "name": "stdout",
     "output_type": "stream",
     "text": [
      "Args in experiment:\n",
      "{'model': 'informer', 'data': 'custom', 'root_path': 'data', 'data_path': '27_Close_diff_perc.csv', 'features': 'MS', 'target': 'Close_perc', 'freq': 'd', 'checkpoints': './informer_checkpoints', 'seq_len': 100, 'label_len': 100, 'pred_len': 50, 'enc_in': 22, 'dec_in': 22, 'c_out': 1, 'factor': 5, 'd_model': 512, 'n_heads': 10, 'e_layers': 4, 'd_layers': 2, 'd_ff': 2048, 'dropout': 0.05, 'attn': 'prob', 'embed': 'timeF', 'activation': 'gelu', 'distil': True, 'output_attention': False, 'mix': True, 'padding': 0, 'batch_size': 32, 'learning_rate': 0.0001, 'loss': 'mse', 'lradj': 'type1', 'use_amp': False, 'num_workers': 0, 'itr': 1, 'train_epochs': 4, 'patience': 5, 'des': 'exp', 'use_gpu': False, 'gpu': 0, 'use_multi_gpu': False, 'devices': '0,1,2,3', 'detail_freq': 'd'}\n"
     ]
    }
   ],
   "source": [
    "print('Args in experiment:')\n",
    "print(args)"
   ]
  },
  {
   "cell_type": "code",
   "execution_count": 9,
   "metadata": {
    "id": "KVHZhRB4-on9"
   },
   "outputs": [],
   "source": [
    "Exp = Exp_Informer"
   ]
  },
  {
   "cell_type": "code",
   "execution_count": 10,
   "metadata": {},
   "outputs": [],
   "source": [
    "setting = '27_close_diff_perc_{}_{}_ft{}_sl{}_ll{}_pl{}_dm{}_nh{}_el{}_dl{}_df{}_at{}_fc{}_eb{}_dt{}_mx{}_{}_{}'.format(args.model, args.data, args.features, \n",
    "                args.seq_len, args.label_len, args.pred_len,\n",
    "                args.d_model, args.n_heads, args.e_layers, args.d_layers, args.d_ff, args.attn, args.factor, args.embed, args.distil, args.mix, args.des, 0)"
   ]
  },
  {
   "cell_type": "code",
   "execution_count": 11,
   "metadata": {
    "colab": {
     "base_uri": "https://localhost:8080/",
     "height": 835
    },
    "id": "928tzaA2AA2g",
    "outputId": "4c12a6f6-3c31-401a-ef6a-b034da388593"
   },
   "outputs": [
    {
     "name": "stdout",
     "output_type": "stream",
     "text": [
      "Use CPU\n",
      ">>>>>>>start training : 27_close_diff_perc_informer_custom_ftMS_sl100_ll100_pl50_dm512_nh10_el4_dl2_df2048_atprob_fc5_ebtimeF_dtTrue_mxTrue_exp_0>>>>>>>>>>>>>>>>>>>>>>>>>>\n",
      "data_path ->  27_Close_diff_perc.csv\n",
      "scaling\n",
      "data_path ->  27_Close_diff_perc.csv\n",
      "scaling\n",
      "data_path ->  27_Close_diff_perc.csv\n",
      "scaling\n",
      "loss ->  tensor(0.4322, grad_fn=<MeanBackward0>)\n",
      "loss ->  tensor(1.9793, grad_fn=<MeanBackward0>)\n",
      "loss ->  tensor(1.0183, grad_fn=<MeanBackward0>)\n",
      "loss ->  tensor(0.7490, grad_fn=<MeanBackward0>)\n",
      "loss ->  tensor(0.5483, grad_fn=<MeanBackward0>)\n",
      "loss ->  tensor(0.3213, grad_fn=<MeanBackward0>)\n",
      "loss ->  tensor(0.3633, grad_fn=<MeanBackward0>)\n",
      "loss ->  tensor(0.3796, grad_fn=<MeanBackward0>)\n",
      "loss ->  tensor(0.3119, grad_fn=<MeanBackward0>)\n",
      "loss ->  tensor(0.1906, grad_fn=<MeanBackward0>)\n",
      "loss ->  tensor(0.2132, grad_fn=<MeanBackward0>)\n",
      "loss ->  tensor(0.2564, grad_fn=<MeanBackward0>)\n",
      "loss ->  tensor(0.1938, grad_fn=<MeanBackward0>)\n",
      "loss ->  tensor(0.1544, grad_fn=<MeanBackward0>)\n",
      "loss ->  tensor(0.2016, grad_fn=<MeanBackward0>)\n",
      "loss ->  tensor(0.1768, grad_fn=<MeanBackward0>)\n",
      "loss ->  tensor(0.1227, grad_fn=<MeanBackward0>)\n",
      "loss ->  tensor(0.1200, grad_fn=<MeanBackward0>)\n",
      "loss ->  tensor(0.1538, grad_fn=<MeanBackward0>)\n",
      "loss ->  tensor(0.1442, grad_fn=<MeanBackward0>)\n",
      "loss ->  tensor(0.1035, grad_fn=<MeanBackward0>)\n",
      "loss ->  tensor(0.1140, grad_fn=<MeanBackward0>)\n",
      "loss ->  tensor(0.1343, grad_fn=<MeanBackward0>)\n",
      "loss ->  tensor(0.1091, grad_fn=<MeanBackward0>)\n",
      "loss ->  tensor(0.0986, grad_fn=<MeanBackward0>)\n",
      "loss ->  tensor(0.1138, grad_fn=<MeanBackward0>)\n",
      "loss ->  tensor(0.1113, grad_fn=<MeanBackward0>)\n",
      "loss ->  tensor(0.0924, grad_fn=<MeanBackward0>)\n",
      "loss ->  tensor(0.0931, grad_fn=<MeanBackward0>)\n",
      "loss ->  tensor(0.1063, grad_fn=<MeanBackward0>)\n",
      "loss ->  tensor(0.0965, grad_fn=<MeanBackward0>)\n",
      "loss ->  tensor(0.0884, grad_fn=<MeanBackward0>)\n",
      "loss ->  tensor(0.0950, grad_fn=<MeanBackward0>)\n",
      "loss ->  tensor(0.0945, grad_fn=<MeanBackward0>)\n",
      "loss ->  tensor(0.0847, grad_fn=<MeanBackward0>)\n",
      "loss ->  tensor(0.0919, grad_fn=<MeanBackward0>)\n",
      "loss ->  tensor(0.0923, grad_fn=<MeanBackward0>)\n",
      "loss ->  tensor(0.0804, grad_fn=<MeanBackward0>)\n",
      "Epoch: 1 cost time: 76.85165214538574\n",
      "Epoch: 1, Steps: 38 | Train Loss: 0.2587100 Vali Loss: 0.0314481 Test Loss: 0.0410410\n",
      "Validation loss decreased (inf --> 0.031448).  Saving model ...\n",
      "Updating learning rate to 0.0001\n",
      "loss ->  tensor(0.0798, grad_fn=<MeanBackward0>)\n",
      "loss ->  tensor(0.0821, grad_fn=<MeanBackward0>)\n",
      "loss ->  tensor(0.0829, grad_fn=<MeanBackward0>)\n",
      "loss ->  tensor(0.0767, grad_fn=<MeanBackward0>)\n",
      "loss ->  tensor(0.0770, grad_fn=<MeanBackward0>)\n",
      "loss ->  tensor(0.0785, grad_fn=<MeanBackward0>)\n",
      "loss ->  tensor(0.0786, grad_fn=<MeanBackward0>)\n",
      "loss ->  tensor(0.0759, grad_fn=<MeanBackward0>)\n",
      "loss ->  tensor(0.0790, grad_fn=<MeanBackward0>)\n",
      "loss ->  tensor(0.0761, grad_fn=<MeanBackward0>)\n",
      "loss ->  tensor(0.0728, grad_fn=<MeanBackward0>)\n",
      "loss ->  tensor(0.0743, grad_fn=<MeanBackward0>)\n",
      "loss ->  tensor(0.0762, grad_fn=<MeanBackward0>)\n",
      "loss ->  tensor(0.0711, grad_fn=<MeanBackward0>)\n",
      "loss ->  tensor(0.0734, grad_fn=<MeanBackward0>)\n",
      "loss ->  tensor(0.0738, grad_fn=<MeanBackward0>)\n",
      "loss ->  tensor(0.0711, grad_fn=<MeanBackward0>)\n",
      "loss ->  tensor(0.0698, grad_fn=<MeanBackward0>)\n",
      "loss ->  tensor(0.0737, grad_fn=<MeanBackward0>)\n",
      "loss ->  tensor(0.0703, grad_fn=<MeanBackward0>)\n",
      "loss ->  tensor(0.0682, grad_fn=<MeanBackward0>)\n",
      "loss ->  tensor(0.0715, grad_fn=<MeanBackward0>)\n",
      "loss ->  tensor(0.0684, grad_fn=<MeanBackward0>)\n",
      "loss ->  tensor(0.0692, grad_fn=<MeanBackward0>)\n",
      "loss ->  tensor(0.0663, grad_fn=<MeanBackward0>)\n",
      "loss ->  tensor(0.0675, grad_fn=<MeanBackward0>)\n",
      "loss ->  tensor(0.0679, grad_fn=<MeanBackward0>)\n",
      "loss ->  tensor(0.0656, grad_fn=<MeanBackward0>)\n",
      "loss ->  tensor(0.0669, grad_fn=<MeanBackward0>)\n",
      "loss ->  tensor(0.0638, grad_fn=<MeanBackward0>)\n",
      "loss ->  tensor(0.0649, grad_fn=<MeanBackward0>)\n",
      "loss ->  tensor(0.0631, grad_fn=<MeanBackward0>)\n",
      "loss ->  tensor(0.0634, grad_fn=<MeanBackward0>)\n",
      "loss ->  tensor(0.0625, grad_fn=<MeanBackward0>)\n",
      "loss ->  tensor(0.0616, grad_fn=<MeanBackward0>)\n",
      "loss ->  tensor(0.0628, grad_fn=<MeanBackward0>)\n",
      "loss ->  tensor(0.0609, grad_fn=<MeanBackward0>)\n",
      "loss ->  tensor(0.0617, grad_fn=<MeanBackward0>)\n",
      "Epoch: 2 cost time: 76.729984998703\n",
      "Epoch: 2, Steps: 38 | Train Loss: 0.0707696 Vali Loss: 0.0224111 Test Loss: 0.0329564\n",
      "Validation loss decreased (0.031448 --> 0.022411).  Saving model ...\n",
      "Updating learning rate to 5e-05\n",
      "loss ->  tensor(0.0616, grad_fn=<MeanBackward0>)\n",
      "loss ->  tensor(0.0599, grad_fn=<MeanBackward0>)\n",
      "loss ->  tensor(0.0611, grad_fn=<MeanBackward0>)\n",
      "loss ->  tensor(0.0567, grad_fn=<MeanBackward0>)\n",
      "loss ->  tensor(0.0597, grad_fn=<MeanBackward0>)\n",
      "loss ->  tensor(0.0574, grad_fn=<MeanBackward0>)\n",
      "loss ->  tensor(0.0573, grad_fn=<MeanBackward0>)\n",
      "loss ->  tensor(0.0577, grad_fn=<MeanBackward0>)\n",
      "loss ->  tensor(0.0561, grad_fn=<MeanBackward0>)\n",
      "loss ->  tensor(0.0584, grad_fn=<MeanBackward0>)\n",
      "loss ->  tensor(0.0561, grad_fn=<MeanBackward0>)\n",
      "loss ->  tensor(0.0584, grad_fn=<MeanBackward0>)\n",
      "loss ->  tensor(0.0562, grad_fn=<MeanBackward0>)\n",
      "loss ->  tensor(0.0556, grad_fn=<MeanBackward0>)\n",
      "loss ->  tensor(0.0538, grad_fn=<MeanBackward0>)\n",
      "loss ->  tensor(0.0520, grad_fn=<MeanBackward0>)\n",
      "loss ->  tensor(0.0552, grad_fn=<MeanBackward0>)\n",
      "loss ->  tensor(0.0540, grad_fn=<MeanBackward0>)\n",
      "loss ->  tensor(0.0548, grad_fn=<MeanBackward0>)\n",
      "loss ->  tensor(0.0558, grad_fn=<MeanBackward0>)\n",
      "loss ->  tensor(0.0532, grad_fn=<MeanBackward0>)\n",
      "loss ->  tensor(0.0532, grad_fn=<MeanBackward0>)\n",
      "loss ->  tensor(0.0546, grad_fn=<MeanBackward0>)\n",
      "loss ->  tensor(0.0519, grad_fn=<MeanBackward0>)\n",
      "loss ->  tensor(0.0529, grad_fn=<MeanBackward0>)\n",
      "loss ->  tensor(0.0557, grad_fn=<MeanBackward0>)\n",
      "loss ->  tensor(0.0536, grad_fn=<MeanBackward0>)\n",
      "loss ->  tensor(0.0521, grad_fn=<MeanBackward0>)\n",
      "loss ->  tensor(0.0518, grad_fn=<MeanBackward0>)\n",
      "loss ->  tensor(0.0535, grad_fn=<MeanBackward0>)\n",
      "loss ->  tensor(0.0533, grad_fn=<MeanBackward0>)\n",
      "loss ->  tensor(0.0512, grad_fn=<MeanBackward0>)\n",
      "loss ->  tensor(0.0517, grad_fn=<MeanBackward0>)\n",
      "loss ->  tensor(0.0502, grad_fn=<MeanBackward0>)\n",
      "loss ->  tensor(0.0523, grad_fn=<MeanBackward0>)\n",
      "loss ->  tensor(0.0516, grad_fn=<MeanBackward0>)\n",
      "loss ->  tensor(0.0508, grad_fn=<MeanBackward0>)\n",
      "loss ->  tensor(0.0507, grad_fn=<MeanBackward0>)\n",
      "Epoch: 3 cost time: 48.731417417526245\n",
      "Epoch: 3, Steps: 38 | Train Loss: 0.0547940 Vali Loss: 0.0179186 Test Loss: 0.0302685\n",
      "Validation loss decreased (0.022411 --> 0.017919).  Saving model ...\n",
      "Updating learning rate to 2.5e-05\n",
      "loss ->  tensor(0.0512, grad_fn=<MeanBackward0>)\n",
      "loss ->  tensor(0.0511, grad_fn=<MeanBackward0>)\n",
      "loss ->  tensor(0.0500, grad_fn=<MeanBackward0>)\n",
      "loss ->  tensor(0.0519, grad_fn=<MeanBackward0>)\n",
      "loss ->  tensor(0.0509, grad_fn=<MeanBackward0>)\n",
      "loss ->  tensor(0.0512, grad_fn=<MeanBackward0>)\n",
      "loss ->  tensor(0.0497, grad_fn=<MeanBackward0>)\n",
      "loss ->  tensor(0.0500, grad_fn=<MeanBackward0>)\n",
      "loss ->  tensor(0.0500, grad_fn=<MeanBackward0>)\n",
      "loss ->  tensor(0.0500, grad_fn=<MeanBackward0>)\n",
      "loss ->  tensor(0.0485, grad_fn=<MeanBackward0>)\n",
      "loss ->  tensor(0.0472, grad_fn=<MeanBackward0>)\n",
      "loss ->  tensor(0.0497, grad_fn=<MeanBackward0>)\n",
      "loss ->  tensor(0.0490, grad_fn=<MeanBackward0>)\n",
      "loss ->  tensor(0.0492, grad_fn=<MeanBackward0>)\n",
      "loss ->  tensor(0.0486, grad_fn=<MeanBackward0>)\n",
      "loss ->  tensor(0.0486, grad_fn=<MeanBackward0>)\n",
      "loss ->  tensor(0.0477, grad_fn=<MeanBackward0>)\n",
      "loss ->  tensor(0.0477, grad_fn=<MeanBackward0>)\n",
      "loss ->  tensor(0.0494, grad_fn=<MeanBackward0>)\n",
      "loss ->  tensor(0.0496, grad_fn=<MeanBackward0>)\n",
      "loss ->  tensor(0.0480, grad_fn=<MeanBackward0>)\n",
      "loss ->  tensor(0.0484, grad_fn=<MeanBackward0>)\n",
      "loss ->  tensor(0.0495, grad_fn=<MeanBackward0>)\n",
      "loss ->  tensor(0.0467, grad_fn=<MeanBackward0>)\n",
      "loss ->  tensor(0.0494, grad_fn=<MeanBackward0>)\n",
      "loss ->  tensor(0.0466, grad_fn=<MeanBackward0>)\n",
      "loss ->  tensor(0.0459, grad_fn=<MeanBackward0>)\n",
      "loss ->  tensor(0.0467, grad_fn=<MeanBackward0>)\n",
      "loss ->  tensor(0.0473, grad_fn=<MeanBackward0>)\n",
      "loss ->  tensor(0.0482, grad_fn=<MeanBackward0>)\n",
      "loss ->  tensor(0.0459, grad_fn=<MeanBackward0>)\n",
      "loss ->  tensor(0.0466, grad_fn=<MeanBackward0>)\n",
      "loss ->  tensor(0.0472, grad_fn=<MeanBackward0>)\n",
      "loss ->  tensor(0.0449, grad_fn=<MeanBackward0>)\n",
      "loss ->  tensor(0.0477, grad_fn=<MeanBackward0>)\n",
      "loss ->  tensor(0.0470, grad_fn=<MeanBackward0>)\n",
      "loss ->  tensor(0.0472, grad_fn=<MeanBackward0>)\n",
      "Epoch: 4 cost time: 42.14385271072388\n",
      "Epoch: 4, Steps: 38 | Train Loss: 0.0485360 Vali Loss: 0.0184607 Test Loss: 0.0301214\n",
      "EarlyStopping counter: 1 out of 5\n",
      "Updating learning rate to 1.25e-05\n",
      ">>>>>>>testing : 27_close_diff_perc_informer_custom_ftMS_sl100_ll100_pl50_dm512_nh10_el4_dl2_df2048_atprob_fc5_ebtimeF_dtTrue_mxTrue_exp_0<<<<<<<<<<<<<<<<<<<<<<<<<<<<<<<<<\n",
      "data_path ->  27_Close_diff_perc.csv\n",
      "scaling\n",
      "test shape: (3, 32, 50, 1) (3, 32, 50, 1)\n",
      "test shape: (96, 50, 1) (96, 50, 1)\n",
      "mse:0.0015186535893008113, mae:0.02987309731543064\n"
     ]
    }
   ],
   "source": [
    "for ii in range(args.itr):\n",
    "    # setting record of experiments\n",
    "    \n",
    "\n",
    "    # set experiments\n",
    "    exp = Exp(args)\n",
    "    \n",
    "    # train\n",
    "    print('>>>>>>>start training : {}>>>>>>>>>>>>>>>>>>>>>>>>>>'.format(setting))\n",
    "    exp.train(setting)\n",
    "    \n",
    "    # test\n",
    "    print('>>>>>>>testing : {}<<<<<<<<<<<<<<<<<<<<<<<<<<<<<<<<<'.format(setting))\n",
    "    exp.test(setting)\n",
    "\n",
    "    torch.cuda.empty_cache()"
   ]
  },
  {
   "cell_type": "code",
   "execution_count": 12,
   "metadata": {},
   "outputs": [
    {
     "name": "stdout",
     "output_type": "stream",
     "text": [
      "data_path ->  27_Close_diff_perc.csv\n",
      "scaling\n",
      "0\n",
      "torch.Size([32, 150, 21])\n",
      "1\n",
      "torch.Size([32, 150, 21])\n",
      "2\n",
      "torch.Size([32, 150, 21])\n"
     ]
    }
   ],
   "source": [
    "test_data, test_loader = exp._get_data(flag='test')\n",
    "# print(testloader.shape)\n",
    "for i, (batch_x,batch_y,batch_x_mark,batch_y_mark) in enumerate(test_loader):\n",
    "    print(i)\n",
    "    print(batch_y.shape)"
   ]
  },
  {
   "cell_type": "markdown",
   "metadata": {
    "id": "CDHF-HerAE3u"
   },
   "source": [
    "## Prediction"
   ]
  },
  {
   "cell_type": "code",
   "execution_count": 13,
   "metadata": {
    "id": "s0YI1zx6ACiz"
   },
   "outputs": [],
   "source": [
    "import os\n",
    "path = os.path.join(args.checkpoints,setting,'checkpoint.pth')"
   ]
  },
  {
   "cell_type": "code",
   "execution_count": 14,
   "metadata": {
    "id": "nTkluNNcyMJt"
   },
   "outputs": [
    {
     "name": "stdout",
     "output_type": "stream",
     "text": [
      "Use CPU\n",
      "datapath ==  27_Close_diff_perc.csv\n",
      "pred_loader length\n",
      "1\n",
      "torch.Size([1, 100, 21])\n"
     ]
    }
   ],
   "source": [
    "exp = Exp(args)\n",
    "\n",
    "exp.predict(setting, True)"
   ]
  },
  {
   "cell_type": "code",
   "execution_count": 15,
   "metadata": {
    "colab": {
     "base_uri": "https://localhost:8080/"
    },
    "id": "KBCPbjGuzAZb",
    "outputId": "f8813326-2d20-4719-831c-cf7494cd3180"
   },
   "outputs": [
    {
     "data": {
      "text/plain": [
       "(1, 50, 1)"
      ]
     },
     "execution_count": 15,
     "metadata": {},
     "output_type": "execute_result"
    }
   ],
   "source": [
    "import numpy as np\n",
    "\n",
    "\n",
    "prediction = np.load('./results/'+setting+'/real_prediction.npy')\n",
    "\n",
    "prediction.shape"
   ]
  },
  {
   "cell_type": "markdown",
   "metadata": {
    "id": "5yFuVkTV30_j"
   },
   "source": [
    "### More details about Prediction - prediction function"
   ]
  },
  {
   "cell_type": "code",
   "execution_count": 16,
   "metadata": {
    "id": "Sv9AR_Aw030r"
   },
   "outputs": [],
   "source": [
    "# here is the detailed code of function predict\n",
    "\n",
    "def predict(exp, setting, load=False):\n",
    "    pred_data, pred_loader = exp._get_data(flag='pred')\n",
    "        \n",
    "    if load:\n",
    "        path = os.path.join(exp.args.checkpoints, setting)\n",
    "        best_model_path = path+'/'+'checkpoint.pth'\n",
    "        exp.model.load_state_dict(torch.load(best_model_path))\n",
    "\n",
    "    exp.model.eval()\n",
    "        \n",
    "    preds = []\n",
    "        \n",
    "    for i, (batch_x,batch_y,batch_x_mark,batch_y_mark) in enumerate(pred_loader):\n",
    "        batch_x = batch_x.float().to(exp.device)\n",
    "        batch_y = batch_y.float()\n",
    "        print(batch_y.shape)\n",
    "        batch_x_mark = batch_x_mark.float().to(exp.device)\n",
    "        batch_y_mark = batch_y_mark.float().to(exp.device)\n",
    "\n",
    "        # decoder input\n",
    "        if exp.args.padding==0:\n",
    "            dec_inp = torch.zeros([batch_y.shape[0], exp.args.pred_len, batch_y.shape[-1]]).float()\n",
    "        elif exp.args.padding==1:\n",
    "            dec_inp = torch.ones([batch_y.shape[0], exp.args.pred_len, batch_y.shape[-1]]).float()\n",
    "        else:\n",
    "            dec_inp = torch.zeros([batch_y.shape[0], exp.args.pred_len, batch_y.shape[-1]]).float()\n",
    "        dec_inp = torch.cat([batch_y[:,:exp.args.label_len,:], dec_inp], dim=1).float().to(exp.device)\n",
    "        # encoder - decoder\n",
    "        if exp.args.use_amp:\n",
    "            with torch.cuda.amp.autocast():\n",
    "                if exp.args.output_attention:\n",
    "                    outputs = exp.model(batch_x, batch_x_mark, dec_inp, batch_y_mark)[0]\n",
    "                else:\n",
    "                    outputs = exp.model(batch_x, batch_x_mark, dec_inp, batch_y_mark)\n",
    "        else:\n",
    "            if exp.args.output_attention:\n",
    "                outputs = exp.model(batch_x, batch_x_mark, dec_inp, batch_y_mark)[0]\n",
    "            else:\n",
    "                outputs = exp.model(batch_x, batch_x_mark, dec_inp, batch_y_mark)\n",
    "        f_dim = -1 if exp.args.features=='MS' else 0\n",
    "        batch_y = batch_y[:,-exp.args.pred_len:,f_dim:].to(exp.device)\n",
    "        \n",
    "        pred = outputs.detach().cpu().numpy()#.squeeze()\n",
    "        \n",
    "        preds.append(pred)\n",
    "\n",
    "    preds = np.array(preds)\n",
    "    preds = preds.reshape(-1, preds.shape[-2], preds.shape[-1])\n",
    "    \n",
    "    # result save\n",
    "    folder_path = './results/' + setting +'/'\n",
    "    if not os.path.exists(folder_path):\n",
    "        os.makedirs(folder_path)\n",
    "    \n",
    "    np.save(folder_path+'real_prediction.npy', preds)\n",
    "    \n",
    "    return preds\n"
   ]
  },
  {
   "cell_type": "code",
   "execution_count": 17,
   "metadata": {
    "colab": {
     "base_uri": "https://localhost:8080/"
    },
    "id": "tVLWZL2a1pwB",
    "outputId": "7cec8531-480e-44a4-c0b9-8c5128b1fc02"
   },
   "outputs": [
    {
     "name": "stdout",
     "output_type": "stream",
     "text": [
      "datapath ==  27_Close_diff_perc.csv\n",
      "torch.Size([1, 100, 21])\n"
     ]
    }
   ],
   "source": [
    "# you can also use this prediction function to get result\n",
    "prediction = predict(exp, setting, True)"
   ]
  },
  {
   "cell_type": "code",
   "execution_count": 18,
   "metadata": {
    "colab": {
     "base_uri": "https://localhost:8080/",
     "height": 265
    },
    "id": "NwtZmQC71uc8",
    "outputId": "6bad1dea-ffff-42b3-c5bb-291c82ac5ba9"
   },
   "outputs": [
    {
     "data": {
      "image/png": "[encoded data removed]",
      "text/plain": [
       "<Figure size 640x480 with 1 Axes>"
      ]
     },
     "metadata": {},
     "output_type": "display_data"
    }
   ],
   "source": [
    "import matplotlib.pyplot as plt\n",
    "\n",
    "plt.figure()\n",
    "plt.plot(prediction[0,:,-1])\n",
    "plt.show()"
   ]
  },
  {
   "cell_type": "markdown",
   "metadata": {
    "id": "EnePVyrW4I14"
   },
   "source": [
    "### More details about Prediction - prediction dataset\n",
    "\n",
    "You can give a `root_path` and `data_path` of the data you want to forecast, and set `seq_len`, `label_len`, `pred_len` and other arguments as other Dataset. The difference is that you can set a more detailed freq such as `15min` or `3h` to generate the timestamp of prediction series.\n",
    "\n",
    "`Dataset_Pred` only has one sample (including `encoder_input: [1, seq_len, dim]`, `decoder_token: [1, label_len, dim]`, `encoder_input_timestamp: [1, seq_len, date_dim]`, `decoder_input_timstamp: [1, label_len+pred_len, date_dim]`). It will intercept the last sequence of the given data (seq_len data) to forecast the unseen future sequence (pred_len data)."
   ]
  },
  {
   "cell_type": "code",
   "execution_count": 19,
   "metadata": {
    "id": "ZpXhNGp34Hf4"
   },
   "outputs": [],
   "source": [
    "from data.data_loader import Dataset_Pred\n",
    "from torch.utils.data import DataLoader"
   ]
  },
  {
   "cell_type": "code",
   "execution_count": 20,
   "metadata": {
    "id": "j4Rpd1q74T8N"
   },
   "outputs": [
    {
     "name": "stdout",
     "output_type": "stream",
     "text": [
      "datapath ==  27_Close_diff_perc.csv\n"
     ]
    }
   ],
   "source": [
    "Data = Dataset_Pred\n",
    "timeenc = 0 if args.embed!='timeF' else 1\n",
    "flag = 'pred'; shuffle_flag = False; drop_last = False; batch_size = 1\n",
    "\n",
    "freq = args.detail_freq\n",
    "\n",
    "data_set = Data(\n",
    "    root_path=args.root_path,\n",
    "    data_path=args.data_path,\n",
    "    flag=flag,\n",
    "    size=[args.seq_len, args.label_len, args.pred_len],\n",
    "    features=args.features,\n",
    "    target=args.target,\n",
    "    timeenc=timeenc,\n",
    "    freq=freq\n",
    ")\n",
    "data_loader = DataLoader(\n",
    "    data_set,\n",
    "    batch_size=batch_size,\n",
    "    shuffle=shuffle_flag,\n",
    "    num_workers=args.num_workers,\n",
    "    drop_last=drop_last)"
   ]
  },
  {
   "cell_type": "code",
   "execution_count": 21,
   "metadata": {
    "colab": {
     "base_uri": "https://localhost:8080/"
    },
    "id": "42C84BfY6UPV",
    "outputId": "fe8f6340-2345-4c09-e720-c30ce50c77fd"
   },
   "outputs": [
    {
     "data": {
      "text/plain": [
       "(1, 1)"
      ]
     },
     "execution_count": 21,
     "metadata": {},
     "output_type": "execute_result"
    }
   ],
   "source": [
    "len(data_set), len(data_loader)"
   ]
  },
  {
   "cell_type": "markdown",
   "metadata": {
    "id": "cNhEP_7sAgqC"
   },
   "source": [
    "## Visualization"
   ]
  },
  {
   "cell_type": "code",
   "execution_count": 22,
   "metadata": {
    "colab": {
     "base_uri": "https://localhost:8080/"
    },
    "id": "vMRk8VkQ2Iko",
    "outputId": "b2da9ee4-fd43-44de-d421-e6396a39a666"
   },
   "outputs": [
    {
     "data": {
      "text/plain": [
       "((96, 50, 1), (96, 50, 1))"
      ]
     },
     "execution_count": 22,
     "metadata": {},
     "output_type": "execute_result"
    }
   ],
   "source": [
    "# When we finished exp.train(setting) and exp.test(setting), we will get a trained model and the results of test experiment\n",
    "# The results of test experiment will be saved in ./results/{setting}/pred.npy (prediction of test dataset) and ./results/{setting}/true.npy (groundtruth of test dataset)\n",
    "\n",
    "preds = np.load('./results/'+setting+'/pred.npy')\n",
    "trues = np.load('./results/'+setting+'/true.npy')\n",
    "\n",
    "# [samples, pred_len, dimensions]\n",
    "preds.shape, trues.shape"
   ]
  },
  {
   "cell_type": "code",
   "execution_count": 23,
   "metadata": {},
   "outputs": [
    {
     "data": {
      "text/plain": [
       "(1, 50, 1)"
      ]
     },
     "execution_count": 23,
     "metadata": {},
     "output_type": "execute_result"
    }
   ],
   "source": [
    "real_prediction = np.load('./results/'+setting+'/real_prediction.npy')\n",
    "real_prediction.shape"
   ]
  },
  {
   "cell_type": "code",
   "execution_count": 24,
   "metadata": {},
   "outputs": [
    {
     "name": "stdout",
     "output_type": "stream",
     "text": [
      "[[[-0.03708217]\n",
      "  [ 0.04314939]\n",
      "  [ 0.01580415]\n",
      "  ...\n",
      "  [ 0.001755  ]\n",
      "  [-0.00198383]\n",
      "  [ 0.01330116]]\n",
      "\n",
      " [[ 0.04314939]\n",
      "  [ 0.01580415]\n",
      "  [-0.00146841]\n",
      "  ...\n",
      "  [-0.00198383]\n",
      "  [ 0.01330116]\n",
      "  [-0.0817949 ]]\n",
      "\n",
      " [[ 0.01580415]\n",
      "  [-0.00146841]\n",
      "  [-0.01601809]\n",
      "  ...\n",
      "  [ 0.01330116]\n",
      "  [-0.0817949 ]\n",
      "  [-0.01424121]]\n",
      "\n",
      " ...\n",
      "\n",
      " [[-0.00683747]\n",
      "  [-0.033915  ]\n",
      "  [-0.02316425]\n",
      "  ...\n",
      "  [ 0.01345782]\n",
      "  [-0.01797596]\n",
      "  [-0.0222618 ]]\n",
      "\n",
      " [[-0.033915  ]\n",
      "  [-0.02316425]\n",
      "  [ 0.01068841]\n",
      "  ...\n",
      "  [-0.01797596]\n",
      "  [-0.0222618 ]\n",
      "  [ 0.0090647 ]]\n",
      "\n",
      " [[-0.02316425]\n",
      "  [ 0.01068841]\n",
      "  [ 0.00207896]\n",
      "  ...\n",
      "  [-0.0222618 ]\n",
      "  [ 0.0090647 ]\n",
      "  [-0.02021444]]]\n"
     ]
    }
   ],
   "source": [
    "print(trues)"
   ]
  },
  {
   "cell_type": "code",
   "execution_count": 25,
   "metadata": {
    "id": "ZEGhDOmxAeAb"
   },
   "outputs": [],
   "source": [
    "import matplotlib.pyplot as plt\n",
    "import seaborn as sns"
   ]
  },
  {
   "cell_type": "code",
   "execution_count": 26,
   "metadata": {
    "colab": {
     "base_uri": "https://localhost:8080/",
     "height": 265
    },
    "id": "kyPuOPGAAjl3",
    "outputId": "22fb6283-c64d-4203-c3a4-209397009534"
   },
   "outputs": [
    {
     "data": {
      "image/png": "[encoded data removed]",
      "text/plain": [
       "<Figure size 640x480 with 1 Axes>"
      ]
     },
     "metadata": {},
     "output_type": "display_data"
    }
   ],
   "source": [
    "plt.figure()\n",
    "plt.plot(trues[0,:,-1], label='GroundTruth')\n",
    "plt.plot(preds[0,:,-1], label='Prediction')\n",
    "plt.legend()\n",
    "plt.show()"
   ]
  },
  {
   "cell_type": "code",
   "execution_count": 27,
   "metadata": {
    "colab": {
     "base_uri": "https://localhost:8080/",
     "height": 265
    },
    "id": "43MIgWfpMYIB",
    "outputId": "c14c910a-ba25-4169-c3c6-3feec340e76d"
   },
   "outputs": [
    {
     "data": {
      "image/png": "[encoded data removed]",
      "text/plain": [
       "<Figure size 640x480 with 1 Axes>"
      ]
     },
     "metadata": {},
     "output_type": "display_data"
    }
   ],
   "source": [
    "plt.figure()\n",
    "plt.plot(trues[-1,:,0], label='GroundTruth')\n",
    "plt.plot(preds[-1,:,0], label='Prediction')\n",
    "plt.legend()\n",
    "plt.show()"
   ]
  }
 ],
 "metadata": {
  "accelerator": "GPU",
  "colab": {
   "provenance": []
  },
  "environment": {
   "kernel": "python3",
   "name": "common-cpu.m99",
   "type": "gcloud",
   "uri": "gcr.io/deeplearning-platform-release/base-cpu:m99"
  },
  "kernelspec": {
   "display_name": "Python 3",
   "language": "python",
   "name": "python3"
  },
  "language_info": {
   "codemirror_mode": {
    "name": "ipython",
    "version": 3
   },
   "file_extension": ".py",
   "mimetype": "text/x-python",
   "name": "python",
   "nbconvert_exporter": "python",
   "pygments_lexer": "ipython3",
   "version": "3.7.12"
  }
 },
 "nbformat": 4,
 "nbformat_minor": 4
}
