{
 "cells": [
  {
   "cell_type": "markdown",
   "metadata": {
    "id": "5IM6CZzW_CH0"
   },
   "source": [
    "# Only Sentiment analysis data data for close_price_perc_diff_nrm prediction"
   ]
  },
  {
   "cell_type": "code",
   "execution_count": 2,
   "metadata": {
    "id": "b5GFng7v7Eq0"
   },
   "outputs": [],
   "source": [
    "import sys\n",
    "if not 'Informer2020' in sys.path:\n",
    "    sys.path += ['Informer2020']"
   ]
  },
  {
   "cell_type": "code",
   "execution_count": 3,
   "metadata": {
    "id": "YW9TS6jp_YXc"
   },
   "outputs": [],
   "source": [
    "# !pip install -r ./Informer2020/requirements.txt"
   ]
  },
  {
   "cell_type": "markdown",
   "metadata": {
    "id": "rIjZdN5e_SWe"
   },
   "source": [
    "## Experiments: Train and Test"
   ]
  },
  {
   "cell_type": "code",
   "execution_count": 4,
   "metadata": {
    "id": "RPdt-Kwc_RRZ"
   },
   "outputs": [],
   "source": [
    "from utils.tools import dotdict\n",
    "from exp.exp_informer import Exp_Informer\n",
    "import torch"
   ]
  },
  {
   "cell_type": "code",
   "execution_count": 5,
   "metadata": {
    "id": "6mx2dnwY9dWi"
   },
   "outputs": [],
   "source": [
    "args = dotdict()\n",
    "\n",
    "args.model = 'informer' # model of experiment, options: [informer, informerstack, informerlight(TBD)]\n",
    "\n",
    "args.data = 'ETTh1' # data\n",
    "args.data = 'custom' # data\n",
    "args.root_path = './ETDataset/ETT-small/' # root path of data file\n",
    "args.root_path = 'data' # root path of data file\n",
    "args.data_path = 'ETTh1.csv' # data file\n",
    "args.data_path = '27_Close_diff_perc_nrm.csv' # data file\n",
    "args.features = 'MS' # forecasting task, options:[M, S, MS]; M:multivariate predict multivariate, S:univariate predict univariate, MS:multivariate predict univariate\n",
    "args.target = 'Close' # target feature in S or MS task\n",
    "args.freq = 'd' # freq for time features encoding, options:[s:secondly, t:minutely, h:hourly, d:daily, b:business days, w:weekly, m:monthly], you can also use more detailed freq like 15min or 3h\n",
    "args.checkpoints = './informer_checkpoints' # location of model checkpoints\n",
    "\n",
    "args.seq_len = 100 # input sequence length of Informer encoder\n",
    "args.label_len = 100 # start token length of Informer decoder\n",
    "args.pred_len = 50 # prediction sequence length\n",
    "# Informer decoder input: concat[start token series(label_len), zero padding series(pred_len)]\n",
    "\n",
    "args.enc_in = 7 # encoder input size\n",
    "args.enc_in = 100 # encoder input size\n",
    "args.dec_in = 7 # decoder input size\n",
    "args.dec_in = 100 # decoder input size\n",
    "args.c_out = 7 # output size\n",
    "args.c_out = 100 # output size\n",
    "args.factor = 5 # probsparse attn factor\n",
    "args.d_model = 512 # dimension of model\n",
    "# args.d_model = 2512 # dimension of model\n",
    "args.n_heads = 10 # num of heads\n",
    "args.e_layers = 4 # num of encoder layers\n",
    "args.d_layers = 2 # num of decoder layers\n",
    "args.d_ff = 2048 # dimension of fcn in model\n",
    "args.dropout = 0.05 # dropout\n",
    "args.attn = 'prob' # attention used in encoder, options:[prob, full]\n",
    "args.embed = 'timeF' # time features encoding, options:[timeF, fixed, learned]\n",
    "args.activation = 'gelu' # activation\n",
    "args.distil = True # whether to use distilling in encoder\n",
    "args.output_attention = False # whether to output attention in ecoder\n",
    "args.mix = True\n",
    "args.padding = 0\n",
    "args.freq = 'd'\n",
    "\n",
    "args.batch_size = 32 \n",
    "args.learning_rate = 0.0001\n",
    "args.loss = 'mse'\n",
    "args.lradj = 'type1'\n",
    "args.use_amp = False # whether to use automatic mixed precision training\n",
    "\n",
    "args.num_workers = 0\n",
    "args.itr = 1\n",
    "args.train_epochs = 4\n",
    "args.patience = 5\n",
    "args.des = 'exp'\n",
    "\n",
    "args.use_gpu = True if torch.cuda.is_available() else False\n",
    "args.gpu = 0\n",
    "\n",
    "args.use_multi_gpu = False\n",
    "args.devices = '0,1,2,3'\n"
   ]
  },
  {
   "cell_type": "code",
   "execution_count": 6,
   "metadata": {
    "id": "k_BCYODAwKl9"
   },
   "outputs": [],
   "source": [
    "args.use_gpu = True if torch.cuda.is_available() and args.use_gpu else False\n",
    "\n",
    "if args.use_gpu and args.use_multi_gpu:\n",
    "    args.devices = args.devices.replace(' ','')\n",
    "    device_ids = args.devices.split(',')\n",
    "    args.device_ids = [int(id_) for id_ in device_ids]\n",
    "    args.gpu = args.device_ids[0]"
   ]
  },
  {
   "cell_type": "code",
   "execution_count": 7,
   "metadata": {
    "id": "53o3pZ809p-a"
   },
   "outputs": [],
   "source": [
    "# Set augments by using data name\n",
    "data_parser = {\n",
    "    'ETTh1':{'data':'ETTh1.csv','T':'OT','M':[7,7,7],'S':[1,1,1],'MS':[7,7,1]},\n",
    "    'ETTh2':{'data':'ETTh2.csv','T':'OT','M':[7,7,7],'S':[1,1,1],'MS':[7,7,1]},\n",
    "    'ETTm1':{'data':'ETTm1.csv','T':'OT','M':[7,7,7],'S':[1,1,1],'MS':[7,7,1]},\n",
    "    'ETTm2':{'data':'ETTm2.csv','T':'OT','M':[7,7,7],'S':[1,1,1],'MS':[7,7,1]},\n",
    "    'custom':{'data':'27_Close_diff_perc_nrm.csv','T':'Close_perc','M':[22,22,22],'S':[1,1,1],'MS':[22,22,1]},\n",
    "}\n",
    "if args.data in data_parser.keys():\n",
    "    data_info = data_parser[args.data]\n",
    "    args.data_path = data_info['data']\n",
    "    args.target = data_info['T']\n",
    "    args.enc_in, args.dec_in, args.c_out = data_info[args.features]"
   ]
  },
  {
   "cell_type": "code",
   "execution_count": 8,
   "metadata": {
    "id": "yZ5Q2vyKwSfk"
   },
   "outputs": [],
   "source": [
    "args.detail_freq = args.freq\n",
    "args.freq = args.freq[-1:]"
   ]
  },
  {
   "cell_type": "code",
   "execution_count": 9,
   "metadata": {
    "colab": {
     "base_uri": "https://localhost:8080/"
    },
    "id": "ywY-umrw-mHO",
    "outputId": "2618b6c1-eb39-430b-e1f6-64e621f7a34d"
   },
   "outputs": [
    {
     "name": "stdout",
     "output_type": "stream",
     "text": [
      "Args in experiment:\n",
      "{'model': 'informer', 'data': 'custom', 'root_path': 'data', 'data_path': '27_Close_diff_perc_nrm.csv', 'features': 'MS', 'target': 'Close_perc', 'freq': 'd', 'checkpoints': './informer_checkpoints', 'seq_len': 100, 'label_len': 100, 'pred_len': 50, 'enc_in': 22, 'dec_in': 22, 'c_out': 1, 'factor': 5, 'd_model': 512, 'n_heads': 10, 'e_layers': 4, 'd_layers': 2, 'd_ff': 2048, 'dropout': 0.05, 'attn': 'prob', 'embed': 'timeF', 'activation': 'gelu', 'distil': True, 'output_attention': False, 'mix': True, 'padding': 0, 'batch_size': 32, 'learning_rate': 0.0001, 'loss': 'mse', 'lradj': 'type1', 'use_amp': False, 'num_workers': 0, 'itr': 1, 'train_epochs': 4, 'patience': 5, 'des': 'exp', 'use_gpu': False, 'gpu': 0, 'use_multi_gpu': False, 'devices': '0,1,2,3', 'detail_freq': 'd'}\n"
     ]
    }
   ],
   "source": [
    "print('Args in experiment:')\n",
    "print(args)"
   ]
  },
  {
   "cell_type": "code",
   "execution_count": 10,
   "metadata": {
    "id": "KVHZhRB4-on9"
   },
   "outputs": [],
   "source": [
    "Exp = Exp_Informer"
   ]
  },
  {
   "cell_type": "code",
   "execution_count": 11,
   "metadata": {},
   "outputs": [],
   "source": [
    "setting = '27_close_diff_perc_nrm_{}_{}_ft{}_sl{}_ll{}_pl{}_dm{}_nh{}_el{}_dl{}_df{}_at{}_fc{}_eb{}_dt{}_mx{}_{}_{}'.format(args.model, args.data, args.features, \n",
    "                args.seq_len, args.label_len, args.pred_len,\n",
    "                args.d_model, args.n_heads, args.e_layers, args.d_layers, args.d_ff, args.attn, args.factor, args.embed, args.distil, args.mix, args.des, 0)"
   ]
  },
  {
   "cell_type": "code",
   "execution_count": 12,
   "metadata": {
    "colab": {
     "base_uri": "https://localhost:8080/",
     "height": 835
    },
    "id": "928tzaA2AA2g",
    "outputId": "4c12a6f6-3c31-401a-ef6a-b034da388593"
   },
   "outputs": [
    {
     "name": "stdout",
     "output_type": "stream",
     "text": [
      "Use CPU\n",
      ">>>>>>>start training : 27_close_diff_perc_nrm_informer_custom_ftMS_sl100_ll100_pl50_dm512_nh10_el4_dl2_df2048_atprob_fc5_ebtimeF_dtTrue_mxTrue_exp_0>>>>>>>>>>>>>>>>>>>>>>>>>>\n",
      "data_path ->  27_Close_diff_perc_nrm.csv\n",
      "scaling\n",
      "data_path ->  27_Close_diff_perc_nrm.csv\n",
      "scaling\n",
      "data_path ->  27_Close_diff_perc_nrm.csv\n",
      "scaling\n",
      "loss ->  tensor(0.4243, grad_fn=<MeanBackward0>)\n",
      "loss ->  tensor(1.1879, grad_fn=<MeanBackward0>)\n",
      "loss ->  tensor(1.0202, grad_fn=<MeanBackward0>)\n",
      "loss ->  tensor(0.4254, grad_fn=<MeanBackward0>)\n",
      "loss ->  tensor(0.4733, grad_fn=<MeanBackward0>)\n",
      "loss ->  tensor(0.5054, grad_fn=<MeanBackward0>)\n",
      "loss ->  tensor(0.3542, grad_fn=<MeanBackward0>)\n",
      "loss ->  tensor(0.3000, grad_fn=<MeanBackward0>)\n",
      "loss ->  tensor(0.3589, grad_fn=<MeanBackward0>)\n",
      "loss ->  tensor(0.2883, grad_fn=<MeanBackward0>)\n",
      "loss ->  tensor(0.2229, grad_fn=<MeanBackward0>)\n",
      "loss ->  tensor(0.1860, grad_fn=<MeanBackward0>)\n",
      "loss ->  tensor(0.2398, grad_fn=<MeanBackward0>)\n",
      "loss ->  tensor(0.2383, grad_fn=<MeanBackward0>)\n",
      "loss ->  tensor(0.1871, grad_fn=<MeanBackward0>)\n",
      "loss ->  tensor(0.1578, grad_fn=<MeanBackward0>)\n",
      "loss ->  tensor(0.1908, grad_fn=<MeanBackward0>)\n",
      "loss ->  tensor(0.1942, grad_fn=<MeanBackward0>)\n",
      "loss ->  tensor(0.1742, grad_fn=<MeanBackward0>)\n",
      "loss ->  tensor(0.1438, grad_fn=<MeanBackward0>)\n",
      "loss ->  tensor(0.1432, grad_fn=<MeanBackward0>)\n",
      "loss ->  tensor(0.1603, grad_fn=<MeanBackward0>)\n",
      "loss ->  tensor(0.1748, grad_fn=<MeanBackward0>)\n",
      "loss ->  tensor(0.1498, grad_fn=<MeanBackward0>)\n",
      "loss ->  tensor(0.1265, grad_fn=<MeanBackward0>)\n",
      "loss ->  tensor(0.1338, grad_fn=<MeanBackward0>)\n",
      "loss ->  tensor(0.1407, grad_fn=<MeanBackward0>)\n",
      "loss ->  tensor(0.1422, grad_fn=<MeanBackward0>)\n",
      "loss ->  tensor(0.1469, grad_fn=<MeanBackward0>)\n",
      "loss ->  tensor(0.1248, grad_fn=<MeanBackward0>)\n",
      "loss ->  tensor(0.1193, grad_fn=<MeanBackward0>)\n",
      "loss ->  tensor(0.1304, grad_fn=<MeanBackward0>)\n",
      "loss ->  tensor(0.1294, grad_fn=<MeanBackward0>)\n",
      "loss ->  tensor(0.1254, grad_fn=<MeanBackward0>)\n",
      "loss ->  tensor(0.1216, grad_fn=<MeanBackward0>)\n",
      "loss ->  tensor(0.1153, grad_fn=<MeanBackward0>)\n",
      "loss ->  tensor(0.1150, grad_fn=<MeanBackward0>)\n",
      "loss ->  tensor(0.1221, grad_fn=<MeanBackward0>)\n",
      "Epoch: 1 cost time: 44.2012574672699\n",
      "Epoch: 1, Steps: 38 | Train Loss: 0.2551073 Vali Loss: 0.0811003 Test Loss: 0.1673035\n",
      "Validation loss decreased (inf --> 0.081100).  Saving model ...\n",
      "Updating learning rate to 0.0001\n",
      "loss ->  tensor(0.1252, grad_fn=<MeanBackward0>)\n",
      "loss ->  tensor(0.1256, grad_fn=<MeanBackward0>)\n",
      "loss ->  tensor(0.1204, grad_fn=<MeanBackward0>)\n",
      "loss ->  tensor(0.1161, grad_fn=<MeanBackward0>)\n",
      "loss ->  tensor(0.1160, grad_fn=<MeanBackward0>)\n",
      "loss ->  tensor(0.1224, grad_fn=<MeanBackward0>)\n",
      "loss ->  tensor(0.1149, grad_fn=<MeanBackward0>)\n",
      "loss ->  tensor(0.1197, grad_fn=<MeanBackward0>)\n",
      "loss ->  tensor(0.1206, grad_fn=<MeanBackward0>)\n",
      "loss ->  tensor(0.1134, grad_fn=<MeanBackward0>)\n",
      "loss ->  tensor(0.1142, grad_fn=<MeanBackward0>)\n",
      "loss ->  tensor(0.1071, grad_fn=<MeanBackward0>)\n",
      "loss ->  tensor(0.1085, grad_fn=<MeanBackward0>)\n",
      "loss ->  tensor(0.1079, grad_fn=<MeanBackward0>)\n",
      "loss ->  tensor(0.1101, grad_fn=<MeanBackward0>)\n",
      "loss ->  tensor(0.1070, grad_fn=<MeanBackward0>)\n",
      "loss ->  tensor(0.1139, grad_fn=<MeanBackward0>)\n",
      "loss ->  tensor(0.1166, grad_fn=<MeanBackward0>)\n",
      "loss ->  tensor(0.1079, grad_fn=<MeanBackward0>)\n",
      "loss ->  tensor(0.1154, grad_fn=<MeanBackward0>)\n",
      "loss ->  tensor(0.1153, grad_fn=<MeanBackward0>)\n",
      "loss ->  tensor(0.1033, grad_fn=<MeanBackward0>)\n",
      "loss ->  tensor(0.1120, grad_fn=<MeanBackward0>)\n",
      "loss ->  tensor(0.1133, grad_fn=<MeanBackward0>)\n",
      "loss ->  tensor(0.1152, grad_fn=<MeanBackward0>)\n",
      "loss ->  tensor(0.1059, grad_fn=<MeanBackward0>)\n",
      "loss ->  tensor(0.1064, grad_fn=<MeanBackward0>)\n",
      "loss ->  tensor(0.1129, grad_fn=<MeanBackward0>)\n",
      "loss ->  tensor(0.0914, grad_fn=<MeanBackward0>)\n",
      "loss ->  tensor(0.1044, grad_fn=<MeanBackward0>)\n",
      "loss ->  tensor(0.1038, grad_fn=<MeanBackward0>)\n",
      "loss ->  tensor(0.1002, grad_fn=<MeanBackward0>)\n",
      "loss ->  tensor(0.1027, grad_fn=<MeanBackward0>)\n",
      "loss ->  tensor(0.1095, grad_fn=<MeanBackward0>)\n",
      "loss ->  tensor(0.1012, grad_fn=<MeanBackward0>)\n",
      "loss ->  tensor(0.1105, grad_fn=<MeanBackward0>)\n",
      "loss ->  tensor(0.1069, grad_fn=<MeanBackward0>)\n",
      "loss ->  tensor(0.1046, grad_fn=<MeanBackward0>)\n",
      "Epoch: 2 cost time: 46.02197217941284\n",
      "Epoch: 2, Steps: 38 | Train Loss: 0.1111170 Vali Loss: 0.0756905 Test Loss: 0.1627966\n",
      "Validation loss decreased (0.081100 --> 0.075690).  Saving model ...\n",
      "Updating learning rate to 5e-05\n",
      "loss ->  tensor(0.1051, grad_fn=<MeanBackward0>)\n",
      "loss ->  tensor(0.0960, grad_fn=<MeanBackward0>)\n",
      "loss ->  tensor(0.0958, grad_fn=<MeanBackward0>)\n",
      "loss ->  tensor(0.0986, grad_fn=<MeanBackward0>)\n",
      "loss ->  tensor(0.1037, grad_fn=<MeanBackward0>)\n",
      "loss ->  tensor(0.0972, grad_fn=<MeanBackward0>)\n",
      "loss ->  tensor(0.1026, grad_fn=<MeanBackward0>)\n",
      "loss ->  tensor(0.0981, grad_fn=<MeanBackward0>)\n",
      "loss ->  tensor(0.0974, grad_fn=<MeanBackward0>)\n",
      "loss ->  tensor(0.1032, grad_fn=<MeanBackward0>)\n",
      "loss ->  tensor(0.1009, grad_fn=<MeanBackward0>)\n",
      "loss ->  tensor(0.0965, grad_fn=<MeanBackward0>)\n",
      "loss ->  tensor(0.0935, grad_fn=<MeanBackward0>)\n",
      "loss ->  tensor(0.0962, grad_fn=<MeanBackward0>)\n",
      "loss ->  tensor(0.1040, grad_fn=<MeanBackward0>)\n",
      "loss ->  tensor(0.1028, grad_fn=<MeanBackward0>)\n",
      "loss ->  tensor(0.0989, grad_fn=<MeanBackward0>)\n",
      "loss ->  tensor(0.1066, grad_fn=<MeanBackward0>)\n",
      "loss ->  tensor(0.1020, grad_fn=<MeanBackward0>)\n",
      "loss ->  tensor(0.0971, grad_fn=<MeanBackward0>)\n",
      "loss ->  tensor(0.1021, grad_fn=<MeanBackward0>)\n",
      "loss ->  tensor(0.0868, grad_fn=<MeanBackward0>)\n",
      "loss ->  tensor(0.0866, grad_fn=<MeanBackward0>)\n",
      "loss ->  tensor(0.0991, grad_fn=<MeanBackward0>)\n",
      "loss ->  tensor(0.1063, grad_fn=<MeanBackward0>)\n",
      "loss ->  tensor(0.1042, grad_fn=<MeanBackward0>)\n",
      "loss ->  tensor(0.0948, grad_fn=<MeanBackward0>)\n",
      "loss ->  tensor(0.0903, grad_fn=<MeanBackward0>)\n",
      "loss ->  tensor(0.1054, grad_fn=<MeanBackward0>)\n",
      "loss ->  tensor(0.0997, grad_fn=<MeanBackward0>)\n",
      "loss ->  tensor(0.0937, grad_fn=<MeanBackward0>)\n",
      "loss ->  tensor(0.0979, grad_fn=<MeanBackward0>)\n",
      "loss ->  tensor(0.0998, grad_fn=<MeanBackward0>)\n",
      "loss ->  tensor(0.1024, grad_fn=<MeanBackward0>)\n",
      "loss ->  tensor(0.0916, grad_fn=<MeanBackward0>)\n",
      "loss ->  tensor(0.1006, grad_fn=<MeanBackward0>)\n",
      "loss ->  tensor(0.0970, grad_fn=<MeanBackward0>)\n",
      "loss ->  tensor(0.1027, grad_fn=<MeanBackward0>)\n",
      "Epoch: 3 cost time: 76.62456822395325\n",
      "Epoch: 3, Steps: 38 | Train Loss: 0.0988761 Vali Loss: 0.0766733 Test Loss: 0.1622798\n",
      "EarlyStopping counter: 1 out of 5\n",
      "Updating learning rate to 2.5e-05\n",
      "loss ->  tensor(0.1008, grad_fn=<MeanBackward0>)\n",
      "loss ->  tensor(0.0999, grad_fn=<MeanBackward0>)\n",
      "loss ->  tensor(0.0946, grad_fn=<MeanBackward0>)\n",
      "loss ->  tensor(0.0877, grad_fn=<MeanBackward0>)\n",
      "loss ->  tensor(0.0969, grad_fn=<MeanBackward0>)\n",
      "loss ->  tensor(0.0875, grad_fn=<MeanBackward0>)\n",
      "loss ->  tensor(0.1045, grad_fn=<MeanBackward0>)\n",
      "loss ->  tensor(0.1039, grad_fn=<MeanBackward0>)\n",
      "loss ->  tensor(0.0941, grad_fn=<MeanBackward0>)\n",
      "loss ->  tensor(0.0972, grad_fn=<MeanBackward0>)\n",
      "loss ->  tensor(0.0938, grad_fn=<MeanBackward0>)\n",
      "loss ->  tensor(0.0947, grad_fn=<MeanBackward0>)\n",
      "loss ->  tensor(0.1038, grad_fn=<MeanBackward0>)\n",
      "loss ->  tensor(0.1013, grad_fn=<MeanBackward0>)\n",
      "loss ->  tensor(0.1051, grad_fn=<MeanBackward0>)\n",
      "loss ->  tensor(0.1045, grad_fn=<MeanBackward0>)\n",
      "loss ->  tensor(0.0863, grad_fn=<MeanBackward0>)\n",
      "loss ->  tensor(0.0948, grad_fn=<MeanBackward0>)\n",
      "loss ->  tensor(0.0945, grad_fn=<MeanBackward0>)\n",
      "loss ->  tensor(0.0960, grad_fn=<MeanBackward0>)\n",
      "loss ->  tensor(0.0871, grad_fn=<MeanBackward0>)\n",
      "loss ->  tensor(0.0946, grad_fn=<MeanBackward0>)\n",
      "loss ->  tensor(0.0933, grad_fn=<MeanBackward0>)\n",
      "loss ->  tensor(0.0991, grad_fn=<MeanBackward0>)\n",
      "loss ->  tensor(0.0893, grad_fn=<MeanBackward0>)\n",
      "loss ->  tensor(0.0919, grad_fn=<MeanBackward0>)\n",
      "loss ->  tensor(0.0933, grad_fn=<MeanBackward0>)\n",
      "loss ->  tensor(0.0986, grad_fn=<MeanBackward0>)\n",
      "loss ->  tensor(0.1064, grad_fn=<MeanBackward0>)\n",
      "loss ->  tensor(0.1013, grad_fn=<MeanBackward0>)\n",
      "loss ->  tensor(0.1031, grad_fn=<MeanBackward0>)\n",
      "loss ->  tensor(0.0901, grad_fn=<MeanBackward0>)\n",
      "loss ->  tensor(0.0990, grad_fn=<MeanBackward0>)\n",
      "loss ->  tensor(0.0876, grad_fn=<MeanBackward0>)\n",
      "loss ->  tensor(0.0943, grad_fn=<MeanBackward0>)\n",
      "loss ->  tensor(0.1064, grad_fn=<MeanBackward0>)\n",
      "loss ->  tensor(0.0854, grad_fn=<MeanBackward0>)\n",
      "loss ->  tensor(0.0962, grad_fn=<MeanBackward0>)\n",
      "Epoch: 4 cost time: 77.44359302520752\n",
      "Epoch: 4, Steps: 38 | Train Loss: 0.0962838 Vali Loss: 0.0743555 Test Loss: 0.1614893\n",
      "Validation loss decreased (0.075690 --> 0.074356).  Saving model ...\n",
      "Updating learning rate to 1.25e-05\n",
      ">>>>>>>testing : 27_close_diff_perc_nrm_informer_custom_ftMS_sl100_ll100_pl50_dm512_nh10_el4_dl2_df2048_atprob_fc5_ebtimeF_dtTrue_mxTrue_exp_0<<<<<<<<<<<<<<<<<<<<<<<<<<<<<<<<<\n",
      "data_path ->  27_Close_diff_perc_nrm.csv\n",
      "scaling\n",
      "test shape: (3, 32, 50, 1) (3, 32, 50, 1)\n",
      "test shape: (96, 50, 1) (96, 50, 1)\n",
      "mse:0.04665181413292885, mae:0.16162703931331635\n"
     ]
    }
   ],
   "source": [
    "for ii in range(args.itr):\n",
    "    # setting record of experiments\n",
    "    \n",
    "\n",
    "    # set experiments\n",
    "    exp = Exp(args)\n",
    "    \n",
    "    # train\n",
    "    print('>>>>>>>start training : {}>>>>>>>>>>>>>>>>>>>>>>>>>>'.format(setting))\n",
    "    exp.train(setting)\n",
    "    \n",
    "    # test\n",
    "    print('>>>>>>>testing : {}<<<<<<<<<<<<<<<<<<<<<<<<<<<<<<<<<'.format(setting))\n",
    "    exp.test(setting)\n",
    "\n",
    "    torch.cuda.empty_cache()"
   ]
  },
  {
   "cell_type": "code",
   "execution_count": 13,
   "metadata": {},
   "outputs": [
    {
     "name": "stdout",
     "output_type": "stream",
     "text": [
      "data_path ->  27_Close_diff_perc_nrm.csv\n",
      "scaling\n",
      "0\n",
      "torch.Size([32, 150, 21])\n",
      "1\n",
      "torch.Size([32, 150, 21])\n",
      "2\n",
      "torch.Size([32, 150, 21])\n"
     ]
    }
   ],
   "source": [
    "test_data, test_loader = exp._get_data(flag='test')\n",
    "for i, (batch_x,batch_y,batch_x_mark,batch_y_mark) in enumerate(test_loader):\n",
    "    print(i)\n",
    "    print(batch_y.shape)"
   ]
  },
  {
   "cell_type": "markdown",
   "metadata": {
    "id": "CDHF-HerAE3u"
   },
   "source": [
    "## Prediction"
   ]
  },
  {
   "cell_type": "code",
   "execution_count": 14,
   "metadata": {
    "id": "s0YI1zx6ACiz"
   },
   "outputs": [],
   "source": [
    "import os\n",
    "path = os.path.join(args.checkpoints,setting,'checkpoint.pth')"
   ]
  },
  {
   "cell_type": "code",
   "execution_count": 15,
   "metadata": {
    "id": "nTkluNNcyMJt"
   },
   "outputs": [
    {
     "name": "stdout",
     "output_type": "stream",
     "text": [
      "Use CPU\n",
      "datapath ==  27_Close_diff_perc_nrm.csv\n",
      "pred_loader length\n",
      "1\n",
      "torch.Size([1, 100, 21])\n"
     ]
    }
   ],
   "source": [
    "exp = Exp(args)\n",
    "\n",
    "exp.predict(setting, True)"
   ]
  },
  {
   "cell_type": "code",
   "execution_count": 16,
   "metadata": {
    "colab": {
     "base_uri": "https://localhost:8080/"
    },
    "id": "KBCPbjGuzAZb",
    "outputId": "f8813326-2d20-4719-831c-cf7494cd3180"
   },
   "outputs": [
    {
     "data": {
      "text/plain": [
       "(1, 50, 1)"
      ]
     },
     "execution_count": 16,
     "metadata": {},
     "output_type": "execute_result"
    }
   ],
   "source": [
    "import numpy as np\n",
    "\n",
    "\n",
    "prediction = np.load('./results/'+setting+'/real_prediction.npy')\n",
    "\n",
    "prediction.shape"
   ]
  },
  {
   "cell_type": "markdown",
   "metadata": {
    "id": "5yFuVkTV30_j"
   },
   "source": [
    "### More details about Prediction - prediction function"
   ]
  },
  {
   "cell_type": "code",
   "execution_count": 17,
   "metadata": {
    "id": "Sv9AR_Aw030r"
   },
   "outputs": [],
   "source": [
    "# here is the detailed code of function predict\n",
    "\n",
    "def predict(exp, setting, load=False):\n",
    "    pred_data, pred_loader = exp._get_data(flag='pred')\n",
    "        \n",
    "    if load:\n",
    "        path = os.path.join(exp.args.checkpoints, setting)\n",
    "        best_model_path = path+'/'+'checkpoint.pth'\n",
    "        exp.model.load_state_dict(torch.load(best_model_path))\n",
    "\n",
    "    exp.model.eval()\n",
    "        \n",
    "    preds = []\n",
    "        \n",
    "    for i, (batch_x,batch_y,batch_x_mark,batch_y_mark) in enumerate(pred_loader):\n",
    "        batch_x = batch_x.float().to(exp.device)\n",
    "        batch_y = batch_y.float()\n",
    "        print(batch_y.shape)\n",
    "        batch_x_mark = batch_x_mark.float().to(exp.device)\n",
    "        batch_y_mark = batch_y_mark.float().to(exp.device)\n",
    "\n",
    "        # decoder input\n",
    "        if exp.args.padding==0:\n",
    "            dec_inp = torch.zeros([batch_y.shape[0], exp.args.pred_len, batch_y.shape[-1]]).float()\n",
    "        elif exp.args.padding==1:\n",
    "            dec_inp = torch.ones([batch_y.shape[0], exp.args.pred_len, batch_y.shape[-1]]).float()\n",
    "        else:\n",
    "            dec_inp = torch.zeros([batch_y.shape[0], exp.args.pred_len, batch_y.shape[-1]]).float()\n",
    "        dec_inp = torch.cat([batch_y[:,:exp.args.label_len,:], dec_inp], dim=1).float().to(exp.device)\n",
    "        # encoder - decoder\n",
    "        if exp.args.use_amp:\n",
    "            with torch.cuda.amp.autocast():\n",
    "                if exp.args.output_attention:\n",
    "                    outputs = exp.model(batch_x, batch_x_mark, dec_inp, batch_y_mark)[0]\n",
    "                else:\n",
    "                    outputs = exp.model(batch_x, batch_x_mark, dec_inp, batch_y_mark)\n",
    "        else:\n",
    "            if exp.args.output_attention:\n",
    "                outputs = exp.model(batch_x, batch_x_mark, dec_inp, batch_y_mark)[0]\n",
    "            else:\n",
    "                outputs = exp.model(batch_x, batch_x_mark, dec_inp, batch_y_mark)\n",
    "        f_dim = -1 if exp.args.features=='MS' else 0\n",
    "        batch_y = batch_y[:,-exp.args.pred_len:,f_dim:].to(exp.device)\n",
    "        \n",
    "        pred = outputs.detach().cpu().numpy()#.squeeze()\n",
    "        \n",
    "        preds.append(pred)\n",
    "\n",
    "    preds = np.array(preds)\n",
    "    preds = preds.reshape(-1, preds.shape[-2], preds.shape[-1])\n",
    "    \n",
    "    # result save\n",
    "    folder_path = './results/' + setting +'/'\n",
    "    if not os.path.exists(folder_path):\n",
    "        os.makedirs(folder_path)\n",
    "    \n",
    "    np.save(folder_path+'real_prediction.npy', preds)\n",
    "    \n",
    "    return preds\n"
   ]
  },
  {
   "cell_type": "code",
   "execution_count": 18,
   "metadata": {
    "colab": {
     "base_uri": "https://localhost:8080/"
    },
    "id": "tVLWZL2a1pwB",
    "outputId": "7cec8531-480e-44a4-c0b9-8c5128b1fc02"
   },
   "outputs": [
    {
     "name": "stdout",
     "output_type": "stream",
     "text": [
      "datapath ==  27_Close_diff_perc_nrm.csv\n",
      "torch.Size([1, 100, 21])\n"
     ]
    }
   ],
   "source": [
    "# you can also use this prediction function to get result\n",
    "prediction = predict(exp, setting, True)"
   ]
  },
  {
   "cell_type": "code",
   "execution_count": 19,
   "metadata": {
    "colab": {
     "base_uri": "https://localhost:8080/",
     "height": 265
    },
    "id": "NwtZmQC71uc8",
    "outputId": "6bad1dea-ffff-42b3-c5bb-291c82ac5ba9"
   },
   "outputs": [
    {
     "data": {
      "image/png": "[encoded data removed]",
      "text/plain": [
       "<Figure size 640x480 with 1 Axes>"
      ]
     },
     "metadata": {},
     "output_type": "display_data"
    }
   ],
   "source": [
    "import matplotlib.pyplot as plt\n",
    "\n",
    "plt.figure()\n",
    "plt.plot(prediction[0,:,-1])\n",
    "plt.show()"
   ]
  },
  {
   "cell_type": "markdown",
   "metadata": {
    "id": "EnePVyrW4I14"
   },
   "source": [
    "### More details about Prediction - prediction dataset\n",
    "\n",
    "You can give a `root_path` and `data_path` of the data you want to forecast, and set `seq_len`, `label_len`, `pred_len` and other arguments as other Dataset. The difference is that you can set a more detailed freq such as `15min` or `3h` to generate the timestamp of prediction series.\n",
    "\n",
    "`Dataset_Pred` only has one sample (including `encoder_input: [1, seq_len, dim]`, `decoder_token: [1, label_len, dim]`, `encoder_input_timestamp: [1, seq_len, date_dim]`, `decoder_input_timstamp: [1, label_len+pred_len, date_dim]`). It will intercept the last sequence of the given data (seq_len data) to forecast the unseen future sequence (pred_len data)."
   ]
  },
  {
   "cell_type": "code",
   "execution_count": 20,
   "metadata": {
    "id": "ZpXhNGp34Hf4"
   },
   "outputs": [],
   "source": [
    "from data.data_loader import Dataset_Pred\n",
    "from torch.utils.data import DataLoader"
   ]
  },
  {
   "cell_type": "code",
   "execution_count": 21,
   "metadata": {
    "id": "j4Rpd1q74T8N"
   },
   "outputs": [
    {
     "name": "stdout",
     "output_type": "stream",
     "text": [
      "datapath ==  27_Close_diff_perc_nrm.csv\n"
     ]
    }
   ],
   "source": [
    "Data = Dataset_Pred\n",
    "timeenc = 0 if args.embed!='timeF' else 1\n",
    "flag = 'pred'; shuffle_flag = False; drop_last = False; batch_size = 1\n",
    "\n",
    "freq = args.detail_freq\n",
    "\n",
    "data_set = Data(\n",
    "    root_path=args.root_path,\n",
    "    data_path=args.data_path,\n",
    "    flag=flag,\n",
    "    size=[args.seq_len, args.label_len, args.pred_len],\n",
    "    features=args.features,\n",
    "    target=args.target,\n",
    "    timeenc=timeenc,\n",
    "    freq=freq\n",
    ")\n",
    "data_loader = DataLoader(\n",
    "    data_set,\n",
    "    batch_size=batch_size,\n",
    "    shuffle=shuffle_flag,\n",
    "    num_workers=args.num_workers,\n",
    "    drop_last=drop_last)"
   ]
  },
  {
   "cell_type": "code",
   "execution_count": 22,
   "metadata": {
    "colab": {
     "base_uri": "https://localhost:8080/"
    },
    "id": "42C84BfY6UPV",
    "outputId": "fe8f6340-2345-4c09-e720-c30ce50c77fd"
   },
   "outputs": [
    {
     "data": {
      "text/plain": [
       "(1, 1)"
      ]
     },
     "execution_count": 22,
     "metadata": {},
     "output_type": "execute_result"
    }
   ],
   "source": [
    "len(data_set), len(data_loader)"
   ]
  },
  {
   "cell_type": "markdown",
   "metadata": {
    "id": "cNhEP_7sAgqC"
   },
   "source": [
    "## Visualization"
   ]
  },
  {
   "cell_type": "code",
   "execution_count": 23,
   "metadata": {
    "colab": {
     "base_uri": "https://localhost:8080/"
    },
    "id": "vMRk8VkQ2Iko",
    "outputId": "b2da9ee4-fd43-44de-d421-e6396a39a666"
   },
   "outputs": [
    {
     "data": {
      "text/plain": [
       "((96, 50, 1), (96, 50, 1))"
      ]
     },
     "execution_count": 23,
     "metadata": {},
     "output_type": "execute_result"
    }
   ],
   "source": [
    "# When we finished exp.train(setting) and exp.test(setting), we will get a trained model and the results of test experiment\n",
    "# The results of test experiment will be saved in ./results/{setting}/pred.npy (prediction of test dataset) and ./results/{setting}/true.npy (groundtruth of test dataset)\n",
    "\n",
    "preds = np.load('./results/'+setting+'/pred.npy')\n",
    "trues = np.load('./results/'+setting+'/true.npy')\n",
    "\n",
    "# [samples, pred_len, dimensions]\n",
    "preds.shape, trues.shape"
   ]
  },
  {
   "cell_type": "code",
   "execution_count": 24,
   "metadata": {},
   "outputs": [
    {
     "data": {
      "text/plain": [
       "(1, 50, 1)"
      ]
     },
     "execution_count": 24,
     "metadata": {},
     "output_type": "execute_result"
    }
   ],
   "source": [
    "real_prediction = np.load('./results/'+setting+'/real_prediction.npy')\n",
    "real_prediction.shape"
   ]
  },
  {
   "cell_type": "code",
   "execution_count": 25,
   "metadata": {},
   "outputs": [
    {
     "name": "stdout",
     "output_type": "stream",
     "text": [
      "[[[-0.2268584 ]\n",
      "  [ 0.263976  ]\n",
      "  [ 0.09668539]\n",
      "  ...\n",
      "  [ 0.01073663]\n",
      "  [-0.01213653]\n",
      "  [ 0.0813728 ]]\n",
      "\n",
      " [[ 0.263976  ]\n",
      "  [ 0.09668539]\n",
      "  [-0.00898335]\n",
      "  ...\n",
      "  [-0.01213653]\n",
      "  [ 0.0813728 ]\n",
      "  [-0.5003985 ]]\n",
      "\n",
      " [[ 0.09668539]\n",
      "  [-0.00898335]\n",
      "  [-0.09799422]\n",
      "  ...\n",
      "  [ 0.0813728 ]\n",
      "  [-0.5003985 ]\n",
      "  [-0.08712376]]\n",
      "\n",
      " ...\n",
      "\n",
      " [[-0.04182973]\n",
      "  [-0.20748255]\n",
      "  [-0.14171243]\n",
      "  ...\n",
      "  [ 0.08233122]\n",
      "  [-0.10997193]\n",
      "  [-0.1361915 ]]\n",
      "\n",
      " [[-0.20748255]\n",
      "  [-0.14171243]\n",
      "  [ 0.06538875]\n",
      "  ...\n",
      "  [-0.10997193]\n",
      "  [-0.1361915 ]\n",
      "  [ 0.05545529]]\n",
      "\n",
      " [[-0.14171243]\n",
      "  [ 0.06538875]\n",
      "  [ 0.01271848]\n",
      "  ...\n",
      "  [-0.1361915 ]\n",
      "  [ 0.05545529]\n",
      "  [-0.12366631]]]\n"
     ]
    }
   ],
   "source": [
    "print(trues)"
   ]
  },
  {
   "cell_type": "code",
   "execution_count": 26,
   "metadata": {
    "id": "ZEGhDOmxAeAb"
   },
   "outputs": [],
   "source": [
    "import matplotlib.pyplot as plt\n",
    "import seaborn as sns"
   ]
  },
  {
   "cell_type": "code",
   "execution_count": 27,
   "metadata": {
    "colab": {
     "base_uri": "https://localhost:8080/",
     "height": 265
    },
    "id": "kyPuOPGAAjl3",
    "outputId": "22fb6283-c64d-4203-c3a4-209397009534"
   },
   "outputs": [
    {
     "data": {
      "image/png": "[encoded data removed]",
      "text/plain": [
       "<Figure size 640x480 with 1 Axes>"
      ]
     },
     "metadata": {},
     "output_type": "display_data"
    }
   ],
   "source": [
    "plt.figure()\n",
    "plt.plot(trues[0,:,-1]/10, label='GroundTruth')\n",
    "plt.plot(preds[0,:,-1], label='Prediction')\n",
    "plt.legend()\n",
    "plt.show()"
   ]
  },
  {
   "cell_type": "code",
   "execution_count": 29,
   "metadata": {
    "colab": {
     "base_uri": "https://localhost:8080/",
     "height": 265
    },
    "id": "43MIgWfpMYIB",
    "outputId": "c14c910a-ba25-4169-c3c6-3feec340e76d"
   },
   "outputs": [
    {
     "data": {
      "image/png": "[encoded data removed]",
      "text/plain": [
       "<Figure size 640x480 with 1 Axes>"
      ]
     },
     "metadata": {},
     "output_type": "display_data"
    }
   ],
   "source": [
    "plt.figure()\n",
    "plt.plot(trues[-1,:,0]/10, label='GroundTruth')\n",
    "plt.plot(preds[-1,:,0], label='Prediction')\n",
    "plt.legend()\n",
    "plt.show()"
   ]
  },
  {
   "cell_type": "code",
   "execution_count": null,
   "metadata": {},
   "outputs": [],
   "source": []
  }
 ],
 "metadata": {
  "accelerator": "GPU",
  "colab": {
   "provenance": []
  },
  "environment": {
   "kernel": "python3",
   "name": "common-cpu.m99",
   "type": "gcloud",
   "uri": "gcr.io/deeplearning-platform-release/base-cpu:m99"
  },
  "kernelspec": {
   "display_name": "Python 3",
   "language": "python",
   "name": "python3"
  },
  "language_info": {
   "codemirror_mode": {
    "name": "ipython",
    "version": 3
   },
   "file_extension": ".py",
   "mimetype": "text/x-python",
   "name": "python",
   "nbconvert_exporter": "python",
   "pygments_lexer": "ipython3",
   "version": "3.7.12"
  }
 },
 "nbformat": 4,
 "nbformat_minor": 4
}
