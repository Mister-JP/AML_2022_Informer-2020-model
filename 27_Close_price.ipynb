{
 "cells": [
  {
   "cell_type": "markdown",
   "metadata": {
    "id": "5IM6CZzW_CH0"
   },
   "source": [
    "# Informer Demo"
   ]
  },
  {
   "cell_type": "markdown",
   "metadata": {
    "id": "kdaIHYx4_ECL"
   },
   "source": [
    "## Download code and dataset"
   ]
  },
  {
   "cell_type": "code",
   "execution_count": 1,
   "metadata": {
    "colab": {
     "base_uri": "https://localhost:8080/"
    },
    "id": "SA_i2gbl-rn-",
    "outputId": "09a8dca2-a8f0-40f0-9473-56ad4b27adf9"
   },
   "outputs": [],
   "source": [
    "# !git clone https://github.com/zhouhaoyi/Informer2020.git\n",
    "# !git clone https://github.com/zhouhaoyi/ETDataset.git\n",
    "# !ls"
   ]
  },
  {
   "cell_type": "code",
   "execution_count": 11,
   "metadata": {
    "id": "b5GFng7v7Eq0"
   },
   "outputs": [],
   "source": [
    "import sys\n",
    "if not 'Informer2020' in sys.path:\n",
    "    sys.path += ['Informer2020']"
   ]
  },
  {
   "cell_type": "code",
   "execution_count": 12,
   "metadata": {
    "id": "YW9TS6jp_YXc"
   },
   "outputs": [],
   "source": [
    "# !pip install -r ./Informer2020/requirements.txt"
   ]
  },
  {
   "cell_type": "markdown",
   "metadata": {
    "id": "rIjZdN5e_SWe"
   },
   "source": [
    "## Experiments: Train and Test"
   ]
  },
  {
   "cell_type": "code",
   "execution_count": 13,
   "metadata": {
    "id": "RPdt-Kwc_RRZ"
   },
   "outputs": [],
   "source": [
    "from utils.tools import dotdict\n",
    "from exp.exp_informer import Exp_Informer\n",
    "import torch"
   ]
  },
  {
   "cell_type": "code",
   "execution_count": 14,
   "metadata": {
    "id": "6mx2dnwY9dWi"
   },
   "outputs": [],
   "source": [
    "args = dotdict()\n",
    "\n",
    "args.model = 'informer' # model of experiment, options: [informer, informerstack, informerlight(TBD)]\n",
    "\n",
    "args.data = 'ETTh1' # data\n",
    "args.data = 'custom' # data\n",
    "args.root_path = './ETDataset/ETT-small/' # root path of data file\n",
    "args.root_path = 'data' # root path of data file\n",
    "args.data_path = 'ETTh1.csv' # data file\n",
    "args.data_path = '27_Close_price.csv' # data file\n",
    "args.features = 'MS' # forecasting task, options:[M, S, MS]; M:multivariate predict multivariate, S:univariate predict univariate, MS:multivariate predict univariate\n",
    "args.target = 'Close' # target feature in S or MS task\n",
    "args.freq = 'd' # freq for time features encoding, options:[s:secondly, t:minutely, h:hourly, d:daily, b:business days, w:weekly, m:monthly], you can also use more detailed freq like 15min or 3h\n",
    "args.checkpoints = './informer_checkpoints' # location of model checkpoints\n",
    "\n",
    "args.seq_len = 100 # input sequence length of Informer encoder\n",
    "args.label_len = 100 # start token length of Informer decoder\n",
    "args.pred_len = 50 # prediction sequence length\n",
    "# Informer decoder input: concat[start token series(label_len), zero padding series(pred_len)]\n",
    "\n",
    "args.enc_in = 7 # encoder input size\n",
    "args.enc_in = 202 # encoder input size\n",
    "args.dec_in = 7 # decoder input size\n",
    "args.dec_in = 202 # decoder input size\n",
    "args.c_out = 7 # output size\n",
    "# args.c_out = 202 # output size\n",
    "args.factor = 5 # probsparse attn factor\n",
    "args.d_model = 512 # dimension of model\n",
    "args.d_model = 512 # dimension of model\n",
    "args.n_heads = 10 # num of heads\n",
    "args.e_layers = 4 # num of encoder layers\n",
    "args.d_layers = 2 # num of decoder layers\n",
    "args.d_ff = 2048 # dimension of fcn in model\n",
    "args.dropout = 0.05 # dropout\n",
    "args.attn = 'prob' # attention used in encoder, options:[prob, full]\n",
    "args.embed = 'timeF' # time features encoding, options:[timeF, fixed, learned]\n",
    "args.activation = 'gelu' # activation\n",
    "args.distil = True # whether to use distilling in encoder\n",
    "args.output_attention = False # whether to output attention in ecoder\n",
    "args.mix = True\n",
    "args.padding = 0\n",
    "args.freq = 'd'\n",
    "\n",
    "args.batch_size = 32 \n",
    "args.learning_rate = 0.0001\n",
    "args.loss = 'mse'\n",
    "args.lradj = 'type1'\n",
    "args.use_amp = False # whether to use automatic mixed precision training\n",
    "\n",
    "args.num_workers = 0\n",
    "args.itr = 1\n",
    "args.train_epochs = 4\n",
    "args.patience = 5\n",
    "args.des = 'exp'\n",
    "\n",
    "args.use_gpu = True if torch.cuda.is_available() else False\n",
    "args.gpu = 0\n",
    "\n",
    "args.use_multi_gpu = False\n",
    "args.devices = '0,1,2,3'\n"
   ]
  },
  {
   "cell_type": "code",
   "execution_count": 15,
   "metadata": {
    "id": "k_BCYODAwKl9"
   },
   "outputs": [],
   "source": [
    "args.use_gpu = True if torch.cuda.is_available() and args.use_gpu else False\n",
    "\n",
    "if args.use_gpu and args.use_multi_gpu:\n",
    "    args.devices = args.devices.replace(' ','')\n",
    "    device_ids = args.devices.split(',')\n",
    "    args.device_ids = [int(id_) for id_ in device_ids]\n",
    "    args.gpu = args.device_ids[0]"
   ]
  },
  {
   "cell_type": "code",
   "execution_count": 16,
   "metadata": {
    "id": "53o3pZ809p-a"
   },
   "outputs": [],
   "source": [
    "# Set augments by using data name\n",
    "data_parser = {\n",
    "    'ETTh1':{'data':'ETTh1.csv','T':'OT','M':[7,7,7],'S':[1,1,1],'MS':[7,7,1]},\n",
    "    'ETTh2':{'data':'ETTh2.csv','T':'OT','M':[7,7,7],'S':[1,1,1],'MS':[7,7,1]},\n",
    "    'ETTm1':{'data':'ETTm1.csv','T':'OT','M':[7,7,7],'S':[1,1,1],'MS':[7,7,1]},\n",
    "    'ETTm2':{'data':'ETTm2.csv','T':'OT','M':[7,7,7],'S':[1,1,1],'MS':[7,7,1]},\n",
    "    'custom':{'data':'27_Close_price.csv','T':'Close','M':[22,22,22],'S':[1,1,1],'MS':[22,22,1]},\n",
    "}\n",
    "if args.data in data_parser.keys():\n",
    "    data_info = data_parser[args.data]\n",
    "    args.data_path = data_info['data']\n",
    "    args.target = data_info['T']\n",
    "    args.enc_in, args.dec_in, args.c_out = data_info[args.features]"
   ]
  },
  {
   "cell_type": "code",
   "execution_count": 17,
   "metadata": {
    "id": "yZ5Q2vyKwSfk"
   },
   "outputs": [],
   "source": [
    "args.detail_freq = args.freq\n",
    "args.freq = args.freq[-1:]"
   ]
  },
  {
   "cell_type": "code",
   "execution_count": 18,
   "metadata": {
    "colab": {
     "base_uri": "https://localhost:8080/"
    },
    "id": "ywY-umrw-mHO",
    "outputId": "2618b6c1-eb39-430b-e1f6-64e621f7a34d"
   },
   "outputs": [
    {
     "name": "stdout",
     "output_type": "stream",
     "text": [
      "Args in experiment:\n",
      "{'model': 'informer', 'data': 'custom', 'root_path': 'data', 'data_path': '27_Close_price.csv', 'features': 'MS', 'target': 'Close', 'freq': 'd', 'checkpoints': './informer_checkpoints', 'seq_len': 100, 'label_len': 100, 'pred_len': 50, 'enc_in': 22, 'dec_in': 22, 'c_out': 1, 'factor': 5, 'd_model': 512, 'n_heads': 10, 'e_layers': 4, 'd_layers': 2, 'd_ff': 2048, 'dropout': 0.05, 'attn': 'prob', 'embed': 'timeF', 'activation': 'gelu', 'distil': True, 'output_attention': False, 'mix': True, 'padding': 0, 'batch_size': 32, 'learning_rate': 0.0001, 'loss': 'mse', 'lradj': 'type1', 'use_amp': False, 'num_workers': 0, 'itr': 1, 'train_epochs': 4, 'patience': 5, 'des': 'exp', 'use_gpu': False, 'gpu': 0, 'use_multi_gpu': False, 'devices': '0,1,2,3', 'detail_freq': 'd'}\n"
     ]
    }
   ],
   "source": [
    "print('Args in experiment:')\n",
    "print(args)"
   ]
  },
  {
   "cell_type": "code",
   "execution_count": 19,
   "metadata": {
    "id": "KVHZhRB4-on9"
   },
   "outputs": [],
   "source": [
    "Exp = Exp_Informer"
   ]
  },
  {
   "cell_type": "code",
   "execution_count": 20,
   "metadata": {},
   "outputs": [],
   "source": [
    "setting = '27_Close_price_only_{}_{}_ft{}_sl{}_ll{}_pl{}_dm{}_nh{}_el{}_dl{}_df{}_at{}_fc{}_eb{}_dt{}_mx{}_{}_{}'.format(args.model, args.data, args.features, \n",
    "                args.seq_len, args.label_len, args.pred_len,\n",
    "                args.d_model, args.n_heads, args.e_layers, args.d_layers, args.d_ff, args.attn, args.factor, args.embed, args.distil, args.mix, args.des, ii)\n"
   ]
  },
  {
   "cell_type": "code",
   "execution_count": 21,
   "metadata": {
    "colab": {
     "base_uri": "https://localhost:8080/",
     "height": 835
    },
    "id": "928tzaA2AA2g",
    "outputId": "4c12a6f6-3c31-401a-ef6a-b034da388593"
   },
   "outputs": [
    {
     "name": "stdout",
     "output_type": "stream",
     "text": [
      "Use CPU\n",
      ">>>>>>>start training : 27_Close_price_only_informer_custom_ftMS_sl100_ll100_pl50_dm512_nh10_el4_dl2_df2048_atprob_fc5_ebtimeF_dtTrue_mxTrue_exp_0>>>>>>>>>>>>>>>>>>>>>>>>>>\n",
      "data_path ->  27_Close_price.csv\n",
      "scaling\n",
      "data_path ->  27_Close_price.csv\n",
      "scaling\n",
      "data_path ->  27_Close_price.csv\n",
      "scaling\n",
      "loss ->  tensor(0.5350, grad_fn=<MeanBackward0>)\n",
      "loss ->  tensor(1.6789, grad_fn=<MeanBackward0>)\n",
      "loss ->  tensor(1.0860, grad_fn=<MeanBackward0>)\n",
      "loss ->  tensor(0.5667, grad_fn=<MeanBackward0>)\n",
      "loss ->  tensor(0.3117, grad_fn=<MeanBackward0>)\n",
      "loss ->  tensor(0.4399, grad_fn=<MeanBackward0>)\n",
      "loss ->  tensor(0.4535, grad_fn=<MeanBackward0>)\n",
      "loss ->  tensor(0.3390, grad_fn=<MeanBackward0>)\n",
      "loss ->  tensor(0.2887, grad_fn=<MeanBackward0>)\n",
      "loss ->  tensor(0.2779, grad_fn=<MeanBackward0>)\n",
      "loss ->  tensor(0.2293, grad_fn=<MeanBackward0>)\n",
      "loss ->  tensor(0.3204, grad_fn=<MeanBackward0>)\n",
      "loss ->  tensor(0.2714, grad_fn=<MeanBackward0>)\n",
      "loss ->  tensor(0.2652, grad_fn=<MeanBackward0>)\n",
      "loss ->  tensor(0.2179, grad_fn=<MeanBackward0>)\n",
      "loss ->  tensor(0.2444, grad_fn=<MeanBackward0>)\n",
      "loss ->  tensor(0.2815, grad_fn=<MeanBackward0>)\n",
      "loss ->  tensor(0.2293, grad_fn=<MeanBackward0>)\n",
      "loss ->  tensor(0.2468, grad_fn=<MeanBackward0>)\n",
      "loss ->  tensor(0.2138, grad_fn=<MeanBackward0>)\n",
      "loss ->  tensor(0.2471, grad_fn=<MeanBackward0>)\n",
      "loss ->  tensor(0.2237, grad_fn=<MeanBackward0>)\n",
      "loss ->  tensor(0.2323, grad_fn=<MeanBackward0>)\n",
      "loss ->  tensor(0.2161, grad_fn=<MeanBackward0>)\n",
      "loss ->  tensor(0.2929, grad_fn=<MeanBackward0>)\n",
      "loss ->  tensor(0.2062, grad_fn=<MeanBackward0>)\n",
      "loss ->  tensor(0.2212, grad_fn=<MeanBackward0>)\n",
      "loss ->  tensor(0.2458, grad_fn=<MeanBackward0>)\n",
      "loss ->  tensor(0.2039, grad_fn=<MeanBackward0>)\n",
      "loss ->  tensor(0.2131, grad_fn=<MeanBackward0>)\n",
      "loss ->  tensor(0.2527, grad_fn=<MeanBackward0>)\n",
      "loss ->  tensor(0.2266, grad_fn=<MeanBackward0>)\n",
      "loss ->  tensor(0.2217, grad_fn=<MeanBackward0>)\n",
      "loss ->  tensor(0.1904, grad_fn=<MeanBackward0>)\n",
      "loss ->  tensor(0.2052, grad_fn=<MeanBackward0>)\n",
      "loss ->  tensor(0.2806, grad_fn=<MeanBackward0>)\n",
      "loss ->  tensor(0.2138, grad_fn=<MeanBackward0>)\n",
      "loss ->  tensor(0.2388, grad_fn=<MeanBackward0>)\n",
      "Epoch: 1 cost time: 40.82728314399719\n",
      "Epoch: 1, Steps: 38 | Train Loss: 0.3323546 Vali Loss: 0.2672266 Test Loss: 0.1641657\n",
      "Validation loss decreased (inf --> 0.267227).  Saving model ...\n",
      "Updating learning rate to 0.0001\n",
      "loss ->  tensor(0.3090, grad_fn=<MeanBackward0>)\n",
      "loss ->  tensor(0.3045, grad_fn=<MeanBackward0>)\n",
      "loss ->  tensor(0.2388, grad_fn=<MeanBackward0>)\n",
      "loss ->  tensor(0.2290, grad_fn=<MeanBackward0>)\n",
      "loss ->  tensor(0.2243, grad_fn=<MeanBackward0>)\n",
      "loss ->  tensor(0.2292, grad_fn=<MeanBackward0>)\n",
      "loss ->  tensor(0.1948, grad_fn=<MeanBackward0>)\n",
      "loss ->  tensor(0.2217, grad_fn=<MeanBackward0>)\n",
      "loss ->  tensor(0.2576, grad_fn=<MeanBackward0>)\n",
      "loss ->  tensor(0.2596, grad_fn=<MeanBackward0>)\n",
      "loss ->  tensor(0.1999, grad_fn=<MeanBackward0>)\n",
      "loss ->  tensor(0.2665, grad_fn=<MeanBackward0>)\n",
      "loss ->  tensor(0.2305, grad_fn=<MeanBackward0>)\n",
      "loss ->  tensor(0.2366, grad_fn=<MeanBackward0>)\n",
      "loss ->  tensor(0.2337, grad_fn=<MeanBackward0>)\n",
      "loss ->  tensor(0.2553, grad_fn=<MeanBackward0>)\n",
      "loss ->  tensor(0.1999, grad_fn=<MeanBackward0>)\n",
      "loss ->  tensor(0.1355, grad_fn=<MeanBackward0>)\n",
      "loss ->  tensor(0.1989, grad_fn=<MeanBackward0>)\n",
      "loss ->  tensor(0.1991, grad_fn=<MeanBackward0>)\n",
      "loss ->  tensor(0.1896, grad_fn=<MeanBackward0>)\n",
      "loss ->  tensor(0.1941, grad_fn=<MeanBackward0>)\n",
      "loss ->  tensor(0.2098, grad_fn=<MeanBackward0>)\n",
      "loss ->  tensor(0.2304, grad_fn=<MeanBackward0>)\n",
      "loss ->  tensor(0.2000, grad_fn=<MeanBackward0>)\n",
      "loss ->  tensor(0.1671, grad_fn=<MeanBackward0>)\n",
      "loss ->  tensor(0.2047, grad_fn=<MeanBackward0>)\n",
      "loss ->  tensor(0.2448, grad_fn=<MeanBackward0>)\n",
      "loss ->  tensor(0.1912, grad_fn=<MeanBackward0>)\n",
      "loss ->  tensor(0.1978, grad_fn=<MeanBackward0>)\n",
      "loss ->  tensor(0.2613, grad_fn=<MeanBackward0>)\n",
      "loss ->  tensor(0.2616, grad_fn=<MeanBackward0>)\n",
      "loss ->  tensor(0.1923, grad_fn=<MeanBackward0>)\n",
      "loss ->  tensor(0.2523, grad_fn=<MeanBackward0>)\n",
      "loss ->  tensor(0.2396, grad_fn=<MeanBackward0>)\n",
      "loss ->  tensor(0.1927, grad_fn=<MeanBackward0>)\n",
      "loss ->  tensor(0.1696, grad_fn=<MeanBackward0>)\n",
      "loss ->  tensor(0.1832, grad_fn=<MeanBackward0>)\n",
      "Epoch: 2 cost time: 41.6179723739624\n",
      "Epoch: 2, Steps: 38 | Train Loss: 0.2212166 Vali Loss: 0.5609913 Test Loss: 0.3059536\n",
      "EarlyStopping counter: 1 out of 5\n",
      "Updating learning rate to 5e-05\n",
      "loss ->  tensor(0.2023, grad_fn=<MeanBackward0>)\n",
      "loss ->  tensor(0.1968, grad_fn=<MeanBackward0>)\n",
      "loss ->  tensor(0.1608, grad_fn=<MeanBackward0>)\n",
      "loss ->  tensor(0.1547, grad_fn=<MeanBackward0>)\n",
      "loss ->  tensor(0.1935, grad_fn=<MeanBackward0>)\n",
      "loss ->  tensor(0.1528, grad_fn=<MeanBackward0>)\n",
      "loss ->  tensor(0.1715, grad_fn=<MeanBackward0>)\n",
      "loss ->  tensor(0.1713, grad_fn=<MeanBackward0>)\n",
      "loss ->  tensor(0.2173, grad_fn=<MeanBackward0>)\n",
      "loss ->  tensor(0.1546, grad_fn=<MeanBackward0>)\n",
      "loss ->  tensor(0.1736, grad_fn=<MeanBackward0>)\n",
      "loss ->  tensor(0.1787, grad_fn=<MeanBackward0>)\n",
      "loss ->  tensor(0.2274, grad_fn=<MeanBackward0>)\n",
      "loss ->  tensor(0.2014, grad_fn=<MeanBackward0>)\n",
      "loss ->  tensor(0.1924, grad_fn=<MeanBackward0>)\n",
      "loss ->  tensor(0.2442, grad_fn=<MeanBackward0>)\n",
      "loss ->  tensor(0.1894, grad_fn=<MeanBackward0>)\n",
      "loss ->  tensor(0.2049, grad_fn=<MeanBackward0>)\n",
      "loss ->  tensor(0.1863, grad_fn=<MeanBackward0>)\n",
      "loss ->  tensor(0.1991, grad_fn=<MeanBackward0>)\n",
      "loss ->  tensor(0.1716, grad_fn=<MeanBackward0>)\n",
      "loss ->  tensor(0.2083, grad_fn=<MeanBackward0>)\n",
      "loss ->  tensor(0.1817, grad_fn=<MeanBackward0>)\n",
      "loss ->  tensor(0.2125, grad_fn=<MeanBackward0>)\n",
      "loss ->  tensor(0.1835, grad_fn=<MeanBackward0>)\n",
      "loss ->  tensor(0.2060, grad_fn=<MeanBackward0>)\n",
      "loss ->  tensor(0.1937, grad_fn=<MeanBackward0>)\n",
      "loss ->  tensor(0.1536, grad_fn=<MeanBackward0>)\n",
      "loss ->  tensor(0.2253, grad_fn=<MeanBackward0>)\n",
      "loss ->  tensor(0.2146, grad_fn=<MeanBackward0>)\n",
      "loss ->  tensor(0.2156, grad_fn=<MeanBackward0>)\n",
      "loss ->  tensor(0.1788, grad_fn=<MeanBackward0>)\n",
      "loss ->  tensor(0.1751, grad_fn=<MeanBackward0>)\n",
      "loss ->  tensor(0.1471, grad_fn=<MeanBackward0>)\n",
      "loss ->  tensor(0.1738, grad_fn=<MeanBackward0>)\n",
      "loss ->  tensor(0.1761, grad_fn=<MeanBackward0>)\n",
      "loss ->  tensor(0.1844, grad_fn=<MeanBackward0>)\n",
      "loss ->  tensor(0.2118, grad_fn=<MeanBackward0>)\n",
      "Epoch: 3 cost time: 57.75542759895325\n",
      "Epoch: 3, Steps: 38 | Train Loss: 0.1891164 Vali Loss: 0.4601220 Test Loss: 0.2000874\n",
      "EarlyStopping counter: 2 out of 5\n",
      "Updating learning rate to 2.5e-05\n",
      "loss ->  tensor(0.2108, grad_fn=<MeanBackward0>)\n",
      "loss ->  tensor(0.1937, grad_fn=<MeanBackward0>)\n",
      "loss ->  tensor(0.1616, grad_fn=<MeanBackward0>)\n",
      "loss ->  tensor(0.1651, grad_fn=<MeanBackward0>)\n",
      "loss ->  tensor(0.1956, grad_fn=<MeanBackward0>)\n",
      "loss ->  tensor(0.1690, grad_fn=<MeanBackward0>)\n",
      "loss ->  tensor(0.1544, grad_fn=<MeanBackward0>)\n",
      "loss ->  tensor(0.2009, grad_fn=<MeanBackward0>)\n",
      "loss ->  tensor(0.1819, grad_fn=<MeanBackward0>)\n",
      "loss ->  tensor(0.1764, grad_fn=<MeanBackward0>)\n",
      "loss ->  tensor(0.1484, grad_fn=<MeanBackward0>)\n",
      "loss ->  tensor(0.1960, grad_fn=<MeanBackward0>)\n",
      "loss ->  tensor(0.1898, grad_fn=<MeanBackward0>)\n",
      "loss ->  tensor(0.2005, grad_fn=<MeanBackward0>)\n",
      "loss ->  tensor(0.1708, grad_fn=<MeanBackward0>)\n",
      "loss ->  tensor(0.1680, grad_fn=<MeanBackward0>)\n",
      "loss ->  tensor(0.1624, grad_fn=<MeanBackward0>)\n",
      "loss ->  tensor(0.1813, grad_fn=<MeanBackward0>)\n",
      "loss ->  tensor(0.1799, grad_fn=<MeanBackward0>)\n",
      "loss ->  tensor(0.2229, grad_fn=<MeanBackward0>)\n",
      "loss ->  tensor(0.1958, grad_fn=<MeanBackward0>)\n",
      "loss ->  tensor(0.1986, grad_fn=<MeanBackward0>)\n",
      "loss ->  tensor(0.1663, grad_fn=<MeanBackward0>)\n",
      "loss ->  tensor(0.1848, grad_fn=<MeanBackward0>)\n",
      "loss ->  tensor(0.1786, grad_fn=<MeanBackward0>)\n",
      "loss ->  tensor(0.1542, grad_fn=<MeanBackward0>)\n",
      "loss ->  tensor(0.1733, grad_fn=<MeanBackward0>)\n",
      "loss ->  tensor(0.2061, grad_fn=<MeanBackward0>)\n",
      "loss ->  tensor(0.1532, grad_fn=<MeanBackward0>)\n",
      "loss ->  tensor(0.2141, grad_fn=<MeanBackward0>)\n",
      "loss ->  tensor(0.1594, grad_fn=<MeanBackward0>)\n",
      "loss ->  tensor(0.2198, grad_fn=<MeanBackward0>)\n",
      "loss ->  tensor(0.1752, grad_fn=<MeanBackward0>)\n",
      "loss ->  tensor(0.1750, grad_fn=<MeanBackward0>)\n",
      "loss ->  tensor(0.1949, grad_fn=<MeanBackward0>)\n",
      "loss ->  tensor(0.2003, grad_fn=<MeanBackward0>)\n",
      "loss ->  tensor(0.2186, grad_fn=<MeanBackward0>)\n",
      "loss ->  tensor(0.2025, grad_fn=<MeanBackward0>)\n",
      "Epoch: 4 cost time: 156.57988095283508\n",
      "Epoch: 4, Steps: 38 | Train Loss: 0.1842176 Vali Loss: 0.4945134 Test Loss: 0.2294623\n",
      "EarlyStopping counter: 3 out of 5\n",
      "Updating learning rate to 1.25e-05\n",
      ">>>>>>>testing : 27_Close_price_only_informer_custom_ftMS_sl100_ll100_pl50_dm512_nh10_el4_dl2_df2048_atprob_fc5_ebtimeF_dtTrue_mxTrue_exp_0<<<<<<<<<<<<<<<<<<<<<<<<<<<<<<<<<\n",
      "data_path ->  27_Close_price.csv\n",
      "scaling\n",
      "test shape: (3, 32, 50, 1) (3, 32, 50, 1)\n",
      "test shape: (96, 50, 1) (96, 50, 1)\n",
      "mse:0.03799847513437271, mae:0.16524054110050201\n"
     ]
    }
   ],
   "source": [
    "for ii in range(args.itr):\n",
    "    # setting record of experiments\n",
    "    \n",
    "    # set experiments\n",
    "    exp = Exp(args)\n",
    "    \n",
    "    # train\n",
    "    print('>>>>>>>start training : {}>>>>>>>>>>>>>>>>>>>>>>>>>>'.format(setting))\n",
    "    exp.train(setting)\n",
    "    \n",
    "    # test\n",
    "    print('>>>>>>>testing : {}<<<<<<<<<<<<<<<<<<<<<<<<<<<<<<<<<'.format(setting))\n",
    "    exp.test(setting)\n",
    "\n",
    "    torch.cuda.empty_cache()"
   ]
  },
  {
   "cell_type": "code",
   "execution_count": 22,
   "metadata": {},
   "outputs": [
    {
     "name": "stdout",
     "output_type": "stream",
     "text": [
      "data_path ->  27_Close_price.csv\n",
      "scaling\n",
      "0\n",
      "torch.Size([32, 150, 22])\n",
      "1\n",
      "torch.Size([32, 150, 22])\n",
      "2\n",
      "torch.Size([32, 150, 22])\n"
     ]
    }
   ],
   "source": [
    "test_data, test_loader = exp._get_data(flag='test')\n",
    "# print(testloader.shape)\n",
    "for i, (batch_x,batch_y,batch_x_mark,batch_y_mark) in enumerate(test_loader):\n",
    "    print(i)\n",
    "    print(batch_y.shape)"
   ]
  },
  {
   "cell_type": "markdown",
   "metadata": {
    "id": "CDHF-HerAE3u"
   },
   "source": [
    "## Prediction"
   ]
  },
  {
   "cell_type": "code",
   "execution_count": 23,
   "metadata": {
    "id": "s0YI1zx6ACiz"
   },
   "outputs": [],
   "source": [
    "import os\n",
    "\n",
    "# set saved model path\n",
    "# setting = 'informer_ETTh1_ftM_sl96_ll48_pl24_dm512_nh8_el2_dl1_df2048_atprob_fc5_ebtimeF_dtTrue_mxTrue_exp_0'\n",
    "# setting = 'informer_custom_ftS_sl96_ll48_pl24_dm512_nh8_el2_dl1_df2048_atprob_fc5_ebtimeF_dtTrue_mxTrue_exp_0'\n",
    "# setting = 'informer_custom_ftMS_sl96_ll48_pl24_dm512_nh8_el2_dl1_df2048_atprob_fc5_ebtimeF_dtTrue_mxTrue_exp_0'\n",
    "# setting = 'informer_custom_ftMS_sl150_ll90_pl15_dm512_nh8_el2_dl1_df2048_atprob_fc5_ebtimeF_dtTrue_mxTrue_exp_0'\n",
    "# setting = 'informer_custom_ftMS_sl20_ll10_pl24_dm512_nh8_el2_dl1_df2048_atprob_fc5_ebtimeF_dtTrue_mxTrue_exp_0'\n",
    "# setting = 'informer_custom_ftMS_sl200_ll100_pl30_dm512_nh8_el2_dl1_df2048_atprob_fc5_ebtimeF_dtTrue_mxTrue_exp_0'\n",
    "# setting = 'informer_custom_ftMS_sl200_ll100_pl30_dm512_nh58_el2_dl1_df2048_atprob_fc5_ebtimeF_dtTrue_mxTrue_exp_0'\n",
    "# setting = 'informer_custom_ftMS_sl200_ll100_pl30_dm512_nh58_el2_dl1_df2048_atprob_fc5_ebtimeF_dtTrue_mxTrue_exp_0'\n",
    "# setting = 'informer_custom_ftMS_sl200_ll100_pl30_dm2512_nh58_el2_dl1_df2048_atprob_fc5_ebtimeF_dtTrue_mxTrue_exp_0'\n",
    "# setting = 'informer_custom_ftMS_sl200_ll100_pl30_dm2512_nh58_el2_dl1_df2048_atprob_fc5_ebtimeF_dtTrue_mxTrue_exp_0'\n",
    "# setting = 'informer_custom_ftMS_sl200_ll100_pl10_dm3512_nh58_el2_dl1_df2048_atprob_fc5_ebtimeF_dtTrue_mxTrue_exp_0'\n",
    "# setting = 'informer_custom_ftMS_sl200_ll200_pl50_dm3512_nh58_el2_dl1_df2048_atprob_fc5_ebtimeF_dtTrue_mxTrue_exp_0'\n",
    "# setting = 'informer_custom_ftMS_sl400_ll400_pl100_dm2512_nh10_el4_dl2_df2048_atprob_fc5_ebtimeF_dtTrue_mxTrue_exp_0'\n",
    "# setting = 'informer_custom_ftMS_sl100_ll100_pl50_dm2512_nh10_el4_dl2_df2048_atprob_fc5_ebtimeF_dtTrue_mxTrue_exp_0'\n",
    "path = os.path.join(args.checkpoints,setting,'checkpoint.pth')"
   ]
  },
  {
   "cell_type": "code",
   "execution_count": 24,
   "metadata": {
    "id": "nTkluNNcyMJt"
   },
   "outputs": [
    {
     "name": "stdout",
     "output_type": "stream",
     "text": [
      "Use CPU\n",
      "datapath ==  27_Close_price.csv\n",
      "pred_loader length\n",
      "1\n",
      "torch.Size([1, 100, 22])\n"
     ]
    }
   ],
   "source": [
    "# If you already have a trained model, you can set the arguments and model path, then initialize a Experiment and use it to predict\n",
    "# Prediction is a sequence which is adjacent to the last date of the data, and does not exist in the data\n",
    "# If you want to get more information about prediction, you can refer to code `exp/exp_informer.py function predict()` and `data/data_loader.py class Dataset_Pred`\n",
    "\n",
    "exp = Exp(args)\n",
    "\n",
    "exp.predict(setting, True)"
   ]
  },
  {
   "cell_type": "code",
   "execution_count": 25,
   "metadata": {
    "colab": {
     "base_uri": "https://localhost:8080/"
    },
    "id": "KBCPbjGuzAZb",
    "outputId": "f8813326-2d20-4719-831c-cf7494cd3180"
   },
   "outputs": [
    {
     "data": {
      "text/plain": [
       "(1, 50, 1)"
      ]
     },
     "execution_count": 25,
     "metadata": {},
     "output_type": "execute_result"
    }
   ],
   "source": [
    "  # the prediction will be saved in ./results/{setting}/real_prediction.npy\n",
    "import numpy as np\n",
    "\n",
    "\n",
    "prediction = np.load('./results/'+setting+'/real_prediction.npy')\n",
    "\n",
    "prediction.shape"
   ]
  },
  {
   "cell_type": "markdown",
   "metadata": {
    "id": "5yFuVkTV30_j"
   },
   "source": [
    "### More details about Prediction - prediction function"
   ]
  },
  {
   "cell_type": "code",
   "execution_count": 26,
   "metadata": {
    "id": "Sv9AR_Aw030r"
   },
   "outputs": [],
   "source": [
    "# here is the detailed code of function predict\n",
    "\n",
    "def predict(exp, setting, load=False):\n",
    "    pred_data, pred_loader = exp._get_data(flag='pred')\n",
    "        \n",
    "    if load:\n",
    "        path = os.path.join(exp.args.checkpoints, setting)\n",
    "        best_model_path = path+'/'+'checkpoint.pth'\n",
    "        exp.model.load_state_dict(torch.load(best_model_path))\n",
    "\n",
    "    exp.model.eval()\n",
    "        \n",
    "    preds = []\n",
    "        \n",
    "    for i, (batch_x,batch_y,batch_x_mark,batch_y_mark) in enumerate(pred_loader):\n",
    "        batch_x = batch_x.float().to(exp.device)\n",
    "        batch_y = batch_y.float()\n",
    "        print(batch_y.shape)\n",
    "        batch_x_mark = batch_x_mark.float().to(exp.device)\n",
    "        batch_y_mark = batch_y_mark.float().to(exp.device)\n",
    "\n",
    "        # decoder input\n",
    "        if exp.args.padding==0:\n",
    "            dec_inp = torch.zeros([batch_y.shape[0], exp.args.pred_len, batch_y.shape[-1]]).float()\n",
    "        elif exp.args.padding==1:\n",
    "            dec_inp = torch.ones([batch_y.shape[0], exp.args.pred_len, batch_y.shape[-1]]).float()\n",
    "        else:\n",
    "            dec_inp = torch.zeros([batch_y.shape[0], exp.args.pred_len, batch_y.shape[-1]]).float()\n",
    "        dec_inp = torch.cat([batch_y[:,:exp.args.label_len,:], dec_inp], dim=1).float().to(exp.device)\n",
    "        # encoder - decoder\n",
    "        if exp.args.use_amp:\n",
    "            with torch.cuda.amp.autocast():\n",
    "                if exp.args.output_attention:\n",
    "                    outputs = exp.model(batch_x, batch_x_mark, dec_inp, batch_y_mark)[0]\n",
    "                else:\n",
    "                    outputs = exp.model(batch_x, batch_x_mark, dec_inp, batch_y_mark)\n",
    "        else:\n",
    "            if exp.args.output_attention:\n",
    "                outputs = exp.model(batch_x, batch_x_mark, dec_inp, batch_y_mark)[0]\n",
    "            else:\n",
    "                outputs = exp.model(batch_x, batch_x_mark, dec_inp, batch_y_mark)\n",
    "        f_dim = -1 if exp.args.features=='MS' else 0\n",
    "        batch_y = batch_y[:,-exp.args.pred_len:,f_dim:].to(exp.device)\n",
    "        \n",
    "        pred = outputs.detach().cpu().numpy()#.squeeze()\n",
    "        \n",
    "        preds.append(pred)\n",
    "\n",
    "    preds = np.array(preds)\n",
    "    preds = preds.reshape(-1, preds.shape[-2], preds.shape[-1])\n",
    "    \n",
    "    # result save\n",
    "    folder_path = './results/' + setting +'/'\n",
    "    if not os.path.exists(folder_path):\n",
    "        os.makedirs(folder_path)\n",
    "    \n",
    "    np.save(folder_path+'real_prediction.npy', preds)\n",
    "    \n",
    "    return preds\n"
   ]
  },
  {
   "cell_type": "code",
   "execution_count": 27,
   "metadata": {
    "colab": {
     "base_uri": "https://localhost:8080/"
    },
    "id": "tVLWZL2a1pwB",
    "outputId": "7cec8531-480e-44a4-c0b9-8c5128b1fc02"
   },
   "outputs": [
    {
     "name": "stdout",
     "output_type": "stream",
     "text": [
      "datapath ==  27_Close_price.csv\n",
      "torch.Size([1, 100, 22])\n"
     ]
    }
   ],
   "source": [
    "# you can also use this prediction function to get result\n",
    "prediction = predict(exp, setting, True)"
   ]
  },
  {
   "cell_type": "code",
   "execution_count": 28,
   "metadata": {
    "colab": {
     "base_uri": "https://localhost:8080/",
     "height": 265
    },
    "id": "NwtZmQC71uc8",
    "outputId": "6bad1dea-ffff-42b3-c5bb-291c82ac5ba9"
   },
   "outputs": [
    {
     "data": {
      "image/png": "[encoded data removed]",
      "text/plain": [
       "<Figure size 640x480 with 1 Axes>"
      ]
     },
     "metadata": {},
     "output_type": "display_data"
    }
   ],
   "source": [
    "import matplotlib.pyplot as plt\n",
    "\n",
    "plt.figure()\n",
    "plt.plot(prediction[0,:,-1])\n",
    "plt.show()"
   ]
  },
  {
   "cell_type": "markdown",
   "metadata": {
    "id": "EnePVyrW4I14"
   },
   "source": [
    "### More details about Prediction - prediction dataset\n",
    "\n",
    "You can give a `root_path` and `data_path` of the data you want to forecast, and set `seq_len`, `label_len`, `pred_len` and other arguments as other Dataset. The difference is that you can set a more detailed freq such as `15min` or `3h` to generate the timestamp of prediction series.\n",
    "\n",
    "`Dataset_Pred` only has one sample (including `encoder_input: [1, seq_len, dim]`, `decoder_token: [1, label_len, dim]`, `encoder_input_timestamp: [1, seq_len, date_dim]`, `decoder_input_timstamp: [1, label_len+pred_len, date_dim]`). It will intercept the last sequence of the given data (seq_len data) to forecast the unseen future sequence (pred_len data)."
   ]
  },
  {
   "cell_type": "code",
   "execution_count": 29,
   "metadata": {
    "id": "ZpXhNGp34Hf4"
   },
   "outputs": [],
   "source": [
    "from data.data_loader import Dataset_Pred\n",
    "from torch.utils.data import DataLoader"
   ]
  },
  {
   "cell_type": "code",
   "execution_count": 30,
   "metadata": {
    "id": "j4Rpd1q74T8N"
   },
   "outputs": [
    {
     "name": "stdout",
     "output_type": "stream",
     "text": [
      "datapath ==  27_Close_price.csv\n"
     ]
    }
   ],
   "source": [
    "Data = Dataset_Pred\n",
    "timeenc = 0 if args.embed!='timeF' else 1\n",
    "flag = 'pred'; shuffle_flag = False; drop_last = False; batch_size = 1\n",
    "\n",
    "freq = args.detail_freq\n",
    "\n",
    "data_set = Data(\n",
    "    root_path=args.root_path,\n",
    "    data_path=args.data_path,\n",
    "    flag=flag,\n",
    "    size=[args.seq_len, args.label_len, args.pred_len],\n",
    "    features=args.features,\n",
    "    target=args.target,\n",
    "    timeenc=timeenc,\n",
    "    freq=freq\n",
    ")\n",
    "data_loader = DataLoader(\n",
    "    data_set,\n",
    "    batch_size=batch_size,\n",
    "    shuffle=shuffle_flag,\n",
    "    num_workers=args.num_workers,\n",
    "    drop_last=drop_last)"
   ]
  },
  {
   "cell_type": "code",
   "execution_count": 31,
   "metadata": {
    "colab": {
     "base_uri": "https://localhost:8080/"
    },
    "id": "42C84BfY6UPV",
    "outputId": "fe8f6340-2345-4c09-e720-c30ce50c77fd"
   },
   "outputs": [
    {
     "data": {
      "text/plain": [
       "(1, 1)"
      ]
     },
     "execution_count": 31,
     "metadata": {},
     "output_type": "execute_result"
    }
   ],
   "source": [
    "len(data_set), len(data_loader)"
   ]
  },
  {
   "cell_type": "markdown",
   "metadata": {
    "id": "cNhEP_7sAgqC"
   },
   "source": [
    "## Visualization"
   ]
  },
  {
   "cell_type": "code",
   "execution_count": 32,
   "metadata": {
    "colab": {
     "base_uri": "https://localhost:8080/"
    },
    "id": "vMRk8VkQ2Iko",
    "outputId": "b2da9ee4-fd43-44de-d421-e6396a39a666"
   },
   "outputs": [
    {
     "data": {
      "text/plain": [
       "((96, 50, 1), (96, 50, 1))"
      ]
     },
     "execution_count": 32,
     "metadata": {},
     "output_type": "execute_result"
    }
   ],
   "source": [
    "# When we finished exp.train(setting) and exp.test(setting), we will get a trained model and the results of test experiment\n",
    "# The results of test experiment will be saved in ./results/{setting}/pred.npy (prediction of test dataset) and ./results/{setting}/true.npy (groundtruth of test dataset)\n",
    "\n",
    "preds = np.load('./results/'+setting+'/pred.npy')\n",
    "trues = np.load('./results/'+setting+'/true.npy')\n",
    "\n",
    "# [samples, pred_len, dimensions]\n",
    "preds.shape, trues.shape"
   ]
  },
  {
   "cell_type": "code",
   "execution_count": 33,
   "metadata": {},
   "outputs": [
    {
     "data": {
      "text/plain": [
       "(1, 50, 1)"
      ]
     },
     "execution_count": 33,
     "metadata": {},
     "output_type": "execute_result"
    }
   ],
   "source": [
    "real_prediction = np.load('./results/'+setting+'/real_prediction.npy')\n",
    "real_prediction.shape"
   ]
  },
  {
   "cell_type": "code",
   "execution_count": 34,
   "metadata": {},
   "outputs": [
    {
     "name": "stdout",
     "output_type": "stream",
     "text": [
      "[[[0.7762588 ]\n",
      "  [0.8112644 ]\n",
      "  [0.82429165]\n",
      "  ...\n",
      "  [0.6673081 ]\n",
      "  [0.6659869 ]\n",
      "  [0.67496467]]\n",
      "\n",
      " [[0.8112644 ]\n",
      "  [0.82429165]\n",
      "  [0.823083  ]\n",
      "  ...\n",
      "  [0.6659869 ]\n",
      "  [0.67496467]\n",
      "  [0.6239304 ]]\n",
      "\n",
      " [[0.82429165]\n",
      "  [0.823083  ]\n",
      "  [0.81010664]\n",
      "  ...\n",
      "  [0.67496467]\n",
      "  [0.6239304 ]\n",
      "  [0.6151696 ]]\n",
      "\n",
      " ...\n",
      "\n",
      " [[0.6192833 ]\n",
      "  [0.5989693 ]\n",
      "  [0.58540875]\n",
      "  ...\n",
      "  [0.6890157 ]\n",
      "  [0.6768487 ]\n",
      "  [0.66210896]]\n",
      "\n",
      " [[0.5989693 ]\n",
      "  [0.58540875]\n",
      "  [0.59173346]\n",
      "  ...\n",
      "  [0.6768487 ]\n",
      "  [0.66210896]\n",
      "  [0.6681657 ]]\n",
      "\n",
      " [[0.58540875]\n",
      "  [0.59173346]\n",
      "  [0.5929662 ]\n",
      "  ...\n",
      "  [0.66210896]\n",
      "  [0.6681657 ]\n",
      "  [0.6549267 ]]]\n"
     ]
    }
   ],
   "source": [
    "print(trues)"
   ]
  },
  {
   "cell_type": "code",
   "execution_count": 35,
   "metadata": {
    "id": "ZEGhDOmxAeAb"
   },
   "outputs": [],
   "source": [
    "import matplotlib.pyplot as plt\n",
    "import seaborn as sns"
   ]
  },
  {
   "cell_type": "code",
   "execution_count": 36,
   "metadata": {
    "colab": {
     "base_uri": "https://localhost:8080/",
     "height": 265
    },
    "id": "kyPuOPGAAjl3",
    "outputId": "22fb6283-c64d-4203-c3a4-209397009534"
   },
   "outputs": [
    {
     "data": {
      "image/png": "[encoded data removed]",
      "text/plain": [
       "<Figure size 640x480 with 1 Axes>"
      ]
     },
     "metadata": {},
     "output_type": "display_data"
    }
   ],
   "source": [
    "# draw OT prediction\n",
    "plt.figure()\n",
    "plt.plot(trues[0,:,-1], label='GroundTruth')\n",
    "plt.plot(preds[0,:,-1], label='Prediction')\n",
    "plt.legend()\n",
    "plt.show()"
   ]
  },
  {
   "cell_type": "code",
   "execution_count": 37,
   "metadata": {
    "colab": {
     "base_uri": "https://localhost:8080/",
     "height": 265
    },
    "id": "43MIgWfpMYIB",
    "outputId": "c14c910a-ba25-4169-c3c6-3feec340e76d"
   },
   "outputs": [
    {
     "data": {
      "image/png": "[encoded data removed]",
      "text/plain": [
       "<Figure size 640x480 with 1 Axes>"
      ]
     },
     "metadata": {},
     "output_type": "display_data"
    }
   ],
   "source": [
    "# draw HUFL prediction\n",
    "plt.figure()\n",
    "plt.plot(trues[-1,:,0], label='GroundTruth')\n",
    "plt.plot(preds[-1,:,0], label='Prediction')\n",
    "plt.legend()\n",
    "plt.show()"
   ]
  },
  {
   "cell_type": "code",
   "execution_count": 38,
   "metadata": {
    "id": "hKmqhCfmt0xd"
   },
   "outputs": [
    {
     "ename": "TypeError",
     "evalue": "unsupported operand type(s) for /: 'str' and 'int'",
     "output_type": "error",
     "traceback": [
      "\u001b[0;31m---------------------------------------------------------------------------\u001b[0m",
      "\u001b[0;31mTypeError\u001b[0m                                 Traceback (most recent call last)",
      "\u001b[0;32m/tmp/ipykernel_6024/3912423463.py\u001b[0m in \u001b[0;36m<module>\u001b[0;34m\u001b[0m\n\u001b[1;32m     13\u001b[0m     \u001b[0mfeatures\u001b[0m\u001b[0;34m=\u001b[0m\u001b[0margs\u001b[0m\u001b[0;34m.\u001b[0m\u001b[0mfeatures\u001b[0m\u001b[0;34m,\u001b[0m\u001b[0;34m\u001b[0m\u001b[0;34m\u001b[0m\u001b[0m\n\u001b[1;32m     14\u001b[0m     \u001b[0mtimeenc\u001b[0m\u001b[0;34m=\u001b[0m\u001b[0mtimeenc\u001b[0m\u001b[0;34m,\u001b[0m\u001b[0;34m\u001b[0m\u001b[0;34m\u001b[0m\u001b[0m\n\u001b[0;32m---> 15\u001b[0;31m     \u001b[0mfreq\u001b[0m\u001b[0;34m=\u001b[0m\u001b[0margs\u001b[0m\u001b[0;34m.\u001b[0m\u001b[0mfreq\u001b[0m\u001b[0;34m\u001b[0m\u001b[0;34m\u001b[0m\u001b[0m\n\u001b[0m\u001b[1;32m     16\u001b[0m )\n\u001b[1;32m     17\u001b[0m data_loader = DataLoader(\n",
      "\u001b[0;32m~/aml projecct/Informer2020/data/data_loader.py\u001b[0m in \u001b[0;36m__init__\u001b[0;34m(self, root_path, flag, size, features, data_path, target, scale, inverse, timeenc, freq, cols)\u001b[0m\n\u001b[1;32m     41\u001b[0m         \u001b[0mself\u001b[0m\u001b[0;34m.\u001b[0m\u001b[0mroot_path\u001b[0m \u001b[0;34m=\u001b[0m \u001b[0mroot_path\u001b[0m\u001b[0;34m\u001b[0m\u001b[0;34m\u001b[0m\u001b[0m\n\u001b[1;32m     42\u001b[0m         \u001b[0mself\u001b[0m\u001b[0;34m.\u001b[0m\u001b[0mdata_path\u001b[0m \u001b[0;34m=\u001b[0m \u001b[0mdata_path\u001b[0m\u001b[0;34m\u001b[0m\u001b[0;34m\u001b[0m\u001b[0m\n\u001b[0;32m---> 43\u001b[0;31m         \u001b[0mself\u001b[0m\u001b[0;34m.\u001b[0m\u001b[0m__read_data__\u001b[0m\u001b[0;34m(\u001b[0m\u001b[0;34m)\u001b[0m\u001b[0;34m\u001b[0m\u001b[0;34m\u001b[0m\u001b[0m\n\u001b[0m\u001b[1;32m     44\u001b[0m \u001b[0;34m\u001b[0m\u001b[0m\n\u001b[1;32m     45\u001b[0m     \u001b[0;32mdef\u001b[0m \u001b[0m__read_data__\u001b[0m\u001b[0;34m(\u001b[0m\u001b[0mself\u001b[0m\u001b[0;34m)\u001b[0m\u001b[0;34m:\u001b[0m\u001b[0;34m\u001b[0m\u001b[0;34m\u001b[0m\u001b[0m\n",
      "\u001b[0;32m~/aml projecct/Informer2020/data/data_loader.py\u001b[0m in \u001b[0;36m__read_data__\u001b[0;34m(self)\u001b[0m\n\u001b[1;32m     61\u001b[0m         \u001b[0;32mif\u001b[0m \u001b[0mself\u001b[0m\u001b[0;34m.\u001b[0m\u001b[0mscale\u001b[0m\u001b[0;34m:\u001b[0m\u001b[0;34m\u001b[0m\u001b[0;34m\u001b[0m\u001b[0m\n\u001b[1;32m     62\u001b[0m             \u001b[0mtrain_data\u001b[0m \u001b[0;34m=\u001b[0m \u001b[0mdf_data\u001b[0m\u001b[0;34m[\u001b[0m\u001b[0mborder1s\u001b[0m\u001b[0;34m[\u001b[0m\u001b[0;36m0\u001b[0m\u001b[0;34m]\u001b[0m\u001b[0;34m:\u001b[0m\u001b[0mborder2s\u001b[0m\u001b[0;34m[\u001b[0m\u001b[0;36m0\u001b[0m\u001b[0;34m]\u001b[0m\u001b[0;34m]\u001b[0m\u001b[0;34m\u001b[0m\u001b[0;34m\u001b[0m\u001b[0m\n\u001b[0;32m---> 63\u001b[0;31m             \u001b[0mself\u001b[0m\u001b[0;34m.\u001b[0m\u001b[0mscaler\u001b[0m\u001b[0;34m.\u001b[0m\u001b[0mfit\u001b[0m\u001b[0;34m(\u001b[0m\u001b[0mtrain_data\u001b[0m\u001b[0;34m.\u001b[0m\u001b[0mvalues\u001b[0m\u001b[0;34m)\u001b[0m\u001b[0;34m\u001b[0m\u001b[0;34m\u001b[0m\u001b[0m\n\u001b[0m\u001b[1;32m     64\u001b[0m             \u001b[0mdata\u001b[0m \u001b[0;34m=\u001b[0m \u001b[0mself\u001b[0m\u001b[0;34m.\u001b[0m\u001b[0mscaler\u001b[0m\u001b[0;34m.\u001b[0m\u001b[0mtransform\u001b[0m\u001b[0;34m(\u001b[0m\u001b[0mdf_data\u001b[0m\u001b[0;34m.\u001b[0m\u001b[0mvalues\u001b[0m\u001b[0;34m)\u001b[0m\u001b[0;34m\u001b[0m\u001b[0;34m\u001b[0m\u001b[0m\n\u001b[1;32m     65\u001b[0m         \u001b[0;32melse\u001b[0m\u001b[0;34m:\u001b[0m\u001b[0;34m\u001b[0m\u001b[0;34m\u001b[0m\u001b[0m\n",
      "\u001b[0;32m~/aml projecct/Informer2020/utils/tools.py\u001b[0m in \u001b[0;36mfit\u001b[0;34m(self, data)\u001b[0m\n\u001b[1;32m     60\u001b[0m \u001b[0;34m\u001b[0m\u001b[0m\n\u001b[1;32m     61\u001b[0m     \u001b[0;32mdef\u001b[0m \u001b[0mfit\u001b[0m\u001b[0;34m(\u001b[0m\u001b[0mself\u001b[0m\u001b[0;34m,\u001b[0m \u001b[0mdata\u001b[0m\u001b[0;34m)\u001b[0m\u001b[0;34m:\u001b[0m\u001b[0;34m\u001b[0m\u001b[0;34m\u001b[0m\u001b[0m\n\u001b[0;32m---> 62\u001b[0;31m         \u001b[0mself\u001b[0m\u001b[0;34m.\u001b[0m\u001b[0mmean\u001b[0m \u001b[0;34m=\u001b[0m \u001b[0mdata\u001b[0m\u001b[0;34m.\u001b[0m\u001b[0mmean\u001b[0m\u001b[0;34m(\u001b[0m\u001b[0;36m0\u001b[0m\u001b[0;34m)\u001b[0m\u001b[0;34m\u001b[0m\u001b[0;34m\u001b[0m\u001b[0m\n\u001b[0m\u001b[1;32m     63\u001b[0m         \u001b[0mself\u001b[0m\u001b[0;34m.\u001b[0m\u001b[0mstd\u001b[0m \u001b[0;34m=\u001b[0m \u001b[0mdata\u001b[0m\u001b[0;34m.\u001b[0m\u001b[0mstd\u001b[0m\u001b[0;34m(\u001b[0m\u001b[0;36m0\u001b[0m\u001b[0;34m)\u001b[0m\u001b[0;34m\u001b[0m\u001b[0;34m\u001b[0m\u001b[0m\n\u001b[1;32m     64\u001b[0m \u001b[0;34m\u001b[0m\u001b[0m\n",
      "\u001b[0;32m/opt/conda/lib/python3.7/site-packages/numpy/core/_methods.py\u001b[0m in \u001b[0;36m_mean\u001b[0;34m(a, axis, dtype, out, keepdims, where)\u001b[0m\n\u001b[1;32m    180\u001b[0m     \u001b[0;32mif\u001b[0m \u001b[0misinstance\u001b[0m\u001b[0;34m(\u001b[0m\u001b[0mret\u001b[0m\u001b[0;34m,\u001b[0m \u001b[0mmu\u001b[0m\u001b[0;34m.\u001b[0m\u001b[0mndarray\u001b[0m\u001b[0;34m)\u001b[0m\u001b[0;34m:\u001b[0m\u001b[0;34m\u001b[0m\u001b[0;34m\u001b[0m\u001b[0m\n\u001b[1;32m    181\u001b[0m         ret = um.true_divide(\n\u001b[0;32m--> 182\u001b[0;31m                 ret, rcount, out=ret, casting='unsafe', subok=False)\n\u001b[0m\u001b[1;32m    183\u001b[0m         \u001b[0;32mif\u001b[0m \u001b[0mis_float16_result\u001b[0m \u001b[0;32mand\u001b[0m \u001b[0mout\u001b[0m \u001b[0;32mis\u001b[0m \u001b[0;32mNone\u001b[0m\u001b[0;34m:\u001b[0m\u001b[0;34m\u001b[0m\u001b[0;34m\u001b[0m\u001b[0m\n\u001b[1;32m    184\u001b[0m             \u001b[0mret\u001b[0m \u001b[0;34m=\u001b[0m \u001b[0marr\u001b[0m\u001b[0;34m.\u001b[0m\u001b[0mdtype\u001b[0m\u001b[0;34m.\u001b[0m\u001b[0mtype\u001b[0m\u001b[0;34m(\u001b[0m\u001b[0mret\u001b[0m\u001b[0;34m)\u001b[0m\u001b[0;34m\u001b[0m\u001b[0;34m\u001b[0m\u001b[0m\n",
      "\u001b[0;31mTypeError\u001b[0m: unsupported operand type(s) for /: 'str' and 'int'"
     ]
    }
   ],
   "source": [
    "from data.data_loader import Dataset_ETT_hour\n",
    "from torch.utils.data import DataLoader\n",
    "\n",
    "Data = Dataset_ETT_hour\n",
    "timeenc = 0 if args.embed!='timeF' else 1\n",
    "flag = 'test'; shuffle_flag = False; drop_last = True; batch_size = 1\n",
    "\n",
    "data_set = Data(\n",
    "    root_path=args.root_path,\n",
    "    data_path=args.data_path,\n",
    "    flag=flag,\n",
    "    size=[args.seq_len, args.label_len, args.pred_len],\n",
    "    features=args.features,\n",
    "    timeenc=timeenc,\n",
    "    freq=args.freq\n",
    ")\n",
    "data_loader = DataLoader(\n",
    "    data_set,\n",
    "    batch_size=batch_size,\n",
    "    shuffle=shuffle_flag,\n",
    "    num_workers=args.num_workers,\n",
    "    drop_last=drop_last)"
   ]
  },
  {
   "cell_type": "code",
   "execution_count": null,
   "metadata": {
    "colab": {
     "base_uri": "https://localhost:8080/"
    },
    "id": "iflTTl0quCoK",
    "outputId": "b312c51e-36a2-41ae-b200-a2925920e79c"
   },
   "outputs": [],
   "source": [
    "import os\n",
    "\n",
    "args.output_attention = True\n",
    "\n",
    "exp = Exp(args)\n",
    "\n",
    "model = exp.model\n",
    "\n",
    "# setting = 'informer_ETTh1_ftM_sl96_ll48_pl24_dm512_nh8_el2_dl1_df2048_atprob_fc5_ebtimeF_dtTrue_mxTrue_exp_0'\n",
    "# setting = 'informer_custom_ftS_sl96_ll48_pl24_dm512_nh8_el2_dl1_df2048_atprob_fc5_ebtimeF_dtTrue_mxTrue_exp_0'\n",
    "# setting = 'informer_custom_ftMS_sl200_ll100_pl30_dm2512_nh58_el2_dl1_df2048_atprob_fc5_ebtimeF_dtTrue_mxTrue_exp_0'\n",
    "# setting = 'informer_custom_ftMS_sl100_ll100_pl50_dm2512_nh10_el4_dl2_df2048_atprob_fc5_ebtimeF_dtTrue_mxTrue_exp_0'\n",
    "path = os.path.join(args.checkpoints,setting,'checkpoint.pth')\n",
    "model.load_state_dict(torch.load(path))"
   ]
  },
  {
   "cell_type": "code",
   "execution_count": null,
   "metadata": {
    "id": "lDdzqm9HAk2C"
   },
   "outputs": [],
   "source": [
    "# attention visualization\n",
    "idx = 0\n",
    "for i, (batch_x,batch_y,batch_x_mark,batch_y_mark) in enumerate(data_loader):\n",
    "    if i!=idx:\n",
    "        continue\n",
    "    batch_x = batch_x.float().to(exp.device)\n",
    "    batch_y = batch_y.float()\n",
    "\n",
    "    batch_x_mark = batch_x_mark.float().to(exp.device)\n",
    "    batch_y_mark = batch_y_mark.float().to(exp.device)\n",
    "    \n",
    "    dec_inp = torch.zeros_like(batch_y[:,-args.pred_len:,:]).float()\n",
    "    dec_inp = torch.cat([batch_y[:,:args.label_len,:], dec_inp], dim=1).float().to(exp.device)\n",
    "    \n",
    "    outputs,attn = model(batch_x, batch_x_mark, dec_inp, batch_y_mark)"
   ]
  },
  {
   "cell_type": "code",
   "execution_count": null,
   "metadata": {
    "colab": {
     "base_uri": "https://localhost:8080/"
    },
    "id": "hWef23vWAmUz",
    "outputId": "05b31758-9ca0-4603-aae0-bd1503c9ee3a"
   },
   "outputs": [],
   "source": [
    "attn[0].shape, attn[1].shape #, attn[2].shape"
   ]
  },
  {
   "cell_type": "code",
   "execution_count": null,
   "metadata": {
    "id": "iZDH1fZgAnrl"
   },
   "outputs": [],
   "source": [
    "layer = 0\n",
    "distil = 'Distil' if args.distil else 'NoDistil'\n",
    "for h in range(0,8):\n",
    "    plt.figure(figsize=[10,8])\n",
    "    plt.title('Informer, {}, attn:{} layer:{} head:{}'.format(distil, args.attn, layer, h))\n",
    "    A = attn[layer][0,h].detach().cpu().numpy()\n",
    "    ax = sns.heatmap(A, vmin=0, vmax=A.max()+0.01)\n",
    "    plt.show()"
   ]
  },
  {
   "cell_type": "code",
   "execution_count": null,
   "metadata": {
    "colab": {
     "base_uri": "https://localhost:8080/",
     "height": 253
    },
    "id": "DQFGYE3KAozo",
    "outputId": "bb9c2c34-68f8-4048-b095-66906e2fa084"
   },
   "outputs": [],
   "source": [
    "layer = 1\n",
    "distil = 'Distil' if args.distil else 'NoDistil'\n",
    "for h in range(0,8):\n",
    "    plt.figure(figsize=[10,8])\n",
    "    plt.title('Informer, {}, attn:{} layer:{} head:{}'.format(distil, args.attn, layer, h))\n",
    "    A = attn[layer][0,h].detach().cpu().numpy()\n",
    "    ax = sns.heatmap(A, vmin=0, vmax=A.max()+0.01)\n",
    "    plt.show()"
   ]
  },
  {
   "cell_type": "markdown",
   "metadata": {
    "id": "Ew9vekI9Mw8f"
   },
   "source": [
    "## Custom Data\n",
    "\n",
    "Custom data (xxx.csv) has to include at least 2 features: `date`(format: `YYYY-MM-DD hh:mm:ss`) and `target feature`.\n"
   ]
  },
  {
   "cell_type": "code",
   "execution_count": null,
   "metadata": {
    "id": "qqQBJWHeMzP-"
   },
   "outputs": [],
   "source": [
    "from data.data_loader import Dataset_Custom\n",
    "from torch.utils.data import DataLoader\n",
    "import pandas as pd\n",
    "import os"
   ]
  },
  {
   "cell_type": "code",
   "execution_count": 30,
   "metadata": {
    "colab": {
     "base_uri": "https://localhost:8080/",
     "height": 267
    },
    "id": "tkMk7kDK4aSe",
    "outputId": "f4f31022-fe89-4ff9-8f7b-4334182d9a5b"
   },
   "outputs": [
    {
     "name": "stdout",
     "output_type": "stream",
     "text": [
      "<class 'str'>\n"
     ]
    },
    {
     "data": {
      "text/html": [
       "<div>\n",
       "<style scoped>\n",
       "    .dataframe tbody tr th:only-of-type {\n",
       "        vertical-align: middle;\n",
       "    }\n",
       "\n",
       "    .dataframe tbody tr th {\n",
       "        vertical-align: top;\n",
       "    }\n",
       "\n",
       "    .dataframe thead th {\n",
       "        text-align: right;\n",
       "    }\n",
       "</style>\n",
       "<table border=\"1\" class=\"dataframe\">\n",
       "  <thead>\n",
       "    <tr style=\"text-align: right;\">\n",
       "      <th></th>\n",
       "      <th>date</th>\n",
       "      <th>HUFL</th>\n",
       "      <th>HULL</th>\n",
       "      <th>MUFL</th>\n",
       "      <th>MULL</th>\n",
       "      <th>LUFL</th>\n",
       "      <th>LULL</th>\n",
       "      <th>OT</th>\n",
       "    </tr>\n",
       "  </thead>\n",
       "  <tbody>\n",
       "    <tr>\n",
       "      <th>0</th>\n",
       "      <td>2016-07-01 00:00:00</td>\n",
       "      <td>41.130001</td>\n",
       "      <td>12.481</td>\n",
       "      <td>36.535999</td>\n",
       "      <td>9.355</td>\n",
       "      <td>4.424</td>\n",
       "      <td>1.311</td>\n",
       "      <td>38.661999</td>\n",
       "    </tr>\n",
       "    <tr>\n",
       "      <th>1</th>\n",
       "      <td>2016-07-01 01:00:00</td>\n",
       "      <td>37.528000</td>\n",
       "      <td>10.136</td>\n",
       "      <td>33.936001</td>\n",
       "      <td>7.532</td>\n",
       "      <td>4.435</td>\n",
       "      <td>1.215</td>\n",
       "      <td>37.124001</td>\n",
       "    </tr>\n",
       "    <tr>\n",
       "      <th>2</th>\n",
       "      <td>2016-07-01 02:00:00</td>\n",
       "      <td>37.946999</td>\n",
       "      <td>11.309</td>\n",
       "      <td>35.330002</td>\n",
       "      <td>9.007</td>\n",
       "      <td>2.100</td>\n",
       "      <td>0.000</td>\n",
       "      <td>36.465000</td>\n",
       "    </tr>\n",
       "    <tr>\n",
       "      <th>3</th>\n",
       "      <td>2016-07-01 03:00:00</td>\n",
       "      <td>38.952000</td>\n",
       "      <td>11.895</td>\n",
       "      <td>35.543999</td>\n",
       "      <td>9.436</td>\n",
       "      <td>3.380</td>\n",
       "      <td>1.215</td>\n",
       "      <td>33.608501</td>\n",
       "    </tr>\n",
       "    <tr>\n",
       "      <th>4</th>\n",
       "      <td>2016-07-01 04:00:00</td>\n",
       "      <td>38.113998</td>\n",
       "      <td>11.476</td>\n",
       "      <td>35.410000</td>\n",
       "      <td>9.623</td>\n",
       "      <td>2.036</td>\n",
       "      <td>0.000</td>\n",
       "      <td>31.850500</td>\n",
       "    </tr>\n",
       "  </tbody>\n",
       "</table>\n",
       "</div>"
      ],
      "text/plain": [
       "                  date       HUFL    HULL       MUFL   MULL   LUFL   LULL  \\\n",
       "0  2016-07-01 00:00:00  41.130001  12.481  36.535999  9.355  4.424  1.311   \n",
       "1  2016-07-01 01:00:00  37.528000  10.136  33.936001  7.532  4.435  1.215   \n",
       "2  2016-07-01 02:00:00  37.946999  11.309  35.330002  9.007  2.100  0.000   \n",
       "3  2016-07-01 03:00:00  38.952000  11.895  35.543999  9.436  3.380  1.215   \n",
       "4  2016-07-01 04:00:00  38.113998  11.476  35.410000  9.623  2.036  0.000   \n",
       "\n",
       "          OT  \n",
       "0  38.661999  \n",
       "1  37.124001  \n",
       "2  36.465000  \n",
       "3  33.608501  \n",
       "4  31.850500  "
      ]
     },
     "execution_count": 30,
     "metadata": {},
     "output_type": "execute_result"
    }
   ],
   "source": [
    "# custom data: xxx.csv\n",
    "# data features: ['date', ...(other features), target feature]\n",
    "\n",
    "# we take ETTh2 as an example\n",
    "args.root_path = './ETDataset/ETT-small/'\n",
    "args.data_path = 'ETTh2.csv'\n",
    "# args.data_path = 'final_data.csv'\n",
    "\n",
    "df1 = pd.read_csv(os.path.join(args.root_path, args.data_path))\n",
    "for index, row in df1.iterrows():\n",
    "  print(type(row[\"date\"]))\n",
    "  break\n",
    "df1.head()\n",
    "# df = pd.read_csv(os.path.join(args.data_path))"
   ]
  },
  {
   "cell_type": "code",
   "execution_count": 12,
   "metadata": {
    "id": "5bFrfuw6Oxpi"
   },
   "outputs": [],
   "source": [
    "# custom data: xxx.csv\n",
    "# data features: ['date', ...(other features), target feature]\n",
    "\n",
    "# we take ETTh2 as an example\n",
    "# args.root_path = './ETDataset/ETT-small/'\n",
    "# args.data_path = 'ETTh2.csv'\n",
    "args.data_path = 'final_amazon_11_26.csv'\n",
    "\n",
    "# df = pd.read_csv(os.path.join(args.root_path, args.data_path))\n",
    "df = pd.read_csv(os.path.join(args.data_path))"
   ]
  },
  {
   "cell_type": "code",
   "execution_count": 13,
   "metadata": {
    "colab": {
     "base_uri": "https://localhost:8080/"
    },
    "id": "ykyYAWygJmUc",
    "outputId": "02314d10-e9bc-4106-d219-e50c33a55797"
   },
   "outputs": [
    {
     "data": {
      "text/plain": [
       "Index(['Unnamed: 0', 'date', 'day_1_neg', 'day_1_neu', 'day_1_pos',\n",
       "       'week_1_neg', 'week_1_neu', 'week_1_pos', 'month_1_neg', 'month_1_neu',\n",
       "       ...\n",
       "       'Unrecorded Unconditional Purchase Obligation',\n",
       "       'Unrecorded Unconditional Purchase Obligation, to be Paid, Year Three',\n",
       "       'Unrecorded Unconditional Purchase Obligation, to be Paid, Year Two',\n",
       "       'Payments to Acquire Marketable Securities', 'Open', 'High', 'Low',\n",
       "       'Close', 'Adj Close', 'Volume'],\n",
       "      dtype='object', length=103)"
      ]
     },
     "execution_count": 13,
     "metadata": {},
     "output_type": "execute_result"
    }
   ],
   "source": [
    "df.columns"
   ]
  },
  {
   "cell_type": "code",
   "execution_count": 17,
   "metadata": {
    "colab": {
     "base_uri": "https://localhost:8080/",
     "height": 386
    },
    "id": "0--9JC0eO_WT",
    "outputId": "5bf5154f-1384-4894-a9f2-d5218203902c"
   },
   "outputs": [
    {
     "data": {
      "text/html": [
       "<div>\n",
       "<style scoped>\n",
       "    .dataframe tbody tr th:only-of-type {\n",
       "        vertical-align: middle;\n",
       "    }\n",
       "\n",
       "    .dataframe tbody tr th {\n",
       "        vertical-align: top;\n",
       "    }\n",
       "\n",
       "    .dataframe thead th {\n",
       "        text-align: right;\n",
       "    }\n",
       "</style>\n",
       "<table border=\"1\" class=\"dataframe\">\n",
       "  <thead>\n",
       "    <tr style=\"text-align: right;\">\n",
       "      <th></th>\n",
       "      <th>date</th>\n",
       "      <th>day_1_neg</th>\n",
       "      <th>day_1_neu</th>\n",
       "      <th>day_1_pos</th>\n",
       "      <th>week_1_neg</th>\n",
       "      <th>week_1_neu</th>\n",
       "      <th>week_1_pos</th>\n",
       "      <th>month_1_neg</th>\n",
       "      <th>month_1_neu</th>\n",
       "      <th>month_1_pos</th>\n",
       "      <th>...</th>\n",
       "      <th>Unrecorded Unconditional Purchase Obligation</th>\n",
       "      <th>Unrecorded Unconditional Purchase Obligation, to be Paid, Year Three</th>\n",
       "      <th>Unrecorded Unconditional Purchase Obligation, to be Paid, Year Two</th>\n",
       "      <th>Payments to Acquire Marketable Securities</th>\n",
       "      <th>Open</th>\n",
       "      <th>High</th>\n",
       "      <th>Low</th>\n",
       "      <th>Close</th>\n",
       "      <th>Adj Close</th>\n",
       "      <th>Volume</th>\n",
       "    </tr>\n",
       "  </thead>\n",
       "  <tbody>\n",
       "    <tr>\n",
       "      <th>0</th>\n",
       "      <td>12/28/2015</td>\n",
       "      <td>0.015368</td>\n",
       "      <td>0.666365</td>\n",
       "      <td>0.409641</td>\n",
       "      <td>0.016747</td>\n",
       "      <td>0.706871</td>\n",
       "      <td>0.424257</td>\n",
       "      <td>0.021016</td>\n",
       "      <td>0.768887</td>\n",
       "      <td>0.481222</td>\n",
       "      <td>...</td>\n",
       "      <td>0.004809</td>\n",
       "      <td>0.031328</td>\n",
       "      <td>0.039852</td>\n",
       "      <td>0.122146</td>\n",
       "      <td>0.177767</td>\n",
       "      <td>0.179031</td>\n",
       "      <td>0.180021</td>\n",
       "      <td>0.180950</td>\n",
       "      <td>0.180950</td>\n",
       "      <td>0.228409</td>\n",
       "    </tr>\n",
       "    <tr>\n",
       "      <th>1</th>\n",
       "      <td>12/29/2015</td>\n",
       "      <td>0.362644</td>\n",
       "      <td>0.382980</td>\n",
       "      <td>0.368299</td>\n",
       "      <td>0.237509</td>\n",
       "      <td>0.531515</td>\n",
       "      <td>0.399281</td>\n",
       "      <td>0.298050</td>\n",
       "      <td>0.578146</td>\n",
       "      <td>0.452892</td>\n",
       "      <td>...</td>\n",
       "      <td>0.004809</td>\n",
       "      <td>0.031328</td>\n",
       "      <td>0.039852</td>\n",
       "      <td>0.122146</td>\n",
       "      <td>0.181084</td>\n",
       "      <td>0.184581</td>\n",
       "      <td>0.183373</td>\n",
       "      <td>0.185981</td>\n",
       "      <td>0.185981</td>\n",
       "      <td>0.346212</td>\n",
       "    </tr>\n",
       "    <tr>\n",
       "      <th>2</th>\n",
       "      <td>12/30/2015</td>\n",
       "      <td>0.028126</td>\n",
       "      <td>0.556132</td>\n",
       "      <td>0.500619</td>\n",
       "      <td>0.161298</td>\n",
       "      <td>0.553039</td>\n",
       "      <td>0.443197</td>\n",
       "      <td>0.202413</td>\n",
       "      <td>0.601558</td>\n",
       "      <td>0.502705</td>\n",
       "      <td>...</td>\n",
       "      <td>0.004809</td>\n",
       "      <td>0.031328</td>\n",
       "      <td>0.039852</td>\n",
       "      <td>0.122146</td>\n",
       "      <td>0.184800</td>\n",
       "      <td>0.184330</td>\n",
       "      <td>0.185669</td>\n",
       "      <td>0.184667</td>\n",
       "      <td>0.184667</td>\n",
       "      <td>0.212436</td>\n",
       "    </tr>\n",
       "    <tr>\n",
       "      <th>3</th>\n",
       "      <td>12/31/2015</td>\n",
       "      <td>0.218253</td>\n",
       "      <td>0.565325</td>\n",
       "      <td>0.325703</td>\n",
       "      <td>0.190929</td>\n",
       "      <td>0.571097</td>\n",
       "      <td>0.402214</td>\n",
       "      <td>0.239597</td>\n",
       "      <td>0.621201</td>\n",
       "      <td>0.456219</td>\n",
       "      <td>...</td>\n",
       "      <td>0.004809</td>\n",
       "      <td>0.031328</td>\n",
       "      <td>0.039852</td>\n",
       "      <td>0.122146</td>\n",
       "      <td>0.183248</td>\n",
       "      <td>0.182278</td>\n",
       "      <td>0.182832</td>\n",
       "      <td>0.181135</td>\n",
       "      <td>0.181135</td>\n",
       "      <td>0.226357</td>\n",
       "    </tr>\n",
       "    <tr>\n",
       "      <th>4</th>\n",
       "      <td>1/4/2016</td>\n",
       "      <td>0.096454</td>\n",
       "      <td>0.400815</td>\n",
       "      <td>0.584739</td>\n",
       "      <td>0.190866</td>\n",
       "      <td>0.493008</td>\n",
       "      <td>0.472913</td>\n",
       "      <td>0.213506</td>\n",
       "      <td>0.563954</td>\n",
       "      <td>0.529841</td>\n",
       "      <td>...</td>\n",
       "      <td>0.004809</td>\n",
       "      <td>0.031328</td>\n",
       "      <td>0.039852</td>\n",
       "      <td>0.122146</td>\n",
       "      <td>0.175291</td>\n",
       "      <td>0.174319</td>\n",
       "      <td>0.169745</td>\n",
       "      <td>0.170710</td>\n",
       "      <td>0.170710</td>\n",
       "      <td>0.562300</td>\n",
       "    </tr>\n",
       "  </tbody>\n",
       "</table>\n",
       "<p>5 rows × 102 columns</p>\n",
       "</div>"
      ],
      "text/plain": [
       "         date  day_1_neg  day_1_neu  day_1_pos  week_1_neg  week_1_neu  \\\n",
       "0  12/28/2015   0.015368   0.666365   0.409641    0.016747    0.706871   \n",
       "1  12/29/2015   0.362644   0.382980   0.368299    0.237509    0.531515   \n",
       "2  12/30/2015   0.028126   0.556132   0.500619    0.161298    0.553039   \n",
       "3  12/31/2015   0.218253   0.565325   0.325703    0.190929    0.571097   \n",
       "4    1/4/2016   0.096454   0.400815   0.584739    0.190866    0.493008   \n",
       "\n",
       "   week_1_pos  month_1_neg  month_1_neu  month_1_pos  ...  \\\n",
       "0    0.424257     0.021016     0.768887     0.481222  ...   \n",
       "1    0.399281     0.298050     0.578146     0.452892  ...   \n",
       "2    0.443197     0.202413     0.601558     0.502705  ...   \n",
       "3    0.402214     0.239597     0.621201     0.456219  ...   \n",
       "4    0.472913     0.213506     0.563954     0.529841  ...   \n",
       "\n",
       "   Unrecorded Unconditional Purchase Obligation  \\\n",
       "0                                      0.004809   \n",
       "1                                      0.004809   \n",
       "2                                      0.004809   \n",
       "3                                      0.004809   \n",
       "4                                      0.004809   \n",
       "\n",
       "   Unrecorded Unconditional Purchase Obligation, to be Paid, Year Three  \\\n",
       "0                                           0.031328                      \n",
       "1                                           0.031328                      \n",
       "2                                           0.031328                      \n",
       "3                                           0.031328                      \n",
       "4                                           0.031328                      \n",
       "\n",
       "   Unrecorded Unconditional Purchase Obligation, to be Paid, Year Two  \\\n",
       "0                                           0.039852                    \n",
       "1                                           0.039852                    \n",
       "2                                           0.039852                    \n",
       "3                                           0.039852                    \n",
       "4                                           0.039852                    \n",
       "\n",
       "   Payments to Acquire Marketable Securities      Open      High       Low  \\\n",
       "0                                   0.122146  0.177767  0.179031  0.180021   \n",
       "1                                   0.122146  0.181084  0.184581  0.183373   \n",
       "2                                   0.122146  0.184800  0.184330  0.185669   \n",
       "3                                   0.122146  0.183248  0.182278  0.182832   \n",
       "4                                   0.122146  0.175291  0.174319  0.169745   \n",
       "\n",
       "      Close  Adj Close    Volume  \n",
       "0  0.180950   0.180950  0.228409  \n",
       "1  0.185981   0.185981  0.346212  \n",
       "2  0.184667   0.184667  0.212436  \n",
       "3  0.181135   0.181135  0.226357  \n",
       "4  0.170710   0.170710  0.562300  \n",
       "\n",
       "[5 rows x 102 columns]"
      ]
     },
     "execution_count": 17,
     "metadata": {},
     "output_type": "execute_result"
    }
   ],
   "source": [
    "df.head()"
   ]
  },
  {
   "cell_type": "code",
   "execution_count": 16,
   "metadata": {},
   "outputs": [
    {
     "name": "stdout",
     "output_type": "stream",
     "text": [
      "date           object\n",
      "day_1_neg     float64\n",
      "day_1_neu     float64\n",
      "day_1_pos     float64\n",
      "week_1_neg    float64\n",
      "               ...   \n",
      "High          float64\n",
      "Low           float64\n",
      "Close         float64\n",
      "Adj Close     float64\n",
      "Volume        float64\n",
      "Length: 102, dtype: object\n"
     ]
    }
   ],
   "source": [
    "print (df.dtypes)"
   ]
  },
  {
   "cell_type": "code",
   "execution_count": 15,
   "metadata": {},
   "outputs": [],
   "source": [
    "df = df.drop('Unnamed: 0',axis=1)"
   ]
  },
  {
   "cell_type": "code",
   "execution_count": 23,
   "metadata": {},
   "outputs": [
    {
     "data": {
      "text/html": [
       "<div>\n",
       "<style scoped>\n",
       "    .dataframe tbody tr th:only-of-type {\n",
       "        vertical-align: middle;\n",
       "    }\n",
       "\n",
       "    .dataframe tbody tr th {\n",
       "        vertical-align: top;\n",
       "    }\n",
       "\n",
       "    .dataframe thead th {\n",
       "        text-align: right;\n",
       "    }\n",
       "</style>\n",
       "<table border=\"1\" class=\"dataframe\">\n",
       "  <thead>\n",
       "    <tr style=\"text-align: right;\">\n",
       "      <th></th>\n",
       "      <th>date</th>\n",
       "      <th>day_1_neg</th>\n",
       "      <th>day_1_neu</th>\n",
       "      <th>day_1_pos</th>\n",
       "      <th>week_1_neg</th>\n",
       "      <th>week_1_neu</th>\n",
       "      <th>week_1_pos</th>\n",
       "      <th>month_1_neg</th>\n",
       "      <th>month_1_neu</th>\n",
       "      <th>month_1_pos</th>\n",
       "      <th>...</th>\n",
       "      <th>Unrecorded Unconditional Purchase Obligation</th>\n",
       "      <th>Unrecorded Unconditional Purchase Obligation, to be Paid, Year Three</th>\n",
       "      <th>Unrecorded Unconditional Purchase Obligation, to be Paid, Year Two</th>\n",
       "      <th>Payments to Acquire Marketable Securities</th>\n",
       "      <th>Open</th>\n",
       "      <th>High</th>\n",
       "      <th>Low</th>\n",
       "      <th>Close</th>\n",
       "      <th>Adj Close</th>\n",
       "      <th>Volume</th>\n",
       "    </tr>\n",
       "  </thead>\n",
       "  <tbody>\n",
       "    <tr>\n",
       "      <th>0</th>\n",
       "      <td>12/28/2015</td>\n",
       "      <td>0.015368</td>\n",
       "      <td>0.666365</td>\n",
       "      <td>0.409641</td>\n",
       "      <td>0.016747</td>\n",
       "      <td>0.706871</td>\n",
       "      <td>0.424257</td>\n",
       "      <td>0.021016</td>\n",
       "      <td>0.768887</td>\n",
       "      <td>0.481222</td>\n",
       "      <td>...</td>\n",
       "      <td>0.004809</td>\n",
       "      <td>0.031328</td>\n",
       "      <td>0.039852</td>\n",
       "      <td>0.122146</td>\n",
       "      <td>0.177767</td>\n",
       "      <td>0.179031</td>\n",
       "      <td>0.180021</td>\n",
       "      <td>0.180950</td>\n",
       "      <td>0.180950</td>\n",
       "      <td>0.228409</td>\n",
       "    </tr>\n",
       "    <tr>\n",
       "      <th>1</th>\n",
       "      <td>12/29/2015</td>\n",
       "      <td>0.362644</td>\n",
       "      <td>0.382980</td>\n",
       "      <td>0.368299</td>\n",
       "      <td>0.237509</td>\n",
       "      <td>0.531515</td>\n",
       "      <td>0.399281</td>\n",
       "      <td>0.298050</td>\n",
       "      <td>0.578146</td>\n",
       "      <td>0.452892</td>\n",
       "      <td>...</td>\n",
       "      <td>0.004809</td>\n",
       "      <td>0.031328</td>\n",
       "      <td>0.039852</td>\n",
       "      <td>0.122146</td>\n",
       "      <td>0.181084</td>\n",
       "      <td>0.184581</td>\n",
       "      <td>0.183373</td>\n",
       "      <td>0.185981</td>\n",
       "      <td>0.185981</td>\n",
       "      <td>0.346212</td>\n",
       "    </tr>\n",
       "    <tr>\n",
       "      <th>2</th>\n",
       "      <td>12/30/2015</td>\n",
       "      <td>0.028126</td>\n",
       "      <td>0.556132</td>\n",
       "      <td>0.500619</td>\n",
       "      <td>0.161298</td>\n",
       "      <td>0.553039</td>\n",
       "      <td>0.443197</td>\n",
       "      <td>0.202413</td>\n",
       "      <td>0.601558</td>\n",
       "      <td>0.502705</td>\n",
       "      <td>...</td>\n",
       "      <td>0.004809</td>\n",
       "      <td>0.031328</td>\n",
       "      <td>0.039852</td>\n",
       "      <td>0.122146</td>\n",
       "      <td>0.184800</td>\n",
       "      <td>0.184330</td>\n",
       "      <td>0.185669</td>\n",
       "      <td>0.184667</td>\n",
       "      <td>0.184667</td>\n",
       "      <td>0.212436</td>\n",
       "    </tr>\n",
       "    <tr>\n",
       "      <th>3</th>\n",
       "      <td>12/31/2015</td>\n",
       "      <td>0.218253</td>\n",
       "      <td>0.565325</td>\n",
       "      <td>0.325703</td>\n",
       "      <td>0.190929</td>\n",
       "      <td>0.571097</td>\n",
       "      <td>0.402214</td>\n",
       "      <td>0.239597</td>\n",
       "      <td>0.621201</td>\n",
       "      <td>0.456219</td>\n",
       "      <td>...</td>\n",
       "      <td>0.004809</td>\n",
       "      <td>0.031328</td>\n",
       "      <td>0.039852</td>\n",
       "      <td>0.122146</td>\n",
       "      <td>0.183248</td>\n",
       "      <td>0.182278</td>\n",
       "      <td>0.182832</td>\n",
       "      <td>0.181135</td>\n",
       "      <td>0.181135</td>\n",
       "      <td>0.226357</td>\n",
       "    </tr>\n",
       "    <tr>\n",
       "      <th>4</th>\n",
       "      <td>1/4/2016</td>\n",
       "      <td>0.096454</td>\n",
       "      <td>0.400815</td>\n",
       "      <td>0.584739</td>\n",
       "      <td>0.190866</td>\n",
       "      <td>0.493008</td>\n",
       "      <td>0.472913</td>\n",
       "      <td>0.213506</td>\n",
       "      <td>0.563954</td>\n",
       "      <td>0.529841</td>\n",
       "      <td>...</td>\n",
       "      <td>0.004809</td>\n",
       "      <td>0.031328</td>\n",
       "      <td>0.039852</td>\n",
       "      <td>0.122146</td>\n",
       "      <td>0.175291</td>\n",
       "      <td>0.174319</td>\n",
       "      <td>0.169745</td>\n",
       "      <td>0.170710</td>\n",
       "      <td>0.170710</td>\n",
       "      <td>0.562300</td>\n",
       "    </tr>\n",
       "    <tr>\n",
       "      <th>...</th>\n",
       "      <td>...</td>\n",
       "      <td>...</td>\n",
       "      <td>...</td>\n",
       "      <td>...</td>\n",
       "      <td>...</td>\n",
       "      <td>...</td>\n",
       "      <td>...</td>\n",
       "      <td>...</td>\n",
       "      <td>...</td>\n",
       "      <td>...</td>\n",
       "      <td>...</td>\n",
       "      <td>...</td>\n",
       "      <td>...</td>\n",
       "      <td>...</td>\n",
       "      <td>...</td>\n",
       "      <td>...</td>\n",
       "      <td>...</td>\n",
       "      <td>...</td>\n",
       "      <td>...</td>\n",
       "      <td>...</td>\n",
       "      <td>...</td>\n",
       "    </tr>\n",
       "    <tr>\n",
       "      <th>1717</th>\n",
       "      <td>10/21/2022</td>\n",
       "      <td>0.237757</td>\n",
       "      <td>0.653179</td>\n",
       "      <td>0.227227</td>\n",
       "      <td>0.227929</td>\n",
       "      <td>0.622651</td>\n",
       "      <td>0.324798</td>\n",
       "      <td>0.400621</td>\n",
       "      <td>0.656226</td>\n",
       "      <td>0.302119</td>\n",
       "      <td>...</td>\n",
       "      <td>0.002968</td>\n",
       "      <td>0.006685</td>\n",
       "      <td>0.044195</td>\n",
       "      <td>-0.124956</td>\n",
       "      <td>0.613194</td>\n",
       "      <td>0.633912</td>\n",
       "      <td>0.619456</td>\n",
       "      <td>0.639544</td>\n",
       "      <td>0.639544</td>\n",
       "      <td>0.167860</td>\n",
       "    </tr>\n",
       "    <tr>\n",
       "      <th>1718</th>\n",
       "      <td>10/24/2022</td>\n",
       "      <td>0.003797</td>\n",
       "      <td>0.611823</td>\n",
       "      <td>0.470307</td>\n",
       "      <td>0.162015</td>\n",
       "      <td>0.666864</td>\n",
       "      <td>0.339624</td>\n",
       "      <td>0.364224</td>\n",
       "      <td>0.659667</td>\n",
       "      <td>0.326236</td>\n",
       "      <td>...</td>\n",
       "      <td>0.002968</td>\n",
       "      <td>0.006685</td>\n",
       "      <td>0.044195</td>\n",
       "      <td>-0.124956</td>\n",
       "      <td>0.640919</td>\n",
       "      <td>0.638152</td>\n",
       "      <td>0.630655</td>\n",
       "      <td>0.642224</td>\n",
       "      <td>0.642224</td>\n",
       "      <td>0.149506</td>\n",
       "    </tr>\n",
       "    <tr>\n",
       "      <th>1719</th>\n",
       "      <td>10/25/2022</td>\n",
       "      <td>0.345466</td>\n",
       "      <td>0.570147</td>\n",
       "      <td>0.209900</td>\n",
       "      <td>0.187663</td>\n",
       "      <td>0.660751</td>\n",
       "      <td>0.323821</td>\n",
       "      <td>0.371372</td>\n",
       "      <td>0.662746</td>\n",
       "      <td>0.317958</td>\n",
       "      <td>...</td>\n",
       "      <td>0.002968</td>\n",
       "      <td>0.006685</td>\n",
       "      <td>0.044195</td>\n",
       "      <td>-0.124956</td>\n",
       "      <td>0.639156</td>\n",
       "      <td>0.643082</td>\n",
       "      <td>0.643531</td>\n",
       "      <td>0.646404</td>\n",
       "      <td>0.646404</td>\n",
       "      <td>0.153742</td>\n",
       "    </tr>\n",
       "    <tr>\n",
       "      <th>1720</th>\n",
       "      <td>10/26/2022</td>\n",
       "      <td>0.503957</td>\n",
       "      <td>0.519710</td>\n",
       "      <td>0.117926</td>\n",
       "      <td>0.204529</td>\n",
       "      <td>0.673379</td>\n",
       "      <td>0.298369</td>\n",
       "      <td>0.374160</td>\n",
       "      <td>0.663198</td>\n",
       "      <td>0.315436</td>\n",
       "      <td>...</td>\n",
       "      <td>0.002968</td>\n",
       "      <td>0.006685</td>\n",
       "      <td>0.044195</td>\n",
       "      <td>-0.124956</td>\n",
       "      <td>0.619658</td>\n",
       "      <td>0.632640</td>\n",
       "      <td>0.620863</td>\n",
       "      <td>0.619927</td>\n",
       "      <td>0.619927</td>\n",
       "      <td>0.207674</td>\n",
       "    </tr>\n",
       "    <tr>\n",
       "      <th>1721</th>\n",
       "      <td>10/27/2022</td>\n",
       "      <td>0.263142</td>\n",
       "      <td>0.550108</td>\n",
       "      <td>0.300518</td>\n",
       "      <td>0.200845</td>\n",
       "      <td>0.619683</td>\n",
       "      <td>0.350011</td>\n",
       "      <td>0.373951</td>\n",
       "      <td>0.661853</td>\n",
       "      <td>0.316861</td>\n",
       "      <td>...</td>\n",
       "      <td>0.002968</td>\n",
       "      <td>0.006685</td>\n",
       "      <td>0.044195</td>\n",
       "      <td>-0.124956</td>\n",
       "      <td>0.608547</td>\n",
       "      <td>0.604917</td>\n",
       "      <td>0.593867</td>\n",
       "      <td>0.594735</td>\n",
       "      <td>0.594735</td>\n",
       "      <td>0.391203</td>\n",
       "    </tr>\n",
       "  </tbody>\n",
       "</table>\n",
       "<p>1722 rows × 102 columns</p>\n",
       "</div>"
      ],
      "text/plain": [
       "            date  day_1_neg  day_1_neu  day_1_pos  week_1_neg  week_1_neu  \\\n",
       "0     12/28/2015   0.015368   0.666365   0.409641    0.016747    0.706871   \n",
       "1     12/29/2015   0.362644   0.382980   0.368299    0.237509    0.531515   \n",
       "2     12/30/2015   0.028126   0.556132   0.500619    0.161298    0.553039   \n",
       "3     12/31/2015   0.218253   0.565325   0.325703    0.190929    0.571097   \n",
       "4       1/4/2016   0.096454   0.400815   0.584739    0.190866    0.493008   \n",
       "...          ...        ...        ...        ...         ...         ...   \n",
       "1717  10/21/2022   0.237757   0.653179   0.227227    0.227929    0.622651   \n",
       "1718  10/24/2022   0.003797   0.611823   0.470307    0.162015    0.666864   \n",
       "1719  10/25/2022   0.345466   0.570147   0.209900    0.187663    0.660751   \n",
       "1720  10/26/2022   0.503957   0.519710   0.117926    0.204529    0.673379   \n",
       "1721  10/27/2022   0.263142   0.550108   0.300518    0.200845    0.619683   \n",
       "\n",
       "      week_1_pos  month_1_neg  month_1_neu  month_1_pos  ...  \\\n",
       "0       0.424257     0.021016     0.768887     0.481222  ...   \n",
       "1       0.399281     0.298050     0.578146     0.452892  ...   \n",
       "2       0.443197     0.202413     0.601558     0.502705  ...   \n",
       "3       0.402214     0.239597     0.621201     0.456219  ...   \n",
       "4       0.472913     0.213506     0.563954     0.529841  ...   \n",
       "...          ...          ...          ...          ...  ...   \n",
       "1717    0.324798     0.400621     0.656226     0.302119  ...   \n",
       "1718    0.339624     0.364224     0.659667     0.326236  ...   \n",
       "1719    0.323821     0.371372     0.662746     0.317958  ...   \n",
       "1720    0.298369     0.374160     0.663198     0.315436  ...   \n",
       "1721    0.350011     0.373951     0.661853     0.316861  ...   \n",
       "\n",
       "      Unrecorded Unconditional Purchase Obligation  \\\n",
       "0                                         0.004809   \n",
       "1                                         0.004809   \n",
       "2                                         0.004809   \n",
       "3                                         0.004809   \n",
       "4                                         0.004809   \n",
       "...                                            ...   \n",
       "1717                                      0.002968   \n",
       "1718                                      0.002968   \n",
       "1719                                      0.002968   \n",
       "1720                                      0.002968   \n",
       "1721                                      0.002968   \n",
       "\n",
       "      Unrecorded Unconditional Purchase Obligation, to be Paid, Year Three  \\\n",
       "0                                              0.031328                      \n",
       "1                                              0.031328                      \n",
       "2                                              0.031328                      \n",
       "3                                              0.031328                      \n",
       "4                                              0.031328                      \n",
       "...                                                 ...                      \n",
       "1717                                           0.006685                      \n",
       "1718                                           0.006685                      \n",
       "1719                                           0.006685                      \n",
       "1720                                           0.006685                      \n",
       "1721                                           0.006685                      \n",
       "\n",
       "      Unrecorded Unconditional Purchase Obligation, to be Paid, Year Two  \\\n",
       "0                                              0.039852                    \n",
       "1                                              0.039852                    \n",
       "2                                              0.039852                    \n",
       "3                                              0.039852                    \n",
       "4                                              0.039852                    \n",
       "...                                                 ...                    \n",
       "1717                                           0.044195                    \n",
       "1718                                           0.044195                    \n",
       "1719                                           0.044195                    \n",
       "1720                                           0.044195                    \n",
       "1721                                           0.044195                    \n",
       "\n",
       "      Payments to Acquire Marketable Securities      Open      High       Low  \\\n",
       "0                                      0.122146  0.177767  0.179031  0.180021   \n",
       "1                                      0.122146  0.181084  0.184581  0.183373   \n",
       "2                                      0.122146  0.184800  0.184330  0.185669   \n",
       "3                                      0.122146  0.183248  0.182278  0.182832   \n",
       "4                                      0.122146  0.175291  0.174319  0.169745   \n",
       "...                                         ...       ...       ...       ...   \n",
       "1717                                  -0.124956  0.613194  0.633912  0.619456   \n",
       "1718                                  -0.124956  0.640919  0.638152  0.630655   \n",
       "1719                                  -0.124956  0.639156  0.643082  0.643531   \n",
       "1720                                  -0.124956  0.619658  0.632640  0.620863   \n",
       "1721                                  -0.124956  0.608547  0.604917  0.593867   \n",
       "\n",
       "         Close  Adj Close    Volume  \n",
       "0     0.180950   0.180950  0.228409  \n",
       "1     0.185981   0.185981  0.346212  \n",
       "2     0.184667   0.184667  0.212436  \n",
       "3     0.181135   0.181135  0.226357  \n",
       "4     0.170710   0.170710  0.562300  \n",
       "...        ...        ...       ...  \n",
       "1717  0.639544   0.639544  0.167860  \n",
       "1718  0.642224   0.642224  0.149506  \n",
       "1719  0.646404   0.646404  0.153742  \n",
       "1720  0.619927   0.619927  0.207674  \n",
       "1721  0.594735   0.594735  0.391203  \n",
       "\n",
       "[1722 rows x 102 columns]"
      ]
     },
     "metadata": {},
     "output_type": "display_data"
    }
   ],
   "source": [
    "# copy the data\n",
    "df_max_scaled = df.copy()\n",
    "\n",
    "# apply normalization techniques\n",
    "for column in df_max_scaled.columns:\n",
    "    try:\n",
    "        df_max_scaled[column] = df_max_scaled[column]  / df_max_scaled[column].abs().max()\n",
    "    except:\n",
    "        continue\n",
    "      \n",
    "# view normalized data\n",
    "display(df_max_scaled)"
   ]
  },
  {
   "cell_type": "code",
   "execution_count": 18,
   "metadata": {},
   "outputs": [],
   "source": [
    "# df_max_scaled.to_csv(\"normalized_df.csv\")\n",
    "df.to_csv(\"normalized_df.csv\")"
   ]
  },
  {
   "cell_type": "code",
   "execution_count": null,
   "metadata": {
    "id": "QmvRipRbPAbP"
   },
   "outputs": [],
   "source": [
    "'''\n",
    "We set 'HULL' as target instead of 'OT'\n",
    "\n",
    "The following frequencies are supported:\n",
    "        Y   - yearly\n",
    "            alias: A\n",
    "        M   - monthly\n",
    "        W   - weekly\n",
    "        D   - daily\n",
    "        B   - business days\n",
    "        H   - hourly\n",
    "        T   - minutely\n",
    "            alias: min\n",
    "        S   - secondly\n",
    "'''\n",
    "\n",
    "args.target = 'HULL'\n",
    "args.freq = 'h'\n",
    "\n",
    "Data = Dataset_Custom\n",
    "timeenc = 0 if args.embed!='timeF' else 1\n",
    "flag = 'test'; shuffle_flag = False; drop_last = True; batch_size = 1\n",
    "\n",
    "data_set = Data(\n",
    "    root_path=args.root_path,\n",
    "    data_path=args.data_path,\n",
    "    flag=flag,\n",
    "    size=[args.seq_len, args.label_len, args.pred_len],\n",
    "    features=args.features,\n",
    "    timeenc=timeenc,\n",
    "    target=args.target, # HULL here\n",
    "    freq=args.freq # 'h': hourly, 't':minutely\n",
    ")\n",
    "data_loader = DataLoader(\n",
    "    data_set,\n",
    "    batch_size=batch_size,\n",
    "    shuffle=shuffle_flag,\n",
    "    num_workers=args.num_workers,\n",
    "    drop_last=drop_last)"
   ]
  },
  {
   "cell_type": "code",
   "execution_count": null,
   "metadata": {
    "id": "IkNDT2jMPCUf"
   },
   "outputs": [],
   "source": [
    "batch_x,batch_y,batch_x_mark,batch_y_mark = data_set[0]"
   ]
  },
  {
   "cell_type": "code",
   "execution_count": null,
   "metadata": {
    "id": "VUcvSLlkSFTx"
   },
   "outputs": [],
   "source": []
  }
 ],
 "metadata": {
  "accelerator": "GPU",
  "colab": {
   "provenance": []
  },
  "environment": {
   "kernel": "python3",
   "name": "common-cpu.m99",
   "type": "gcloud",
   "uri": "gcr.io/deeplearning-platform-release/base-cpu:m99"
  },
  "kernelspec": {
   "display_name": "Python 3",
   "language": "python",
   "name": "python3"
  },
  "language_info": {
   "codemirror_mode": {
    "name": "ipython",
    "version": 3
   },
   "file_extension": ".py",
   "mimetype": "text/x-python",
   "name": "python",
   "nbconvert_exporter": "python",
   "pygments_lexer": "ipython3",
   "version": "3.7.12"
  }
 },
 "nbformat": 4,
 "nbformat_minor": 4
}
