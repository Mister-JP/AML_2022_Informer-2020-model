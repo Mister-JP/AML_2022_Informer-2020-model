{
 "cells": [
  {
   "cell_type": "code",
   "execution_count": 245,
   "id": "bdb64143-d8a2-4bab-91fb-bbe344fcaece",
   "metadata": {},
   "outputs": [],
   "source": [
    "import pandas as pd\n",
    "import json\n",
    "import warnings\n",
    "warnings.filterwarnings('ignore')\n",
    "from collections import defaultdict\n",
    "import numpy as np"
   ]
  },
  {
   "cell_type": "code",
   "execution_count": 45,
   "id": "2d9fd7ed-4dc7-46a6-af45-baa89663c7fe",
   "metadata": {},
   "outputs": [],
   "source": [
    "# Opening JSON file\n",
    "f = open('data/amazon filings.json')\n",
    "  \n",
    "# returns JSON object as \n",
    "# a dictionary\n",
    "data = json.load(f)\n",
    "# data = json.dumps(data, indent=5)\n"
   ]
  },
  {
   "cell_type": "code",
   "execution_count": 38,
   "id": "aafcdefd-d2f4-42ea-9a8f-daec0e854067",
   "metadata": {},
   "outputs": [],
   "source": [
    "# print(data)"
   ]
  },
  {
   "cell_type": "code",
   "execution_count": 21,
   "id": "e5eafead-9512-45fd-b6ea-3972dc6a6072",
   "metadata": {},
   "outputs": [],
   "source": [
    "df = pd.read_json(\"data/amazon filings.json\")"
   ]
  },
  {
   "cell_type": "code",
   "execution_count": 39,
   "id": "420e32e3-3176-4e43-aa25-013cbe4bfba8",
   "metadata": {},
   "outputs": [],
   "source": [
    "df = pd.json_normalize(data)\n"
   ]
  },
  {
   "cell_type": "code",
   "execution_count": 34,
   "id": "e5e11ffe-f7f5-45c4-b0f1-927c14bf6066",
   "metadata": {},
   "outputs": [
    {
     "name": "stdout",
     "output_type": "stream",
     "text": [
      "Accounts Payable (Deprecated 2009-01-31)\n"
     ]
    }
   ],
   "source": [
    "for index, row in df.iterrows():\n",
    "    print(row[8])\n",
    "    break"
   ]
  },
  {
   "cell_type": "code",
   "execution_count": 24,
   "id": "63b59b01-9f26-4c99-b10f-de7bd48282f9",
   "metadata": {},
   "outputs": [
    {
     "data": {
      "text/plain": [
       "(1, 1510)"
      ]
     },
     "execution_count": 24,
     "metadata": {},
     "output_type": "execute_result"
    }
   ],
   "source": [
    "df.shape"
   ]
  },
  {
   "cell_type": "code",
   "execution_count": 17,
   "id": "bff17f14-8499-49a2-82cb-c06ec96bf7ec",
   "metadata": {},
   "outputs": [
    {
     "data": {
      "text/html": [
       "<div>\n",
       "<style scoped>\n",
       "    .dataframe tbody tr th:only-of-type {\n",
       "        vertical-align: middle;\n",
       "    }\n",
       "\n",
       "    .dataframe tbody tr th {\n",
       "        vertical-align: top;\n",
       "    }\n",
       "\n",
       "    .dataframe thead th {\n",
       "        text-align: right;\n",
       "    }\n",
       "</style>\n",
       "<table border=\"1\" class=\"dataframe\">\n",
       "  <thead>\n",
       "    <tr style=\"text-align: right;\">\n",
       "      <th></th>\n",
       "      <th>cik</th>\n",
       "      <th>entityName</th>\n",
       "      <th>facts.dei.EntityCommonStockSharesOutstanding.label</th>\n",
       "      <th>facts.dei.EntityCommonStockSharesOutstanding.description</th>\n",
       "      <th>facts.dei.EntityCommonStockSharesOutstanding.units</th>\n",
       "      <th>facts.dei.EntityPublicFloat.label</th>\n",
       "      <th>facts.dei.EntityPublicFloat.description</th>\n",
       "      <th>facts.dei.EntityPublicFloat.units</th>\n",
       "      <th>facts.us-gaap.AccountsPayable.label</th>\n",
       "      <th>facts.us-gaap.AccountsPayable.description</th>\n",
       "      <th>...</th>\n",
       "      <th>facts.us-gaap.EffectOfExchangeRateOnCashCashEquivalentsRestrictedCashAndRestrictedCashEquivalentsIncludingDisposalGroupAndDiscontinuedOperations.units</th>\n",
       "      <th>facts.us-gaap.ShortTermBorrowings.label</th>\n",
       "      <th>facts.us-gaap.ShortTermBorrowings.description</th>\n",
       "      <th>facts.us-gaap.ShortTermBorrowings.units</th>\n",
       "      <th>facts.us-gaap.StockholdersEquityNoteStockSplitConversionRatio1.label</th>\n",
       "      <th>facts.us-gaap.StockholdersEquityNoteStockSplitConversionRatio1.description</th>\n",
       "      <th>facts.us-gaap.StockholdersEquityNoteStockSplitConversionRatio1.units</th>\n",
       "      <th>facts.us-gaap.TreasuryStockCommonValue.label</th>\n",
       "      <th>facts.us-gaap.TreasuryStockCommonValue.description</th>\n",
       "      <th>facts.us-gaap.TreasuryStockCommonValue.units</th>\n",
       "    </tr>\n",
       "  </thead>\n",
       "  <tbody>\n",
       "    <tr>\n",
       "      <th>0</th>\n",
       "      <td>1018724</td>\n",
       "      <td>AMAZON.COM, INC.</td>\n",
       "      <td>Entity Common Stock, Shares Outstanding</td>\n",
       "      <td>Indicate number of shares or other units outst...</td>\n",
       "      <td>{'shares': [{'end': '2009-07-17', 'val': 43180...</td>\n",
       "      <td>Entity Public Float</td>\n",
       "      <td>The aggregate market value of the voting and n...</td>\n",
       "      <td>{'USD': [{'end': '2008-06-30', 'val': 23846135...</td>\n",
       "      <td>Accounts Payable (Deprecated 2009-01-31)</td>\n",
       "      <td>Carrying value as of the balance sheet date of...</td>\n",
       "      <td>...</td>\n",
       "      <td>{'USD': [{'start': '2020-07-01', 'end': '2021-...</td>\n",
       "      <td>Short-term Debt</td>\n",
       "      <td>Reflects the total carrying amount as of the b...</td>\n",
       "      <td>{'USD': [{'end': '2021-12-31', 'val': 31800000...</td>\n",
       "      <td>Stockholders' Equity Note, Stock Split, Conver...</td>\n",
       "      <td>Ratio applied to the conversion of stock split...</td>\n",
       "      <td>{'pure': [{'end': '2022-05-27', 'val': 20, 'ac...</td>\n",
       "      <td>Treasury Stock, Common, Value</td>\n",
       "      <td>Amount allocated to previously issued common s...</td>\n",
       "      <td>{'USD': [{'end': '2021-12-31', 'val': 18370000...</td>\n",
       "    </tr>\n",
       "  </tbody>\n",
       "</table>\n",
       "<p>1 rows × 1508 columns</p>\n",
       "</div>"
      ],
      "text/plain": [
       "       cik        entityName  \\\n",
       "0  1018724  AMAZON.COM, INC.   \n",
       "\n",
       "  facts.dei.EntityCommonStockSharesOutstanding.label  \\\n",
       "0            Entity Common Stock, Shares Outstanding   \n",
       "\n",
       "  facts.dei.EntityCommonStockSharesOutstanding.description  \\\n",
       "0  Indicate number of shares or other units outst...         \n",
       "\n",
       "  facts.dei.EntityCommonStockSharesOutstanding.units  \\\n",
       "0  {'shares': [{'end': '2009-07-17', 'val': 43180...   \n",
       "\n",
       "  facts.dei.EntityPublicFloat.label  \\\n",
       "0               Entity Public Float   \n",
       "\n",
       "             facts.dei.EntityPublicFloat.description  \\\n",
       "0  The aggregate market value of the voting and n...   \n",
       "\n",
       "                   facts.dei.EntityPublicFloat.units  \\\n",
       "0  {'USD': [{'end': '2008-06-30', 'val': 23846135...   \n",
       "\n",
       "        facts.us-gaap.AccountsPayable.label  \\\n",
       "0  Accounts Payable (Deprecated 2009-01-31)   \n",
       "\n",
       "           facts.us-gaap.AccountsPayable.description  ...  \\\n",
       "0  Carrying value as of the balance sheet date of...  ...   \n",
       "\n",
       "  facts.us-gaap.EffectOfExchangeRateOnCashCashEquivalentsRestrictedCashAndRestrictedCashEquivalentsIncludingDisposalGroupAndDiscontinuedOperations.units  \\\n",
       "0  {'USD': [{'start': '2020-07-01', 'end': '2021-...                                                                                                       \n",
       "\n",
       "  facts.us-gaap.ShortTermBorrowings.label  \\\n",
       "0                         Short-term Debt   \n",
       "\n",
       "       facts.us-gaap.ShortTermBorrowings.description  \\\n",
       "0  Reflects the total carrying amount as of the b...   \n",
       "\n",
       "             facts.us-gaap.ShortTermBorrowings.units  \\\n",
       "0  {'USD': [{'end': '2021-12-31', 'val': 31800000...   \n",
       "\n",
       "  facts.us-gaap.StockholdersEquityNoteStockSplitConversionRatio1.label  \\\n",
       "0  Stockholders' Equity Note, Stock Split, Conver...                     \n",
       "\n",
       "  facts.us-gaap.StockholdersEquityNoteStockSplitConversionRatio1.description  \\\n",
       "0  Ratio applied to the conversion of stock split...                           \n",
       "\n",
       "  facts.us-gaap.StockholdersEquityNoteStockSplitConversionRatio1.units  \\\n",
       "0  {'pure': [{'end': '2022-05-27', 'val': 20, 'ac...                     \n",
       "\n",
       "  facts.us-gaap.TreasuryStockCommonValue.label  \\\n",
       "0                Treasury Stock, Common, Value   \n",
       "\n",
       "  facts.us-gaap.TreasuryStockCommonValue.description  \\\n",
       "0  Amount allocated to previously issued common s...   \n",
       "\n",
       "        facts.us-gaap.TreasuryStockCommonValue.units  \n",
       "0  {'USD': [{'end': '2021-12-31', 'val': 18370000...  \n",
       "\n",
       "[1 rows x 1508 columns]"
      ]
     },
     "execution_count": 17,
     "metadata": {},
     "output_type": "execute_result"
    }
   ],
   "source": [
    "df.head(2)"
   ]
  },
  {
   "cell_type": "code",
   "execution_count": 42,
   "id": "c81bcc41-2050-4050-b8b5-01bf32a7081d",
   "metadata": {},
   "outputs": [
    {
     "data": {
      "text/plain": [
       "Index(['cik', 'entityName',\n",
       "       'facts.dei.EntityCommonStockSharesOutstanding.label',\n",
       "       'facts.dei.EntityCommonStockSharesOutstanding.description',\n",
       "       'facts.dei.EntityCommonStockSharesOutstanding.units.shares',\n",
       "       'facts.dei.EntityPublicFloat.label',\n",
       "       'facts.dei.EntityPublicFloat.description',\n",
       "       'facts.dei.EntityPublicFloat.units.USD',\n",
       "       'facts.us-gaap.AccountsPayable.label',\n",
       "       'facts.us-gaap.AccountsPayable.description',\n",
       "       ...\n",
       "       'facts.us-gaap.EffectOfExchangeRateOnCashCashEquivalentsRestrictedCashAndRestrictedCashEquivalentsIncludingDisposalGroupAndDiscontinuedOperations.units.USD',\n",
       "       'facts.us-gaap.ShortTermBorrowings.label',\n",
       "       'facts.us-gaap.ShortTermBorrowings.description',\n",
       "       'facts.us-gaap.ShortTermBorrowings.units.USD',\n",
       "       'facts.us-gaap.StockholdersEquityNoteStockSplitConversionRatio1.label',\n",
       "       'facts.us-gaap.StockholdersEquityNoteStockSplitConversionRatio1.description',\n",
       "       'facts.us-gaap.StockholdersEquityNoteStockSplitConversionRatio1.units.pure',\n",
       "       'facts.us-gaap.TreasuryStockCommonValue.label',\n",
       "       'facts.us-gaap.TreasuryStockCommonValue.description',\n",
       "       'facts.us-gaap.TreasuryStockCommonValue.units.USD'],\n",
       "      dtype='object', length=1510)"
      ]
     },
     "execution_count": 42,
     "metadata": {},
     "output_type": "execute_result"
    }
   ],
   "source": [
    "df.keys()"
   ]
  },
  {
   "cell_type": "code",
   "execution_count": 44,
   "id": "19c797a0-d766-4dd9-9267-c3e487dec3db",
   "metadata": {},
   "outputs": [
    {
     "data": {
      "text/plain": [
       "0    Entity Common Stock, Shares Outstanding\n",
       "Name: facts.dei.EntityCommonStockSharesOutstanding.label, dtype: object"
      ]
     },
     "execution_count": 44,
     "metadata": {},
     "output_type": "execute_result"
    }
   ],
   "source": [
    "df[\"facts.dei.EntityCommonStockSharesOutstanding.label\"]"
   ]
  },
  {
   "cell_type": "code",
   "execution_count": 46,
   "id": "47b9b1d9-e734-4099-934d-460a74f27de2",
   "metadata": {},
   "outputs": [
    {
     "name": "stdout",
     "output_type": "stream",
     "text": [
      "cik\n",
      "entityName\n",
      "facts\n"
     ]
    }
   ],
   "source": [
    "for i in data:\n",
    "    print(i)"
   ]
  },
  {
   "cell_type": "code",
   "execution_count": 47,
   "id": "61a05256-f34d-4769-8d38-a2b1c1a4876c",
   "metadata": {},
   "outputs": [
    {
     "name": "stdout",
     "output_type": "stream",
     "text": [
      "dei\n",
      "us-gaap\n"
     ]
    }
   ],
   "source": [
    "for i in data[\"facts\"]:\n",
    "    print(i)"
   ]
  },
  {
   "cell_type": "code",
   "execution_count": 51,
   "id": "396128b7-510e-41b1-a078-0f2b8be0cc6c",
   "metadata": {},
   "outputs": [],
   "source": [
    "metrices = []\n",
    "\n",
    "for i in data[\"facts\"][\"us-gaap\"]:\n",
    "    # print(i)\n",
    "    metrices.append(i)"
   ]
  },
  {
   "cell_type": "code",
   "execution_count": 53,
   "id": "f1595e28-dbb3-496d-b56f-01de300f5bdd",
   "metadata": {},
   "outputs": [
    {
     "name": "stdout",
     "output_type": "stream",
     "text": [
      "500\n"
     ]
    }
   ],
   "source": [
    "print(len(metrices))"
   ]
  },
  {
   "cell_type": "code",
   "execution_count": 54,
   "id": "5d4207d8-45ab-4e9e-b252-82d321aae0d8",
   "metadata": {},
   "outputs": [
    {
     "name": "stdout",
     "output_type": "stream",
     "text": [
      "label\n",
      "description\n",
      "units\n"
     ]
    }
   ],
   "source": [
    "for i in data[\"facts\"][\"us-gaap\"][metrices[0]]:\n",
    "    print(i)"
   ]
  },
  {
   "cell_type": "code",
   "execution_count": 65,
   "id": "13ee80b6-a457-4bc0-9443-8a8e9863b577",
   "metadata": {},
   "outputs": [
    {
     "name": "stdout",
     "output_type": "stream",
     "text": [
      "<class 'dict'>\n",
      "{'end': '2008-12-31', 'val': 3594000000, 'accn': '0001193125-09-154174', 'fy': 2009, 'fp': 'Q2', 'form': '10-Q', 'filed': '2009-07-24', 'frame': 'CY2008Q4I'}\n",
      "3594000000\n",
      "<class 'dict'>\n",
      "{'end': '2009-06-30', 'val': 2508000000, 'accn': '0001193125-09-154174', 'fy': 2009, 'fp': 'Q2', 'form': '10-Q', 'filed': '2009-07-24', 'frame': 'CY2009Q2I'}\n",
      "2508000000\n"
     ]
    }
   ],
   "source": [
    "for i in data[\"facts\"][\"us-gaap\"][metrices[0]][\"units\"][\"USD\"]:\n",
    "    print(type(i))\n",
    "    print(i)\n",
    "    print(i[\"val\"])"
   ]
  },
  {
   "cell_type": "code",
   "execution_count": 90,
   "id": "0c32c6ff-9ebd-453b-b5ed-743d11b20980",
   "metadata": {},
   "outputs": [
    {
     "name": "stderr",
     "output_type": "stream",
     "text": [
      " 10%|████████▍                                                                        | 52/500 [00:05<00:49,  9.00it/s]\n"
     ]
    },
    {
     "ename": "KeyboardInterrupt",
     "evalue": "",
     "output_type": "error",
     "traceback": [
      "\u001b[1;31m---------------------------------------------------------------------------\u001b[0m",
      "\u001b[1;31mKeyboardInterrupt\u001b[0m                         Traceback (most recent call last)",
      "Cell \u001b[1;32mIn [90], line 6\u001b[0m\n\u001b[0;32m      3\u001b[0m \u001b[38;5;66;03m# for i in tqdm(range(10)):\u001b[39;00m\n\u001b[0;32m      4\u001b[0m \u001b[38;5;66;03m#     sleep(3)\u001b[39;00m\n\u001b[0;32m      5\u001b[0m \u001b[38;5;28;01mfor\u001b[39;00m i \u001b[38;5;129;01min\u001b[39;00m tqdm(data[\u001b[38;5;124m\"\u001b[39m\u001b[38;5;124mfacts\u001b[39m\u001b[38;5;124m\"\u001b[39m][\u001b[38;5;124m\"\u001b[39m\u001b[38;5;124mus-gaap\u001b[39m\u001b[38;5;124m\"\u001b[39m]):\n\u001b[1;32m----> 6\u001b[0m     sleep(\u001b[38;5;241m0.1\u001b[39m)\n",
      "\u001b[1;31mKeyboardInterrupt\u001b[0m: "
     ]
    }
   ],
   "source": [
    "from time import sleep\n",
    "from tqdm import tqdm\n",
    "# for i in tqdm(range(10)):\n",
    "#     sleep(3)\n",
    "for i in tqdm(data[\"facts\"][\"us-gaap\"]):\n",
    "    sleep(0.1)"
   ]
  },
  {
   "cell_type": "code",
   "execution_count": 122,
   "id": "d8a320af-63bd-4ed9-b157-afee69eec270",
   "metadata": {},
   "outputs": [],
   "source": [
    "df = pd.DataFrame()"
   ]
  },
  {
   "cell_type": "code",
   "execution_count": 123,
   "id": "88a81964-d274-4b55-9aba-8f1a4dd5e270",
   "metadata": {},
   "outputs": [
    {
     "name": "stderr",
     "output_type": "stream",
     "text": [
      "100%|████████████████████████████████████████████████████████████████████████████████| 500/500 [00:23<00:00, 21.32it/s]\n"
     ]
    }
   ],
   "source": [
    "\n",
    "for i in tqdm(data[\"facts\"][\"us-gaap\"]):\n",
    "    label = data[\"facts\"][\"us-gaap\"][i][\"label\"]\n",
    "    # print(label)\n",
    "    if(\"Deprecated\" in label):\n",
    "        continue\n",
    "    key = list(data[\"facts\"][\"us-gaap\"][i][\"units\"].keys())[0]\n",
    "    for row in data[\"facts\"][\"us-gaap\"][i][\"units\"][key]:\n",
    "        # print(row)\n",
    "        # print(row[\"filed\"])\n",
    "        # print(row[\"val\"])\n",
    "        df = df.append({\"date\": row[\"filed\"], \"unit\": label, \"fp\": row[\"fp\"], \"val\": int(row[\"val\"])}, ignore_index=True)\n",
    "    # print(label)"
   ]
  },
  {
   "cell_type": "code",
   "execution_count": 230,
   "id": "0fbc55f5-5b52-4003-9233-6990a5f12f50",
   "metadata": {},
   "outputs": [
    {
     "data": {
      "text/plain": [
       "(21582, 4)"
      ]
     },
     "execution_count": 230,
     "metadata": {},
     "output_type": "execute_result"
    }
   ],
   "source": [
    "df.shape"
   ]
  },
  {
   "cell_type": "code",
   "execution_count": 231,
   "id": "01deb465-08d1-402f-b169-8edd31c655de",
   "metadata": {},
   "outputs": [
    {
     "data": {
      "text/html": [
       "<div>\n",
       "<style scoped>\n",
       "    .dataframe tbody tr th:only-of-type {\n",
       "        vertical-align: middle;\n",
       "    }\n",
       "\n",
       "    .dataframe tbody tr th {\n",
       "        vertical-align: top;\n",
       "    }\n",
       "\n",
       "    .dataframe thead th {\n",
       "        text-align: right;\n",
       "    }\n",
       "</style>\n",
       "<table border=\"1\" class=\"dataframe\">\n",
       "  <thead>\n",
       "    <tr style=\"text-align: right;\">\n",
       "      <th></th>\n",
       "      <th>date</th>\n",
       "      <th>unit</th>\n",
       "      <th>fp</th>\n",
       "      <th>val</th>\n",
       "    </tr>\n",
       "  </thead>\n",
       "  <tbody>\n",
       "    <tr>\n",
       "      <th>0</th>\n",
       "      <td>2009-10-23</td>\n",
       "      <td>Accounts Payable, Current</td>\n",
       "      <td>Q3</td>\n",
       "      <td>3594000000</td>\n",
       "    </tr>\n",
       "  </tbody>\n",
       "</table>\n",
       "</div>"
      ],
      "text/plain": [
       "         date                       unit  fp         val\n",
       "0  2009-10-23  Accounts Payable, Current  Q3  3594000000"
      ]
     },
     "execution_count": 231,
     "metadata": {},
     "output_type": "execute_result"
    }
   ],
   "source": [
    "df.head(1)"
   ]
  },
  {
   "cell_type": "code",
   "execution_count": 232,
   "id": "31226c53-b2ed-44d5-80fb-5e6a9f590539",
   "metadata": {},
   "outputs": [],
   "source": [
    "# pd.crosstab(df.date, df.unit, normalize=False)"
   ]
  },
  {
   "cell_type": "code",
   "execution_count": 233,
   "id": "e86cdc75-d656-4cdd-9889-fa786d5b1c3e",
   "metadata": {},
   "outputs": [
    {
     "data": {
      "text/html": [
       "<div>\n",
       "<style scoped>\n",
       "    .dataframe tbody tr th:only-of-type {\n",
       "        vertical-align: middle;\n",
       "    }\n",
       "\n",
       "    .dataframe tbody tr th {\n",
       "        vertical-align: top;\n",
       "    }\n",
       "\n",
       "    .dataframe thead th {\n",
       "        text-align: right;\n",
       "    }\n",
       "</style>\n",
       "<table border=\"1\" class=\"dataframe\">\n",
       "  <thead>\n",
       "    <tr style=\"text-align: right;\">\n",
       "      <th></th>\n",
       "      <th>date</th>\n",
       "      <th>unit</th>\n",
       "      <th>fp</th>\n",
       "      <th>val</th>\n",
       "    </tr>\n",
       "  </thead>\n",
       "  <tbody>\n",
       "    <tr>\n",
       "      <th>0</th>\n",
       "      <td>2009-10-23</td>\n",
       "      <td>Accounts Payable, Current</td>\n",
       "      <td>Q3</td>\n",
       "      <td>3594000000</td>\n",
       "    </tr>\n",
       "  </tbody>\n",
       "</table>\n",
       "</div>"
      ],
      "text/plain": [
       "         date                       unit  fp         val\n",
       "0  2009-10-23  Accounts Payable, Current  Q3  3594000000"
      ]
     },
     "execution_count": 233,
     "metadata": {},
     "output_type": "execute_result"
    }
   ],
   "source": [
    "df.head(1)"
   ]
  },
  {
   "cell_type": "code",
   "execution_count": 234,
   "id": "892c411d-651d-40c1-af23-4bd00db67348",
   "metadata": {},
   "outputs": [],
   "source": [
    "df['date'] =  pd.to_datetime(df['date'], format='%Y-%m-%d')"
   ]
  },
  {
   "cell_type": "code",
   "execution_count": 235,
   "id": "92df6d4f-ca68-4a0a-a5fa-96ef7f5264b4",
   "metadata": {},
   "outputs": [],
   "source": [
    "dates = df['date'].unique()"
   ]
  },
  {
   "cell_type": "code",
   "execution_count": 236,
   "id": "1360f1a2-8b77-4173-90ff-a4724a3d5554",
   "metadata": {},
   "outputs": [],
   "source": [
    "dates.sort()"
   ]
  },
  {
   "cell_type": "code",
   "execution_count": 164,
   "id": "9cdf4bc9-50e0-4246-b4e4-3e9eadb43828",
   "metadata": {},
   "outputs": [],
   "source": [
    "# print(dates)\n",
    "# for index in range(1, len(dates)):\n",
    "#     if(dates[index]<dates[index-1]):\n",
    "#         print(\"error\")\n",
    "#         print(index)\n",
    "# print(len(dates))"
   ]
  },
  {
   "cell_type": "code",
   "execution_count": 251,
   "id": "f633eb9e-5808-4e84-925e-a8d71da807cc",
   "metadata": {},
   "outputs": [
    {
     "name": "stderr",
     "output_type": "stream",
     "text": [
      "100%|██████████████████████████████████████████████████████████████████████████████████| 54/54 [00:13<00:00,  4.14it/s]\n"
     ]
    }
   ],
   "source": [
    "init_unit = defaultdict(int)\n",
    "df2 = pd.DataFrame()\n",
    "for date in tqdm(dates):\n",
    "    temp = df[(df['date'] == date)]\n",
    "    # print(temp.shape)\n",
    "    newdf = temp.drop_duplicates(subset = ['date', 'unit'], keep = 'last').reset_index(drop = True)\n",
    "    # print(\"         \", newdf.shape)\n",
    "    units = list(newdf[\"unit\"].unique())\n",
    "    fp = list(newdf[\"fp\"].unique())\n",
    "    # print(fp)\n",
    "    # break\n",
    "    for unit in units:\n",
    "        # print(newdf[(newdf['unit'] == unit)])\n",
    "        # print((newdf[(newdf['unit'] == unit)]['fp'].values[0]))\n",
    "        # print(newdf[(newdf['unit'] == unit)]['fp'][0])\n",
    "        if(init_unit.get(unit, None) == None):\n",
    "            curr_val = newdf[(newdf['unit'] == unit)]['val'].values[0]\n",
    "            new_val = 0\n",
    "            init_unit[unit] = 1\n",
    "            if (curr_val!=0):\n",
    "                new_val = 1\n",
    "                init_unit[unit] = curr_val\n",
    "            # year = date.astype('datetime64[Y]').astype(int) + 1970\n",
    "            # month = date.astype('datetime64[M]').astype(int) % 12 + 1\n",
    "            # if((year == date_temp.year) & (month == date_temp.month)):# & (unit == \"Earnings Per Share, Basic\")):\n",
    "            #     print(unit)\n",
    "            #     print(new_val)\n",
    "            #     print(\"here\")\n",
    "            fp = newdf[(newdf['unit'] == unit)]['fp'].values[0]\n",
    "            df2 = df2.append({\"date\": date, \"unit\": unit, \"fp\": fp,\"val\": new_val}, ignore_index=True)\n",
    "        else:\n",
    "            curr_val = newdf[(newdf['unit'] == unit)]['val'].values[0]\n",
    "            new_val = 0\n",
    "            new_val = ((curr_val - init_unit.get(unit))/init_unit.get(unit))\n",
    "            # year = date.astype('datetime64[Y]').astype(int) + 1970\n",
    "            # month = date.astype('datetime64[M]').astype(int) % 12 + 1\n",
    "            # # print(type(date))\n",
    "            # # print(year)\n",
    "            # # print(month)\n",
    "            # # print(days)\n",
    "            # # print(type(date_temp))\n",
    "            # if((year == date_temp.year) & (month == date_temp.month)):# & (unit == \"Earnings Per Share, Basic\")):\n",
    "            #     print(init_unit.get(unit))\n",
    "            #     print(unit)\n",
    "            #     print(\"new_val - \",new_val)\n",
    "            init_unit[unit] = 1\n",
    "            if(curr_val!=0):\n",
    "                init_unit[unit] = curr_val\n",
    "            fp = newdf[(newdf['unit'] == unit)]['fp'].values[0]\n",
    "            df2 = df2.append({\"date\": date, \"unit\": unit, \"fp\": fp,\"val\": new_val}, ignore_index=True)"
   ]
  },
  {
   "cell_type": "code",
   "execution_count": 252,
   "id": "d3665184-48ca-40c4-9590-69ac9e4649b8",
   "metadata": {},
   "outputs": [
    {
     "data": {
      "text/html": [
       "<div>\n",
       "<style scoped>\n",
       "    .dataframe tbody tr th:only-of-type {\n",
       "        vertical-align: middle;\n",
       "    }\n",
       "\n",
       "    .dataframe tbody tr th {\n",
       "        vertical-align: top;\n",
       "    }\n",
       "\n",
       "    .dataframe thead th {\n",
       "        text-align: right;\n",
       "    }\n",
       "</style>\n",
       "<table border=\"1\" class=\"dataframe\">\n",
       "  <thead>\n",
       "    <tr style=\"text-align: right;\">\n",
       "      <th></th>\n",
       "      <th>date</th>\n",
       "      <th>unit</th>\n",
       "      <th>fp</th>\n",
       "      <th>val</th>\n",
       "    </tr>\n",
       "  </thead>\n",
       "  <tbody>\n",
       "    <tr>\n",
       "      <th>0</th>\n",
       "      <td>2009-07-24</td>\n",
       "      <td>Accounts Receivable, after Allowance for Credi...</td>\n",
       "      <td>Q2</td>\n",
       "      <td>1.0</td>\n",
       "    </tr>\n",
       "  </tbody>\n",
       "</table>\n",
       "</div>"
      ],
      "text/plain": [
       "        date                                               unit  fp  val\n",
       "0 2009-07-24  Accounts Receivable, after Allowance for Credi...  Q2  1.0"
      ]
     },
     "execution_count": 252,
     "metadata": {},
     "output_type": "execute_result"
    }
   ],
   "source": [
    "df2.head(1)"
   ]
  },
  {
   "cell_type": "code",
   "execution_count": 253,
   "id": "defd90f8-ec18-4647-b5d0-461f3244531d",
   "metadata": {},
   "outputs": [
    {
     "name": "stdout",
     "output_type": "stream",
     "text": [
      "6054\n"
     ]
    }
   ],
   "source": [
    "print(len(df2.val.unique()))"
   ]
  },
  {
   "cell_type": "code",
   "execution_count": 255,
   "id": "b00abe7c-1358-4163-a9ac-777d911e4c09",
   "metadata": {},
   "outputs": [],
   "source": [
    "df2.to_csv('official_reports.csv')"
   ]
  },
  {
   "cell_type": "code",
   "execution_count": 203,
   "id": "0a91913b-bdab-472c-ba41-41dc1b405fcd",
   "metadata": {},
   "outputs": [
    {
     "name": "stdout",
     "output_type": "stream",
     "text": [
      "2010-07-23 00:00:00\n"
     ]
    }
   ],
   "source": [
    "from datetime import datetime\n",
    "date_temp = datetime.strptime(\"2010-07-23\", '%Y-%m-%d')\n",
    "print(date_temp)"
   ]
  },
  {
   "cell_type": "code",
   "execution_count": 206,
   "id": "04dceaca-da8a-4abf-b6aa-9b96a73c9933",
   "metadata": {},
   "outputs": [
    {
     "name": "stdout",
     "output_type": "stream",
     "text": [
      "          date                       unit  fp  val\n",
      "325 2010-07-23  Earnings Per Share, Basic  Q2  NaN\n"
     ]
    }
   ],
   "source": [
    "print(df2[((df2.date == date_temp) & (df2.unit == \"Earnings Per Share, Basic\"))])"
   ]
  },
  {
   "cell_type": "code",
   "execution_count": 257,
   "id": "bc9f27c6-50a9-49c4-920d-897ad4243c58",
   "metadata": {},
   "outputs": [
    {
     "data": {
      "text/plain": [
       "(7974, 4)"
      ]
     },
     "execution_count": 257,
     "metadata": {},
     "output_type": "execute_result"
    }
   ],
   "source": [
    "df2.shape"
   ]
  },
  {
   "cell_type": "code",
   "execution_count": null,
   "id": "a4249363-adf9-43e8-94b2-929700e172cb",
   "metadata": {},
   "outputs": [],
   "source": []
  }
 ],
 "metadata": {
  "kernelspec": {
   "display_name": "urbanenv",
   "language": "python",
   "name": "urbanenv"
  },
  "language_info": {
   "codemirror_mode": {
    "name": "ipython",
    "version": 3
   },
   "file_extension": ".py",
   "mimetype": "text/x-python",
   "name": "python",
   "nbconvert_exporter": "python",
   "pygments_lexer": "ipython3",
   "version": "3.10.4"
  }
 },
 "nbformat": 4,
 "nbformat_minor": 5
}
